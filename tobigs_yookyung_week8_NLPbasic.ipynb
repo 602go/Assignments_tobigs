{
 "cells": [
  {
   "cell_type": "markdown",
   "metadata": {},
   "source": [
    "# [이시국 코로나 sns 분석]"
   ]
  },
  {
   "cell_type": "markdown",
   "metadata": {},
   "source": [
    "## Step 1) 트위터&네이버블로그 크롤링"
   ]
  },
  {
   "cell_type": "markdown",
   "metadata": {},
   "source": [
    "### 1. 트위터\n",
    "#### \"우한폐렴\" or \"코로나\"\n",
    "GetOldTweet3 패키지 사용"
   ]
  },
  {
   "cell_type": "code",
   "execution_count": 1,
   "metadata": {},
   "outputs": [],
   "source": [
    "import GetOldTweets3 as got\n",
    "from bs4 import BeautifulSoup"
   ]
  },
  {
   "cell_type": "code",
   "execution_count": 3,
   "metadata": {},
   "outputs": [
    {
     "name": "stdout",
     "output_type": "stream",
     "text": [
      "=== 설정된 트윗 수집 기간은 2020-03-19 에서 2020-03-19 까지 입니다 ===\n",
      "=== 총 1일 간의 데이터 수집 ===\n"
     ]
    }
   ],
   "source": [
    "# 가져올 범위를 정의\n",
    "\n",
    "import datetime\n",
    "\n",
    "days_range = []\n",
    "\n",
    "start = datetime.datetime.strptime(\"2020-03-19\", \"%Y-%m-%d\")\n",
    "end = datetime.datetime.strptime(\"2020-03-20\", \"%Y-%m-%d\")\n",
    "date_generated = [start + datetime.timedelta(days=x) for x in range(0, (end-start).days)]\n",
    "\n",
    "for date in date_generated:\n",
    "    days_range.append(date.strftime(\"%Y-%m-%d\"))\n",
    "\n",
    "print(\"=== 설정된 트윗 수집 기간은 {} 에서 {} 까지 입니다 ===\".format(days_range[0], days_range[-1]))\n",
    "print(\"=== 총 {}일 간의 데이터 수집 ===\".format(len(days_range)))"
   ]
  },
  {
   "cell_type": "code",
   "execution_count": 4,
   "metadata": {},
   "outputs": [
    {
     "name": "stdout",
     "output_type": "stream",
     "text": [
      "Collecting data start.. from 2020-03-19 to 2020-03-19\n",
      "Collecting data end.. 45.68 Minutes\n",
      "=== Total num of tweets is 27911 ===\n"
     ]
    }
   ],
   "source": [
    "# 특정 검색어가 포함된 트윗 검색하기 (quary search)\n",
    "# 검색어 : 우한폐렴, 코로나\n",
    "\n",
    "import time\n",
    "\n",
    "# 수집 기간 맞추기\n",
    "start_date = days_range[0]\n",
    "end_date = (datetime.datetime.strptime(days_range[-1], \"%Y-%m-%d\") \n",
    "            + datetime.timedelta(days=1)).strftime(\"%Y-%m-%d\") # setUntil이 끝을 포함하지 않으므로, day + 1\n",
    "\n",
    "# 트윗 수집 기준 정의. GetOldTweet3는 tweetCriteria로 수집 기준을 정의할 수 있다.\n",
    "tweetCriteria = got.manager.TweetCriteria().setQuerySearch('우한폐렴 OR 코로나')\\\n",
    "                                           .setSince(start_date)\\\n",
    "                                           .setUntil(end_date)\\\n",
    "                                           .setMaxTweets(-1)\n",
    "\n",
    "# 수집 with GetOldTweet3\n",
    "print(\"Collecting data start.. from {} to {}\".format(days_range[0], days_range[-1]))\n",
    "start_time = time.time()\n",
    "\n",
    "tweet = got.manager.TweetManager.getTweets(tweetCriteria)\n",
    "\n",
    "print(\"Collecting data end.. {0:0.2f} Minutes\".format((time.time() - start_time)/60))\n",
    "print(\"=== Total num of tweets is {} ===\".format(len(tweet)))"
   ]
  },
  {
   "cell_type": "markdown",
   "metadata": {},
   "source": [
    "3/15~3/19 5일간의 트위터를 4시간에 걸쳐서 14만개 크롤링 완료(그러나.. 밑 코드 돌아가는데 4일 걸린다고 떠서 하루 존버하다가 결국 하루치 데이터만 다시 크롤링하기로 했다) -> 45분에 걸쳐서 2만7천개 크롤링 완료"
   ]
  },
  {
   "cell_type": "code",
   "execution_count": 5,
   "metadata": {},
   "outputs": [
    {
     "name": "stderr",
     "output_type": "stream",
     "text": [
      "C:\\Anaconda3\\lib\\site-packages\\ipykernel_launcher.py:9: TqdmDeprecationWarning: This function will be removed in tqdm==5.0.0\n",
      "Please use `tqdm.notebook.tqdm` instead of `tqdm.tqdm_notebook`\n",
      "  if __name__ == '__main__':\n"
     ]
    },
    {
     "data": {
      "application/vnd.jupyter.widget-view+json": {
       "model_id": "e8cf78eb022c404291681d84d6c9f3c3",
       "version_major": 2,
       "version_minor": 0
      },
      "text/plain": [
       "HBox(children=(FloatProgress(value=0.0, max=27911.0), HTML(value='')))"
      ]
     },
     "metadata": {},
     "output_type": "display_data"
    },
    {
     "name": "stdout",
     "output_type": "stream",
     "text": [
      "\n"
     ]
    }
   ],
   "source": [
    "# 원하는 변수 골라서 저장하기\n",
    "\n",
    "from random import uniform\n",
    "from tqdm import tqdm_notebook\n",
    "\n",
    "# initialize\n",
    "tweet_list = []\n",
    "\n",
    "for index in tqdm_notebook(tweet):\n",
    "    \n",
    "    # 메타데이터 목록 \n",
    "    username = index.username\n",
    "    link = index.permalink \n",
    "    content = index.text\n",
    "    tweet_date = index.date.strftime(\"%Y-%m-%d\")\n",
    "    tweet_time = index.date.strftime(\"%H:%M:%S\")\n",
    "    #retweets = index.retweets\n",
    "\n",
    "    \n",
    "    # === 유저 정보 수집 시작 === #시간 절약을 위해 주석처리\n",
    "    #try:\n",
    "        #personal_link = 'https://twitter.com/' + username\n",
    "        #bs_obj = get_bs_obj(personal_link)\n",
    "        #uls = bs_obj.find(\"ul\", {\"class\": \"ProfileNav-list\"}).find_all(\"li\")\n",
    "        #div = bs_obj.find(\"div\", {\"class\": \"ProfileHeaderCard-joinDate\"}).find_all(\"span\")[1][\"title\"]\n",
    "\n",
    "\n",
    "        # 가입일, 전체 트윗 수, 팔로잉 수, 팔로워 수\n",
    "        #joined_date = div.split('-')[1].strip()\n",
    "        #num_tweets = uls[0].find(\"span\", {\"class\": \"ProfileNav-value\"}).text.strip()\n",
    "        #num_following = uls[1].find(\"span\", {\"class\": \"ProfileNav-value\"}).text.strip()\n",
    "        #num_follower = uls[2].find(\"span\", {\"class\": \"ProfileNav-value\"}).text.strip()\n",
    "    \n",
    "    #except AttributeError:\n",
    "        #print(\"=== Attribute error occurs at {} ===\".format(link))\n",
    "        #print(\"link : {}\".format(personal_link))   \n",
    "        #pass\n",
    "     \n",
    "    # 결과 합치기\n",
    "    info_list = [tweet_date, tweet_time, username, content, link]\n",
    "    tweet_list.append(info_list)\n",
    "    \n",
    "    # 휴식 \n",
    "    time.sleep(uniform(1,2))"
   ]
  },
  {
   "cell_type": "markdown",
   "metadata": {},
   "source": [
    "10시간에 걸쳐서 2만7천개 처리 완료(tqdm으로 시간 띄워놨었는데 커널 재시작하니 없어져버렸다. 다시 돌릴 순 없으니 그냥 넘어간다)"
   ]
  },
  {
   "cell_type": "code",
   "execution_count": 6,
   "metadata": {},
   "outputs": [],
   "source": [
    "# 데이터프레임으로 저장하기\n",
    "\n",
    "import pandas as pd\n",
    "\n",
    "twitter_df = pd.DataFrame(tweet_list, \n",
    "                          columns = [\"date\", \"time\", \"user_name\", \"text\", \"link\"])"
   ]
  },
  {
   "cell_type": "code",
   "execution_count": 9,
   "metadata": {},
   "outputs": [
    {
     "data": {
      "text/html": [
       "<div>\n",
       "<style scoped>\n",
       "    .dataframe tbody tr th:only-of-type {\n",
       "        vertical-align: middle;\n",
       "    }\n",
       "\n",
       "    .dataframe tbody tr th {\n",
       "        vertical-align: top;\n",
       "    }\n",
       "\n",
       "    .dataframe thead th {\n",
       "        text-align: right;\n",
       "    }\n",
       "</style>\n",
       "<table border=\"1\" class=\"dataframe\">\n",
       "  <thead>\n",
       "    <tr style=\"text-align: right;\">\n",
       "      <th></th>\n",
       "      <th>date</th>\n",
       "      <th>time</th>\n",
       "      <th>user_name</th>\n",
       "      <th>text</th>\n",
       "      <th>link</th>\n",
       "    </tr>\n",
       "  </thead>\n",
       "  <tbody>\n",
       "    <tr>\n",
       "      <th>0</th>\n",
       "      <td>2020-03-19</td>\n",
       "      <td>23:59:59</td>\n",
       "      <td>bjw078931</td>\n",
       "      <td>[다음카페] 능력이 있어야 위기가 기회다. 위기이어야 기회가 있다. 코로나 19 감...</td>\n",
       "      <td>https://twitter.com/bjw078931/status/124079015...</td>\n",
       "    </tr>\n",
       "    <tr>\n",
       "      <th>1</th>\n",
       "      <td>2020-03-19</td>\n",
       "      <td>23:59:59</td>\n",
       "      <td>dango_uu</td>\n",
       "      <td>ㄱ아트도 봐야하는데 코로나때문에...</td>\n",
       "      <td>https://twitter.com/dango_uu/status/1240790151...</td>\n",
       "    </tr>\n",
       "    <tr>\n",
       "      <th>2</th>\n",
       "      <td>2020-03-19</td>\n",
       "      <td>23:59:52</td>\n",
       "      <td>ipulip41</td>\n",
       "      <td>美 국무부, 전세계 ‘여행금지’ 경보... 미국 내 코로나19 급속 확산 http:...</td>\n",
       "      <td>https://twitter.com/ipulip41/status/1240790122...</td>\n",
       "    </tr>\n",
       "    <tr>\n",
       "      <th>3</th>\n",
       "      <td>2020-03-19</td>\n",
       "      <td>23:59:45</td>\n",
       "      <td>6882c93abe3b4a1</td>\n",
       "      <td>펜스 부통령이 TF를 이끌게 되면서 코로나19 사태를 공중보건 위기이자 언론대응 위...</td>\n",
       "      <td>https://twitter.com/6882c93abe3b4a1/status/124...</td>\n",
       "    </tr>\n",
       "    <tr>\n",
       "      <th>4</th>\n",
       "      <td>2020-03-19</td>\n",
       "      <td>23:59:45</td>\n",
       "      <td>moonsoonc</td>\n",
       "      <td>감자: 지구상에서 가장 강인한 식물! 우리는 이겨낸다. 시험에 드는 시간 오늘도 1...</td>\n",
       "      <td>https://twitter.com/moonsoonc/status/124079009...</td>\n",
       "    </tr>\n",
       "    <tr>\n",
       "      <th>...</th>\n",
       "      <td>...</td>\n",
       "      <td>...</td>\n",
       "      <td>...</td>\n",
       "      <td>...</td>\n",
       "      <td>...</td>\n",
       "    </tr>\n",
       "    <tr>\n",
       "      <th>27906</th>\n",
       "      <td>2020-03-19</td>\n",
       "      <td>00:00:17</td>\n",
       "      <td>ja_nassem</td>\n",
       "      <td>일가나쌤의일본뉴스코로나19에어로졸로3시간생존미국연구그룹발표(일한자막 일부공개) (출...</td>\n",
       "      <td>https://twitter.com/ja_nassem/status/124042783...</td>\n",
       "    </tr>\n",
       "    <tr>\n",
       "      <th>27907</th>\n",
       "      <td>2020-03-19</td>\n",
       "      <td>00:00:11</td>\n",
       "      <td>T1LoL</td>\n",
       "      <td>코로나19 피해 복구 및 방지를 위해 진행되었던 릴레이 기부 스트리밍에서 모금된 3...</td>\n",
       "      <td>https://twitter.com/T1LoL/status/1240427815624...</td>\n",
       "    </tr>\n",
       "    <tr>\n",
       "      <th>27908</th>\n",
       "      <td>2020-03-19</td>\n",
       "      <td>00:00:04</td>\n",
       "      <td>xiahrang</td>\n",
       "      <td>좋아하는 극인데 왜이리 기분이 다운되냐 ㅠ 코로나 개객기 ㅜ</td>\n",
       "      <td>https://twitter.com/xiahrang/status/1240427783...</td>\n",
       "    </tr>\n",
       "    <tr>\n",
       "      <th>27909</th>\n",
       "      <td>2020-03-19</td>\n",
       "      <td>00:00:02</td>\n",
       "      <td>korea0999</td>\n",
       "      <td>도올 “한국 기독교 ‘구약 코로나’에 감염… ‘원조 예수’로 돌아와야” (출처 : ...</td>\n",
       "      <td>https://twitter.com/korea0999/status/124042777...</td>\n",
       "    </tr>\n",
       "    <tr>\n",
       "      <th>27910</th>\n",
       "      <td>2020-03-19</td>\n",
       "      <td>00:00:01</td>\n",
       "      <td>blues114</td>\n",
       "      <td>시흥시 코로나19 감염 예방 사회적거리두기 비대면 스마트폰 결제 모바일 시루 각광</td>\n",
       "      <td>https://twitter.com/blues114/status/1240427771...</td>\n",
       "    </tr>\n",
       "  </tbody>\n",
       "</table>\n",
       "<p>27911 rows × 5 columns</p>\n",
       "</div>"
      ],
      "text/plain": [
       "             date      time        user_name  \\\n",
       "0      2020-03-19  23:59:59        bjw078931   \n",
       "1      2020-03-19  23:59:59         dango_uu   \n",
       "2      2020-03-19  23:59:52         ipulip41   \n",
       "3      2020-03-19  23:59:45  6882c93abe3b4a1   \n",
       "4      2020-03-19  23:59:45        moonsoonc   \n",
       "...           ...       ...              ...   \n",
       "27906  2020-03-19  00:00:17        ja_nassem   \n",
       "27907  2020-03-19  00:00:11            T1LoL   \n",
       "27908  2020-03-19  00:00:04         xiahrang   \n",
       "27909  2020-03-19  00:00:02        korea0999   \n",
       "27910  2020-03-19  00:00:01         blues114   \n",
       "\n",
       "                                                    text  \\\n",
       "0      [다음카페] 능력이 있어야 위기가 기회다. 위기이어야 기회가 있다. 코로나 19 감...   \n",
       "1                                   ㄱ아트도 봐야하는데 코로나때문에...   \n",
       "2      美 국무부, 전세계 ‘여행금지’ 경보... 미국 내 코로나19 급속 확산 http:...   \n",
       "3      펜스 부통령이 TF를 이끌게 되면서 코로나19 사태를 공중보건 위기이자 언론대응 위...   \n",
       "4      감자: 지구상에서 가장 강인한 식물! 우리는 이겨낸다. 시험에 드는 시간 오늘도 1...   \n",
       "...                                                  ...   \n",
       "27906  일가나쌤의일본뉴스코로나19에어로졸로3시간생존미국연구그룹발표(일한자막 일부공개) (출...   \n",
       "27907  코로나19 피해 복구 및 방지를 위해 진행되었던 릴레이 기부 스트리밍에서 모금된 3...   \n",
       "27908                  좋아하는 극인데 왜이리 기분이 다운되냐 ㅠ 코로나 개객기 ㅜ   \n",
       "27909  도올 “한국 기독교 ‘구약 코로나’에 감염… ‘원조 예수’로 돌아와야” (출처 : ...   \n",
       "27910     시흥시 코로나19 감염 예방 사회적거리두기 비대면 스마트폰 결제 모바일 시루 각광    \n",
       "\n",
       "                                                    link  \n",
       "0      https://twitter.com/bjw078931/status/124079015...  \n",
       "1      https://twitter.com/dango_uu/status/1240790151...  \n",
       "2      https://twitter.com/ipulip41/status/1240790122...  \n",
       "3      https://twitter.com/6882c93abe3b4a1/status/124...  \n",
       "4      https://twitter.com/moonsoonc/status/124079009...  \n",
       "...                                                  ...  \n",
       "27906  https://twitter.com/ja_nassem/status/124042783...  \n",
       "27907  https://twitter.com/T1LoL/status/1240427815624...  \n",
       "27908  https://twitter.com/xiahrang/status/1240427783...  \n",
       "27909  https://twitter.com/korea0999/status/124042777...  \n",
       "27910  https://twitter.com/blues114/status/1240427771...  \n",
       "\n",
       "[27911 rows x 5 columns]"
      ]
     },
     "execution_count": 9,
     "metadata": {},
     "output_type": "execute_result"
    }
   ],
   "source": [
    "twitter_df"
   ]
  },
  {
   "cell_type": "code",
   "execution_count": 7,
   "metadata": {},
   "outputs": [],
   "source": [
    "# csv 파일 만들기\n",
    "twitter_df.to_csv(\"twitter_crawling.csv\", index=False)\n"
   ]
  },
  {
   "cell_type": "code",
   "execution_count": 111,
   "metadata": {},
   "outputs": [
    {
     "name": "stderr",
     "output_type": "stream",
     "text": [
      "C:\\Anaconda3\\lib\\site-packages\\xlsxwriter\\worksheet.py:832: UserWarning: Ignoring URL 'https://news.v.daum.net/v/20200320052906510%20뒷짐지다%20코로나19에%20당한%20독일서%201천만%20감염·경제침체%20경고음.%20독일%20질병관리본부%20소장,%20이런%20조치가%20제대로%20취해지지%20않으면%20100일%20안에%20독일%20내%20감염자가%201천만%20명에%20이를%20수%20있다고%20경고.%20미국과%20유럽은%20난리%20중.%20어느%20나라가%20코로나19%20에%20잘%20대처했나요?' with link or location/anchor > 255 characters since it exceeds Excel's limit for URLS\n",
      "  force_unicode(url))\n",
      "C:\\Anaconda3\\lib\\site-packages\\xlsxwriter\\worksheet.py:832: UserWarning: Ignoring URL 'https://dailyfeed.kr/3002253/158462993711%20'전세계%20코로나19%20사망%209천명%20넘어%20유럽에서%204천134명으로%20가장%20많은%20사망자가%20나왔고,%20중국을%20포함한%20아시아에서%203천416명이%20숨졌다고%20AFP는%20전했다.%20같은%20시간%20미국%20존스홉킨스대학의%20실시간%20집계로는%20전%20세계%20누적%20사망자가%208천966명,%20누적%20확진자가%2022만1천416명이다.' with link or location/anchor > 255 characters since it exceeds Excel's limit for URLS\n",
      "  force_unicode(url))\n",
      "C:\\Anaconda3\\lib\\site-packages\\xlsxwriter\\worksheet.py:832: UserWarning: Ignoring URL 'https://twitter.com/starrynight0608/status/1209846841233170432?s=19%20무대위종여니가%20너무너무%20보고싶어요%20ㅠㅠ%20—%20ㅠㅠ%20컴백두%20콘서트두%20보고십어요%20얼른%20코로나%20지나가랍...ㅠㅡㅜ%20https://lap78.ask.fm/igoto/45DKECPW7B667HQMHN2IG6NM5CGDTKITRT27HANEC3QLPPN2ZEY5KMYNNRKMSRJSKC2PIEYJIFXD2WC7Y4YO4R56M3ZLDERR5QAQFPSOBJRSII6PAWFDIEXDQPQ65U3XQOW24CSLZ3OHNEEMIOIBYRLX7DDWVN4I2XKWL3DFQCZLAZ6JAY6HTW6H6ICIZKVDWIF2ECKFTBJ4NELLBQ7GWQFN' with link or location/anchor > 255 characters since it exceeds Excel's limit for URLS\n",
      "  force_unicode(url))\n",
      "C:\\Anaconda3\\lib\\site-packages\\xlsxwriter\\worksheet.py:832: UserWarning: Ignoring URL 'https://news.v.daum.net/v/20200319192400146%20%5b코로나19%20두%20달%5d%20%22확진자%20감소는%20착시..%20나아진%20건%20없다%22%20「김홍빈%20교수는%20%22환자가%20폭증한%20건%20신천지%20집단감염이라는%20변수%20때문이다,%20다른%20지역의%20상황을%20봐야%20한다%22면서%20%22수도권은%20지난%201~2주간%20확진자가%20전혀%20줄지%20않았다%22라고%20지적했다.」' with link or location/anchor > 255 characters since it exceeds Excel's limit for URLS\n",
      "  force_unicode(url))\n",
      "C:\\Anaconda3\\lib\\site-packages\\xlsxwriter\\worksheet.py:832: UserWarning: Ignoring URL 'https://m.news.naver.com/rankingRead.nhn?oid=092&amp;aid=0002183865&amp;sid1=105&amp;ntype=RANKING%20지디넷에서%20분석한%20일본의%20코로나%20검사가%20적은%20이유%20단순한%20국뽕반일%20기사가%20아니라%20정말로%20일본의%20정치,사회,문화%20다%20방면에서%20자세히%20조사한%20티가%20납니다.%20거기다가%20이해되기%20쉽게%20정리했습니다.%20여러분도%20한%20번쯤%20읽어보셨으면%20좋겠어요' with link or location/anchor > 255 characters since it exceeds Excel's limit for URLS\n",
      "  force_unicode(url))\n",
      "C:\\Anaconda3\\lib\\site-packages\\xlsxwriter\\worksheet.py:832: UserWarning: Ignoring URL 'https://news.v.daum.net/v/20200319145253233%20환자%204명%20때부터%20당국이%20신속%20행동..비슷한%20시기%20환자나온%20미국%20압도%20일주일만에%20신속히%20진단키트도%20승인%20그때가%20벌써%201월%2027일이었고%20이게%20미국과%20한국의%20코로나%20상황의%20차이를%20견인한%20가장%20큰%20원인%20아닌가.%20이걸%20로이터%20기사%20이후에라도%20재조명해주니%20다행이라%20해야할지..%20' with link or location/anchor > 255 characters since it exceeds Excel's limit for URLS\n",
      "  force_unicode(url))\n",
      "C:\\Anaconda3\\lib\\site-packages\\xlsxwriter\\worksheet.py:832: UserWarning: Ignoring URL 'https://headlines.yahoo.co.jp/hl?a=20200319-00000099-kyodonews-cul%20신종%20코로나%20바이러스%20감염확대의%20영향으로%20사업환경%20혼란이%20발단이%20되어%20미국%20플레이보이%20지의%20종이매체%20발행을%20이번%20봄호로%20종료한다고%20발표.%20온라인%20버젼은%20지속.%20이로서%20갑자기%20플레이보이%20잡지가%20드디어%20종이매체로서%20막을%20내리게%20됩니다(...).' with link or location/anchor > 255 characters since it exceeds Excel's limit for URLS\n",
      "  force_unicode(url))\n",
      "C:\\Anaconda3\\lib\\site-packages\\xlsxwriter\\worksheet.py:832: UserWarning: Ignoring URL 'https://headlines.yahoo.co.jp/hl?a=20200319-00000053-zdn_n-sci%20신종%20코로나%20바이러스%20감염확대%20전까지%20견조하게%20추이해서%20증수증익을%20예상했지만%20현재는%20저년%20실적을%20밑돌%20전망이며%20주당%20배당금도%2020엔에서%205엔으로%20조정.%20피아의%20현%20연결현금잔액은%20172억%20700만엔이며,%20코로나%20시국의%20영향이%20장기화되고%20매출이%20지속%20감소할것을%20대비해' with link or location/anchor > 255 characters since it exceeds Excel's limit for URLS\n",
      "  force_unicode(url))\n",
      "C:\\Anaconda3\\lib\\site-packages\\xlsxwriter\\worksheet.py:832: UserWarning: Ignoring URL 'https://m.chosun.com/svc/article.html?sname=news&amp;contid=2020031800088&amp;utm_source=naver&amp;utm_medium=headline&amp;utm_campaign=news&amp;Dep0=m.news.naver.com%20백신과%20치료제%20개발에%20속도전이%20붙으면서%20안전성%20문제도%20제기되고%20있다.%20지금은%20동물실험에%20쓸%20실험용%20생쥐조차%20없다.%20생쥐는%20사람과%20호흡기%20세포%20구조가%20달라%20우한%20코로나에%20걸리지%20않는다.%20과학자들은%20유전자를%20변형해%20사람처럼%20바이러스에%20감염되는%20생쥐를%20개발하고%20있지' with link or location/anchor > 255 characters since it exceeds Excel's limit for URLS\n",
      "  force_unicode(url))\n",
      "C:\\Anaconda3\\lib\\site-packages\\xlsxwriter\\worksheet.py:832: UserWarning: Ignoring URL 'https://m.chosun.com/svc/article.html?sname=news&amp;contid=2020031800088&amp;utm_source=naver&amp;utm_medium=headline&amp;utm_campaign=news&amp;Dep0=m.news.naver.com%20미국%20국방부는%20지난달부터%2060일%20목표로%20우한%20코로나%20완치%20환자의%20항체를%20추출해%20유전자를%20그대로%20복제하는%20프로그램도%20진행하고%20있다.%20이%20유전자를%20환자에게%20주사하면%206~24시간%20안에%20인체에서%20항체가%20생겨나%20바이러스를%20막아낼%20수%20있다.' with link or location/anchor > 255 characters since it exceeds Excel's limit for URLS\n",
      "  force_unicode(url))\n",
      "C:\\Anaconda3\\lib\\site-packages\\xlsxwriter\\worksheet.py:832: UserWarning: Ignoring URL 'https://m.chosun.com/svc/article.html?sname=news&amp;contid=2020031800088&amp;utm_source=naver&amp;utm_medium=headline&amp;utm_campaign=news&amp;Dep0=m.news.naver.com%20다음%20달%20첫%20임상%20결과가%20나온다.%20미국%20비르%20바이오테크놀로지도%20우한%20코로나와%20유사한%20사스(SARS·중증급성호흡기증후군)%20환자한테서%20추출한%20항체를%20우한%20코로나%20치료제로%20개발하고%20있다.' with link or location/anchor > 255 characters since it exceeds Excel's limit for URLS\n",
      "  force_unicode(url))\n",
      "C:\\Anaconda3\\lib\\site-packages\\xlsxwriter\\worksheet.py:832: UserWarning: Ignoring URL 'https://m.chosun.com/svc/article.html?sname=news&amp;contid=2020031800088&amp;utm_source=naver&amp;utm_medium=headline&amp;utm_campaign=news&amp;Dep0=m.news.naver.com%20치료제%20개발도%20봇물이%20터졌다.%20에이즈%20치료제로%20유명한%20미국%20길리어드가%20가장%20앞서%20있는데%20에볼라%20치료제로%20개발하던%20의약품%20'렘데시비르'를%20코로나%20바이러스%20치료제로%20개발%20중이다.%20이미%20미국%20환자%20한%20명을%20치료하는%20데%20썼다.' with link or location/anchor > 255 characters since it exceeds Excel's limit for URLS\n",
      "  force_unicode(url))\n",
      "C:\\Anaconda3\\lib\\site-packages\\xlsxwriter\\worksheet.py:832: UserWarning: Ignoring URL 'https://m.chosun.com/svc/article.html?sname=news&amp;contid=2020031800088&amp;utm_source=naver&amp;utm_medium=headline&amp;utm_campaign=news&amp;Dep0=m.news.naver.com%20미국%20제약사%20모더나%20세러퓨틱스는%20지난%2016일(현지%20시각)%20시애틀의%20카이저%20퍼머넌트%20병원에서%20코로나%20백신을%20인체에%20주사하기%20시작했다고%20밝혔다.%20동물실험도%20생략했다.%20' with link or location/anchor > 255 characters since it exceeds Excel's limit for URLS\n",
      "  force_unicode(url))\n",
      "C:\\Anaconda3\\lib\\site-packages\\xlsxwriter\\worksheet.py:832: UserWarning: Ignoring URL 'https://m.chosun.com/svc/article.html?sname=news&amp;contid=2020031800088&amp;utm_source=naver&amp;utm_medium=headline&amp;utm_campaign=news&amp;Dep0=m.news.naver.com%20천문학적인%20규모의%20코로나%20백신·치료제%20시장%20선점도%20중요하다.%20국제신용평가기관인%20스탠더드앤드푸어스(S&amp;P)는%20지난%2013일%20미국에서%20코로나%20환자가%20400만명%20발생하면%20900억달러(약%20112조원)의%20의료비가%20나갈%20것이라고%20전망했다.' with link or location/anchor > 255 characters since it exceeds Excel's limit for URLS\n",
      "  force_unicode(url))\n",
      "C:\\Anaconda3\\lib\\site-packages\\xlsxwriter\\worksheet.py:832: UserWarning: Ignoring URL 'https://m.news.naver.com/read.nhn?mode=LSD&amp;sid1=110&amp;oid=023&amp;aid=0003515704%20지난주%20유럽연합(EU)%20주재%20이탈리아%20대사가%20미%20언론에%20%22유럽연합에%20의료%20물자·인력%20지원을%20요청했는데%20단%20한%20나라도%20응하지%20않고%20있다%22는%20기고문을%20보냈다.%20코로나%20폭탄을%20맞은%20이탈리아의%20고통을%20'공동체'라던%20이웃들이%20외면하고%20있다는%20얘기다.' with link or location/anchor > 255 characters since it exceeds Excel's limit for URLS\n",
      "  force_unicode(url))\n",
      "C:\\Anaconda3\\lib\\site-packages\\xlsxwriter\\worksheet.py:832: UserWarning: Ignoring URL 'https://m.news.naver.com/read.nhn?mode=LSD&amp;sid1=001&amp;oid=023&amp;aid=0003515921%20정작%20서울·경기%20신천지%20신도와%20코로나의%20연관성%20입증이%20어렵게%20되면서%20두%20사람이%20정치적%20무리수를%20둔%20게%20아니냐는%20비판이%20커질%20전망이다.%20서울·경기%20신천지%20신도%20유증상자%202470여명의%20검체%20검사%20비용(건당%20약%2016만원)은%20모두%20시비와%20국비로%20지원됐다.%20약%204억원%20규모다.' with link or location/anchor > 255 characters since it exceeds Excel's limit for URLS\n",
      "  force_unicode(url))\n",
      "C:\\Anaconda3\\lib\\site-packages\\xlsxwriter\\worksheet.py:832: UserWarning: Ignoring URL 'https://news.v.daum.net/v/20200319145253233%20%22설연휴%20서울역%20모인%20제약사들..일주일만에%20진단키트%20승인%22%20중국에서%20들불처럼%20번지기%20시작한%20코로나19에%20관한%20대책을%20논의하기%20위해%20당국이%20제약사들을%20'호출'한%20자리(당시%20국내%20확진자는%204명에%20불과)%20늦었다%20생각할수도%20있지만,%20늦지%20않게%20움직이고%20빠르게%20대응한%20정부!' with link or location/anchor > 255 characters since it exceeds Excel's limit for URLS\n",
      "  force_unicode(url))\n",
      "C:\\Anaconda3\\lib\\site-packages\\xlsxwriter\\worksheet.py:832: UserWarning: Ignoring URL 'https://m.news.naver.com/read.nhn?mode=LSD&amp;sid1=110&amp;oid=088&amp;aid=0000639196%20콜센터%20코로나'가%20나타난%20것인가?%20코로나19의%20원인을%20특정%20지역이나%20집단에서%20찾고%20희생양으로%20삼는%20것은%20미개(未開)하다.%20코로나19의%20원인은%20바이러스(virus)이다.%20코로나19를%20종식(終熄)하려면%20백신과%20치료약이%20필요하다.' with link or location/anchor > 255 characters since it exceeds Excel's limit for URLS\n",
      "  force_unicode(url))\n",
      "C:\\Anaconda3\\lib\\site-packages\\xlsxwriter\\worksheet.py:832: UserWarning: Ignoring URL 'https://www.imperial.ac.uk/media/imperial-college/medicine/sph/ide/gida-fellowships/Imperial-College-COVID19-NPI-modelling-16-03-2020.pdf%20신종코로나%20바이러스%20대처%20방법%20시뮬레이션%20페이퍼.%20아무것도%20하지%20않으면%20정말%20많은%20사람들이%20죽고,%20또%20그%20사이클이%20반복될%20거라는%20예측.%20그러니%20아무것도%20안%20하는%20것은%20더%20이상%20고려%20대상이%20아님.%20그동안%20손%20놓았던%20나라들도%20지금이라도%20다%20테스팅을%20최대한%20많이%20해야%20하는.' with link or location/anchor > 255 characters since it exceeds Excel's limit for URLS\n",
      "  force_unicode(url))\n",
      "C:\\Anaconda3\\lib\\site-packages\\xlsxwriter\\worksheet.py:832: UserWarning: Ignoring URL 'https://news.naver.com/main/read.nhn?mode=LSD&amp;mid=sec&amp;sid1=110&amp;oid=469&amp;aid=0000478680%20%22나는%20민주당이%20전략적으로라도%20금%20의원을%20공천하기를%20바랐다.%22%20https://news.naver.com/main/read.nhn?mode=LSD&amp;mid=sec&amp;sid1=103&amp;oid=469&amp;aid=0000478759%20%22팬덤은%20민주당%20의원들에게%20‘친문’이나%20‘친조국’이%20아니면%20그%20당에서%20살아남을%20수%20없다는%20교훈을%20가르쳐%20주었다%22%20-%20코로나고%20뭐고%20금태섭으로%20베팅하고%20밀고%20있는%20한국일보%20' with link or location/anchor > 255 characters since it exceeds Excel's limit for URLS\n",
      "  force_unicode(url))\n",
      "C:\\Anaconda3\\lib\\site-packages\\xlsxwriter\\worksheet.py:832: UserWarning: Ignoring URL 'https://news.v.daum.net/v/20200319105247898%20'세계%20최고%20코로나%20진단국'%20왕관%20쓴%20한국..美%20제친%20비결은%20韓,%20메르스%20실패%20반면교사%20삼아%20신속한%20초기%20대응%20美,%20잘못된%20매뉴얼로%20움직이며%20키트%20수요%20못%20맞춰%20바둑으로%20치면%20‘두세%20수’%20앞을%20내다보고%20움직인%20셈.%20미래통합당,%20조중동%20등%20기더기%20어느%20나라가%20잘%20대응했는가?' with link or location/anchor > 255 characters since it exceeds Excel's limit for URLS\n",
      "  force_unicode(url))\n",
      "C:\\Anaconda3\\lib\\site-packages\\xlsxwriter\\worksheet.py:832: UserWarning: Ignoring URL 'https://m.news.naver.com/rankingRead.nhn?oid=031&amp;aid=0000530288&amp;sid1=&amp;ntype=RANKING%2017세%20소년이%20갑자기%20숨져%20보건당국이%20사후%20신종%20코로나바이러스%20감염증(코로나19)%20검체%20검사에%20들어갔다.%20이%20소년은%20사망%20전에는%20'코로나19'%20음성%20판정을%20받았으나,%20사후%20소변%20검사에서%20'양성'%20판정을%20받은%20것으로%20전해졌다.%20' with link or location/anchor > 255 characters since it exceeds Excel's limit for URLS\n",
      "  force_unicode(url))\n",
      "C:\\Anaconda3\\lib\\site-packages\\xlsxwriter\\worksheet.py:832: UserWarning: Ignoring URL 'https://youtu.be/V1mI71d2Plc%20“As%20an%20abstract%20painter,%20I%20work%20with%20things%20that%20I%20can%20not%20see...we%20do%20not%20see%20a%20map%20of%20soul..%20and%20that%20intrigues%20me”%20“Do%20you%20know%20what%20the%20definition%20of%20art%20is?%20Structured%20feelings”%20잭%20위튼%20체고라구%20진짜...%20책%20시킨%20거%20코로나%20땜이%20한달%20후에%20온대%20흑흑' with link or location/anchor > 255 characters since it exceeds Excel's limit for URLS\n",
      "  force_unicode(url))\n"
     ]
    },
    {
     "name": "stderr",
     "output_type": "stream",
     "text": [
      "C:\\Anaconda3\\lib\\site-packages\\xlsxwriter\\worksheet.py:832: UserWarning: Ignoring URL 'https://m.news.naver.com/read.nhn?mode=LSD&amp;sid1=110&amp;oid=088&amp;aid=0000639196%20배트맨%20다크-나이트'에서%20하비%20덴트는%20동전을%20던져서%20범죄자의%20생사(生死)를%20결정한다.%20동전%20던지기는%20공평하다.%20그리고%2010명%20중%205명이%20생존한다.%20코로나19는%20동전%20던지기와%20유사하다.%20누구나%20감염될%20수%20있고%20누군가는%20감염된다.%20이%20글을%20쓴%20나도%20감염될%20수%20있다' with link or location/anchor > 255 characters since it exceeds Excel's limit for URLS\n",
      "  force_unicode(url))\n",
      "C:\\Anaconda3\\lib\\site-packages\\xlsxwriter\\worksheet.py:832: UserWarning: Ignoring URL 'https://m.news.nate.com/view/20200319n17795?list=edit&amp;cate=tot%20코스피,%20외국인%20매도에%20장중%201,500선%20붕괴%20-%20코로나%20때문이든%20뭐든%20외부%20요인을%20차치하고...결과적으로%20현%20정권이%20처음%20했던%20말을%20지킨것은%20무엇이었나%20궁금하다.%20아...%20한%20번도%20본%20적%20없는%20나라는%20만들었나...?%20이런%20불만충이%20되어가는%20현%20상황이%20싫다.' with link or location/anchor > 255 characters since it exceeds Excel's limit for URLS\n",
      "  force_unicode(url))\n",
      "C:\\Anaconda3\\lib\\site-packages\\xlsxwriter\\worksheet.py:832: UserWarning: Ignoring URL 'https://m.news.naver.com/read.nhn?mode=LSD&amp;sid1=110&amp;oid=088&amp;aid=0000639196%20신천지와%20대구경북%20때리기가%20극성이다.%20민주당%20부산시당%20%22TK에%20코로나19가%20두드러지는%20이유는%20한국당과%20그것들을%20광신하는%20지역민들%20무능%20때문%22%20%22지자체장%20한국당%20출신%20지역%20대구경북에서만%20어떤%20사단이%20나고%20있는지%20눈%20크게%20뜨고%20보라%22고%20했다.' with link or location/anchor > 255 characters since it exceeds Excel's limit for URLS\n",
      "  force_unicode(url))\n",
      "C:\\Anaconda3\\lib\\site-packages\\xlsxwriter\\worksheet.py:832: UserWarning: Ignoring URL 'https://news.v.daum.net/v/20200319092104466%20이란%20코로나19%20사망자%20급증..%20총1135명,%20치사율%2015%25%2018일%20하루새%20사망%20147명%20추가..최고%20기록%20확진자%20총%201만7361명%20이탈리아는%20하루%20500여명%20사망.%20어느%20나라가%20코로나19%20에%20대응을%20잘%20했나요?%20미래통합당,%20조중동%20등%20기더기(기자+구더기)%20말%20해%20보라...%20ㅉㅉㅉ' with link or location/anchor > 255 characters since it exceeds Excel's limit for URLS\n",
      "  force_unicode(url))\n",
      "C:\\Anaconda3\\lib\\site-packages\\xlsxwriter\\worksheet.py:832: UserWarning: Ignoring URL 'https://www.mcst.go.kr/kor/s_notice/press/pressView.jsp?pMenuCD=0302000000&amp;pSeq=17882%20%22‘공연%20관람객%20대상%20관람료%20지원’은%20어려움에%20처한%20공연업계의%20회복%20속도를%20최대한%20높이기%20위해%20선제적으로%20준비하고%20있는%20대책이며,%20향후%20코로나19%20확산이%20진정된%20직후%20시행할%20계획입니다.%22%20홀%20나중에%20진정되면%20원쁠원%20같은%20거%20또%20하려나...?!?!' with link or location/anchor > 255 characters since it exceeds Excel's limit for URLS\n",
      "  force_unicode(url))\n",
      "C:\\Anaconda3\\lib\\site-packages\\xlsxwriter\\worksheet.py:832: UserWarning: Ignoring URL 'https://gall.dcinside.com/board/view/?id=issuezoom&amp;no=7307%20독일%20근황.%20의사가%20내원한%20교사%20코로나%20확진-&gt;독일%20질본에%20보고%20-&gt;%20질본의%20공식%20접수경로는%20FAX%20번호%20하나(...)%20-&gt;%20접수안될%20것%20같아,%20의사가%20소방서나%20구조본부측에%20도움%20요청%20-&gt;%20역시%20안됨-&gt;%20수업시작.%20학교%20학생%20감염.%20리플%20%60%20독일%20정도면%20최첨단이지.%20프랑스는%20편지임%60' with link or location/anchor > 255 characters since it exceeds Excel's limit for URLS\n",
      "  force_unicode(url))\n"
     ]
    }
   ],
   "source": [
    "#엑셀도\n",
    "twitter_df.to_excel(\"twitter_crawling.xlsx\")"
   ]
  },
  {
   "cell_type": "markdown",
   "metadata": {},
   "source": [
    "### 2. 네이버블로그\n",
    "#### \"코로나\"\n",
    "네이버 블로그 전체글을 하나씩 다 가져오는건 데이터 양만 늘릴뿐 의미없다고 판단,\n",
    "\n",
    "네이버블로그 검색창에 미리보기로 뜨는 '코로나'관련 문장들만 가져오기로했다."
   ]
  },
  {
   "cell_type": "code",
   "execution_count": 100,
   "metadata": {},
   "outputs": [
    {
     "name": "stderr",
     "output_type": "stream",
     "text": [
      "C:\\Anaconda3\\lib\\site-packages\\bs4\\__init__.py:181: UserWarning: No parser was explicitly specified, so I'm using the best available HTML parser for this system (\"lxml\"). This usually isn't a problem, but if you run this code on another system, or in a different virtual environment, it may use a different parser and behave differently.\n",
      "\n",
      "The code that caused this warning is on line 193 of the file C:\\Anaconda3\\lib\\runpy.py. To get rid of this warning, change code that looks like this:\n",
      "\n",
      " BeautifulSoup(YOUR_MARKUP})\n",
      "\n",
      "to this:\n",
      "\n",
      " BeautifulSoup(YOUR_MARKUP, \"lxml\")\n",
      "\n",
      "  markup_type=markup_type))\n"
     ]
    },
    {
     "data": {
      "text/html": [
       "<div>\n",
       "<style scoped>\n",
       "    .dataframe tbody tr th:only-of-type {\n",
       "        vertical-align: middle;\n",
       "    }\n",
       "\n",
       "    .dataframe tbody tr th {\n",
       "        vertical-align: top;\n",
       "    }\n",
       "\n",
       "    .dataframe thead th {\n",
       "        text-align: right;\n",
       "    }\n",
       "</style>\n",
       "<table border=\"1\" class=\"dataframe\">\n",
       "  <thead>\n",
       "    <tr style=\"text-align: right;\">\n",
       "      <th></th>\n",
       "      <th>SNS_type</th>\n",
       "      <th>date</th>\n",
       "      <th>text</th>\n",
       "    </tr>\n",
       "  </thead>\n",
       "  <tbody>\n",
       "    <tr>\n",
       "      <th>0</th>\n",
       "      <td>NaN</td>\n",
       "      <td>2020-03-17</td>\n",
       "      <td>살균스틱 코로나 방지해요! 요즘 뉴스만 틀어도 대화 주제만 해도 코로나 이슈가 가장...</td>\n",
       "    </tr>\n",
       "    <tr>\n",
       "      <th>1</th>\n",
       "      <td>NaN</td>\n",
       "      <td>2020-03-18</td>\n",
       "      <td>코로나19 백신 치료제 개발 큐어백 트럼프가 투자 로이터 통신에서 흥미로운... 참...</td>\n",
       "    </tr>\n",
       "    <tr>\n",
       "      <th>2</th>\n",
       "      <td>NaN</td>\n",
       "      <td>2020-03-18</td>\n",
       "      <td>아이가 있어서 아무래도 평상시에 손을 자주 씻었는데요 지금은 또 코로나바이러스......</td>\n",
       "    </tr>\n",
       "    <tr>\n",
       "      <th>3</th>\n",
       "      <td>NaN</td>\n",
       "      <td>2020-03-02</td>\n",
       "      <td>[Ep.01] 우한 폐렴 (코로나19) 눈만 뜨면 코로나 코로나 매일 늘어나는 확진...</td>\n",
       "    </tr>\n",
       "    <tr>\n",
       "      <th>4</th>\n",
       "      <td>NaN</td>\n",
       "      <td>2020-03-06</td>\n",
       "      <td>코로나19 때문에 일상이 너무 달라졌어요. 아침에 눈 뜨면 오늘의 날씨가 아닌 뉴스...</td>\n",
       "    </tr>\n",
       "    <tr>\n",
       "      <th>...</th>\n",
       "      <td>...</td>\n",
       "      <td>...</td>\n",
       "      <td>...</td>\n",
       "    </tr>\n",
       "    <tr>\n",
       "      <th>995</th>\n",
       "      <td>NaN</td>\n",
       "      <td>2020-03-17</td>\n",
       "      <td>코로나19 비켜! 중앙로 지하상가 코로나19 방역 이상무!! 전국에서 대전은 코로나...</td>\n",
       "    </tr>\n",
       "    <tr>\n",
       "      <th>996</th>\n",
       "      <td>NaN</td>\n",
       "      <td>2020-02-28</td>\n",
       "      <td>세 나라 모두가 코로나19 습격으로 휘청거리는 모습을 보인다. 2월 중순까지만 해도...</td>\n",
       "    </tr>\n",
       "    <tr>\n",
       "      <th>997</th>\n",
       "      <td>NaN</td>\n",
       "      <td>2020-03-17</td>\n",
       "      <td>이로 인해 코로나19 업무로 눈 코 뜰 새 없는 질병관리본부는 관련 의혹에 대해.....</td>\n",
       "    </tr>\n",
       "    <tr>\n",
       "      <th>998</th>\n",
       "      <td>NaN</td>\n",
       "      <td>2020-03-12</td>\n",
       "      <td>급여세 인하 검토 (정확히는 검토다 검토) 하지만 코로나 바이러스 앞에서는... 이...</td>\n",
       "    </tr>\n",
       "    <tr>\n",
       "      <th>999</th>\n",
       "      <td>NaN</td>\n",
       "      <td>2020-03-18</td>\n",
       "      <td>코로나19 극복을 위한 노동자, 사업주 지원안내! 휴업수당, 가족돌봄휴가비... 휴...</td>\n",
       "    </tr>\n",
       "  </tbody>\n",
       "</table>\n",
       "<p>1000 rows × 3 columns</p>\n",
       "</div>"
      ],
      "text/plain": [
       "    SNS_type        date                                               text\n",
       "0        NaN  2020-03-17  살균스틱 코로나 방지해요! 요즘 뉴스만 틀어도 대화 주제만 해도 코로나 이슈가 가장...\n",
       "1        NaN  2020-03-18  코로나19 백신 치료제 개발 큐어백 트럼프가 투자 로이터 통신에서 흥미로운... 참...\n",
       "2        NaN  2020-03-18  아이가 있어서 아무래도 평상시에 손을 자주 씻었는데요 지금은 또 코로나바이러스......\n",
       "3        NaN  2020-03-02  [Ep.01] 우한 폐렴 (코로나19) 눈만 뜨면 코로나 코로나 매일 늘어나는 확진...\n",
       "4        NaN  2020-03-06  코로나19 때문에 일상이 너무 달라졌어요. 아침에 눈 뜨면 오늘의 날씨가 아닌 뉴스...\n",
       "..       ...         ...                                                ...\n",
       "995      NaN  2020-03-17  코로나19 비켜! 중앙로 지하상가 코로나19 방역 이상무!! 전국에서 대전은 코로나...\n",
       "996      NaN  2020-02-28  세 나라 모두가 코로나19 습격으로 휘청거리는 모습을 보인다. 2월 중순까지만 해도...\n",
       "997      NaN  2020-03-17  이로 인해 코로나19 업무로 눈 코 뜰 새 없는 질병관리본부는 관련 의혹에 대해.....\n",
       "998      NaN  2020-03-12  급여세 인하 검토 (정확히는 검토다 검토) 하지만 코로나 바이러스 앞에서는... 이...\n",
       "999      NaN  2020-03-18  코로나19 극복을 위한 노동자, 사업주 지원안내! 휴업수당, 가족돌봄휴가비... 휴...\n",
       "\n",
       "[1000 rows x 3 columns]"
      ]
     },
     "execution_count": 100,
     "metadata": {},
     "output_type": "execute_result"
    }
   ],
   "source": [
    "#크롤링세션때 배운 정적크롤링\n",
    "from datetime import datetime\n",
    "from datetime import timedelta\n",
    "\n",
    "today = datetime.strptime('2020-03-22', '%Y-%m-%d') #datetime.today 써도 되는데 일단 그냥 지정해줬다\n",
    "yesterday = today + timedelta(days=-1)\n",
    "\n",
    "blog_list = []\n",
    "date_list = []\n",
    "df = pd.DataFrame(index=range(0,1000), columns = ['SNS_type','date','text'])\n",
    "\n",
    "for i in range(1,101): #100페이지까지 제공 #한 페이지 당 10개, 총 1000개 크롤링\n",
    "    #코로나 블로그탭 검색창\n",
    "    url = 'https://search.naver.com/search.naver?where=post&query=%EC%BD%94%EB%A1%9C%EB%82%98&sm=tab_opt&date_option=4&start='+str(i)\n",
    "    res = requests.get(url)\n",
    "    html = res.text\n",
    "    soup = BeautifulSoup(html)\n",
    "    \n",
    "    df = pd.DataFrame(columns = ['SNS_type','date','text'])\n",
    "    x = soup.select('dd[class=\"sh_blog_passage\"]') #텍스트\n",
    "    y = soup.select('dd[class=\"txt_inline\"]') #date\n",
    "    for j in range(len(x)):\n",
    "        blog_list.append(x[j].get_text())\n",
    "        date = y[j].get_text()\n",
    "        #네이버는 날짜가 텍스트 그대로 입력되어있어서 경우를 나눠 직접 계산해줘야함 #3일 전, 7시간 전,어제 이런식으로 입력되어있다 \n",
    "        if '일' in date: # ex) '3일 전'이면 오늘 날짜에서 '3'일을 빼준다.\n",
    "            dd = today + timedelta(days=-1*int(date[0])) #날짜 연산은 timedelta로 써주기\n",
    "            date_list.append(str(dd).split()[0])\n",
    "        elif '시간' in date: # ex) '21시간 전'이면 어제로 보고 '8시간 전'이면 시간을 따져서 어제인지 오늘인지 판단해서 저장  \n",
    "            if len(date) == 7: \n",
    "                date_list.append(str(yesterday).split()[0])\n",
    "            else:\n",
    "                if int(date[0]) >= 8: #크롤링한 시간이 오전 7시라 8시간전부터는 어제로 취급\n",
    "                    date_list.append(str(yesterday).split()[0])\n",
    "                else:\n",
    "                    date_list.append(str(today).split()[0])\n",
    "        elif '어제' in date: \n",
    "            yesterday = today + timedelta(days=-1)\n",
    "            date_list.append(str(yesterday).split()[0])\n",
    "        else: #2020.03.03 처럼 날짜가 직접 입력되어있는 경우 는 datetime으로 형식만 바꿔주면 된다\n",
    "            logdate = datetime.strptime(date, '%Y.%m.%d. ')\n",
    "            date_list.append(str(logdate).split()[0])\n",
    "\n",
    "            \n",
    "\n",
    "df['SNS_type'] = 'Naver_Blog'\n",
    "df['date'] = date_list\n",
    "df['text'] = blog_list\n",
    "\n",
    "df"
   ]
  },
  {
   "cell_type": "markdown",
   "metadata": {},
   "source": [
    "sns_type이 결측치 상태 그대로 남아있다. 다시 값 넣어줘야겠다"
   ]
  },
  {
   "cell_type": "code",
   "execution_count": 102,
   "metadata": {},
   "outputs": [
    {
     "data": {
      "text/plain": [
       "0      Naver_Blog\n",
       "1      Naver_Blog\n",
       "2      Naver_Blog\n",
       "3      Naver_Blog\n",
       "4      Naver_Blog\n",
       "          ...    \n",
       "995    Naver_Blog\n",
       "996    Naver_Blog\n",
       "997    Naver_Blog\n",
       "998    Naver_Blog\n",
       "999    Naver_Blog\n",
       "Name: SNS_type, Length: 1000, dtype: object"
      ]
     },
     "execution_count": 102,
     "metadata": {},
     "output_type": "execute_result"
    }
   ],
   "source": [
    "df['SNS_type'] = 'Naver_Blog'\n",
    "df['SNS_type']"
   ]
  },
  {
   "cell_type": "code",
   "execution_count": 103,
   "metadata": {},
   "outputs": [
    {
     "data": {
      "text/html": [
       "<div>\n",
       "<style scoped>\n",
       "    .dataframe tbody tr th:only-of-type {\n",
       "        vertical-align: middle;\n",
       "    }\n",
       "\n",
       "    .dataframe tbody tr th {\n",
       "        vertical-align: top;\n",
       "    }\n",
       "\n",
       "    .dataframe thead th {\n",
       "        text-align: right;\n",
       "    }\n",
       "</style>\n",
       "<table border=\"1\" class=\"dataframe\">\n",
       "  <thead>\n",
       "    <tr style=\"text-align: right;\">\n",
       "      <th></th>\n",
       "      <th>SNS_type</th>\n",
       "      <th>date</th>\n",
       "      <th>text</th>\n",
       "    </tr>\n",
       "  </thead>\n",
       "  <tbody>\n",
       "    <tr>\n",
       "      <th>0</th>\n",
       "      <td>Naver_Blog</td>\n",
       "      <td>2020-03-17</td>\n",
       "      <td>살균스틱 코로나 방지해요! 요즘 뉴스만 틀어도 대화 주제만 해도 코로나 이슈가 가장...</td>\n",
       "    </tr>\n",
       "    <tr>\n",
       "      <th>1</th>\n",
       "      <td>Naver_Blog</td>\n",
       "      <td>2020-03-18</td>\n",
       "      <td>코로나19 백신 치료제 개발 큐어백 트럼프가 투자 로이터 통신에서 흥미로운... 참...</td>\n",
       "    </tr>\n",
       "    <tr>\n",
       "      <th>2</th>\n",
       "      <td>Naver_Blog</td>\n",
       "      <td>2020-03-18</td>\n",
       "      <td>아이가 있어서 아무래도 평상시에 손을 자주 씻었는데요 지금은 또 코로나바이러스......</td>\n",
       "    </tr>\n",
       "    <tr>\n",
       "      <th>3</th>\n",
       "      <td>Naver_Blog</td>\n",
       "      <td>2020-03-02</td>\n",
       "      <td>[Ep.01] 우한 폐렴 (코로나19) 눈만 뜨면 코로나 코로나 매일 늘어나는 확진...</td>\n",
       "    </tr>\n",
       "    <tr>\n",
       "      <th>4</th>\n",
       "      <td>Naver_Blog</td>\n",
       "      <td>2020-03-06</td>\n",
       "      <td>코로나19 때문에 일상이 너무 달라졌어요. 아침에 눈 뜨면 오늘의 날씨가 아닌 뉴스...</td>\n",
       "    </tr>\n",
       "    <tr>\n",
       "      <th>...</th>\n",
       "      <td>...</td>\n",
       "      <td>...</td>\n",
       "      <td>...</td>\n",
       "    </tr>\n",
       "    <tr>\n",
       "      <th>995</th>\n",
       "      <td>Naver_Blog</td>\n",
       "      <td>2020-03-17</td>\n",
       "      <td>코로나19 비켜! 중앙로 지하상가 코로나19 방역 이상무!! 전국에서 대전은 코로나...</td>\n",
       "    </tr>\n",
       "    <tr>\n",
       "      <th>996</th>\n",
       "      <td>Naver_Blog</td>\n",
       "      <td>2020-02-28</td>\n",
       "      <td>세 나라 모두가 코로나19 습격으로 휘청거리는 모습을 보인다. 2월 중순까지만 해도...</td>\n",
       "    </tr>\n",
       "    <tr>\n",
       "      <th>997</th>\n",
       "      <td>Naver_Blog</td>\n",
       "      <td>2020-03-17</td>\n",
       "      <td>이로 인해 코로나19 업무로 눈 코 뜰 새 없는 질병관리본부는 관련 의혹에 대해.....</td>\n",
       "    </tr>\n",
       "    <tr>\n",
       "      <th>998</th>\n",
       "      <td>Naver_Blog</td>\n",
       "      <td>2020-03-12</td>\n",
       "      <td>급여세 인하 검토 (정확히는 검토다 검토) 하지만 코로나 바이러스 앞에서는... 이...</td>\n",
       "    </tr>\n",
       "    <tr>\n",
       "      <th>999</th>\n",
       "      <td>Naver_Blog</td>\n",
       "      <td>2020-03-18</td>\n",
       "      <td>코로나19 극복을 위한 노동자, 사업주 지원안내! 휴업수당, 가족돌봄휴가비... 휴...</td>\n",
       "    </tr>\n",
       "  </tbody>\n",
       "</table>\n",
       "<p>1000 rows × 3 columns</p>\n",
       "</div>"
      ],
      "text/plain": [
       "       SNS_type        date                                               text\n",
       "0    Naver_Blog  2020-03-17  살균스틱 코로나 방지해요! 요즘 뉴스만 틀어도 대화 주제만 해도 코로나 이슈가 가장...\n",
       "1    Naver_Blog  2020-03-18  코로나19 백신 치료제 개발 큐어백 트럼프가 투자 로이터 통신에서 흥미로운... 참...\n",
       "2    Naver_Blog  2020-03-18  아이가 있어서 아무래도 평상시에 손을 자주 씻었는데요 지금은 또 코로나바이러스......\n",
       "3    Naver_Blog  2020-03-02  [Ep.01] 우한 폐렴 (코로나19) 눈만 뜨면 코로나 코로나 매일 늘어나는 확진...\n",
       "4    Naver_Blog  2020-03-06  코로나19 때문에 일상이 너무 달라졌어요. 아침에 눈 뜨면 오늘의 날씨가 아닌 뉴스...\n",
       "..          ...         ...                                                ...\n",
       "995  Naver_Blog  2020-03-17  코로나19 비켜! 중앙로 지하상가 코로나19 방역 이상무!! 전국에서 대전은 코로나...\n",
       "996  Naver_Blog  2020-02-28  세 나라 모두가 코로나19 습격으로 휘청거리는 모습을 보인다. 2월 중순까지만 해도...\n",
       "997  Naver_Blog  2020-03-17  이로 인해 코로나19 업무로 눈 코 뜰 새 없는 질병관리본부는 관련 의혹에 대해.....\n",
       "998  Naver_Blog  2020-03-12  급여세 인하 검토 (정확히는 검토다 검토) 하지만 코로나 바이러스 앞에서는... 이...\n",
       "999  Naver_Blog  2020-03-18  코로나19 극복을 위한 노동자, 사업주 지원안내! 휴업수당, 가족돌봄휴가비... 휴...\n",
       "\n",
       "[1000 rows x 3 columns]"
      ]
     },
     "execution_count": 103,
     "metadata": {},
     "output_type": "execute_result"
    }
   ],
   "source": [
    "df"
   ]
  },
  {
   "cell_type": "markdown",
   "metadata": {},
   "source": [
    "네이버블로그도 크롤링 완료!"
   ]
  },
  {
   "cell_type": "code",
   "execution_count": 104,
   "metadata": {},
   "outputs": [],
   "source": [
    "#csv와 엑셀로 저장해두기\n",
    "df.to_csv(\"Naver_Blog_crawling.csv\", index=False)\n",
    "df.to_excel(\"Naver_Blog_crawling.xlsx\")"
   ]
  },
  {
   "cell_type": "markdown",
   "metadata": {},
   "source": [
    "### (실패작) 인스타 크롤링\n",
    "#### 동적크롤링도 시도해봤는데 자꾸 오류가 떠서 다음번에 다시 도전해봐야겠다..."
   ]
  },
  {
   "cell_type": "code",
   "execution_count": null,
   "metadata": {},
   "outputs": [],
   "source": [
    "#동적크롤링이라 selenium 필요\n",
    "import requests\n",
    "from bs4 import BeautifulSoup\n",
    "from selenium import webdriver as wd\n",
    "from selenium.webdriver.common.by import By\n",
    "from selenium.webdriver.support.ui import WebDriverWait\n",
    "from selenium.webdriver.support import expected_conditions as EC\n",
    "import time\n",
    "import re\n",
    "\n",
    "keyword = \"코로나19\"\n",
    "url = \"https://www.instagram.com/explore/tags/{}/\".format(keyword)\n",
    "\n",
    "instagram_tags = [] #텍스트 넣을 리스트\n",
    "instagram_tag_dates = [] #게시날짜\n",
    "driver = wd.Chrome(\"C:/Temp/chromedriver.exe\") #크롬드라이버\n",
    "driver.get(url) #사이트로 이동\n",
    "time.sleep(3) #사이트 이동할때 로딩시간만큼의 휴식 부여 #안하면 오류뜸\n",
    "\n",
    "driver.find_element_by_css_selector('div.v1Nh3.kIKUG._bz0w').click()\n",
    "for i in range(1000):\n",
    "    time.sleep(2)\n",
    "    try:\n",
    "        data = driver.find_element_by_css_selector('.C7I1f.X7jCj') # C7I1f X7jCj\n",
    "        tag_raw = data.text\n",
    "        tags = re.findall('#[A-Za-z0-9가-힣]+', tag_raw)\n",
    "        tag = ''.join(tags).replace(\"#\",\" \") # \"#\" 제거\n",
    "        \n",
    "        tag_data = tag.split()\n",
    "        \n",
    "        for tag_one in tag_data:\n",
    "            instagram_tags.append(tag_one)\n",
    "            print(instagram_tags)\n",
    "            \n",
    "        date = driver.find_element_by_css_selector(\"time.FH9sR.Nzb55\" ).text # 날짜 선택\n",
    "        \n",
    "        if date.find('시간') != -1 or date.find('일') != -1 or date.find('분') != -1:\n",
    "            instagram_tag_dates.append('0주')\n",
    "        else:\n",
    "            instagram_tag_dates.append(date)\n",
    "            print(instagram_tag_dates)\n",
    "        \n",
    "    except:\n",
    "        instagram_tags.append(\"error\")\n",
    "        instagram_tag_dates.append('error')\n",
    "    try:\n",
    "        WebDriverWait(driver, 100).until(EC.presence_of_element_located((By.CSS_SELECTOR, 'a.HBoOv.coreSpriteRightPaginationArrow')))\n",
    "        driver.find_element_by_css_selector('a.HBoOv.coreSpriteRightPaginationArrow').click()\n",
    "    except:\n",
    "        driver.close()\n",
    "    # date = datum2.text\n",
    "    print(date)\n",
    "    \n",
    "    time.sleep(3)\n",
    "driver.close()"
   ]
  },
  {
   "cell_type": "markdown",
   "metadata": {},
   "source": [
    "## Step2) 전처리\n",
    "### 1. 트위터, 블로그 크롤링 데이터 하나로 합치기"
   ]
  },
  {
   "cell_type": "code",
   "execution_count": 1,
   "metadata": {},
   "outputs": [],
   "source": [
    "#저장해둔 csv파일 불러오기\n",
    "import pandas as pd\n",
    "import numpy as np\n",
    "\n",
    "blog = pd.read_csv(\"Naver_Blog_crawling.csv\")\n",
    "twitter = pd.read_csv(\"twitter_crawling.csv\")"
   ]
  },
  {
   "cell_type": "code",
   "execution_count": 2,
   "metadata": {},
   "outputs": [
    {
     "data": {
      "text/html": [
       "<div>\n",
       "<style scoped>\n",
       "    .dataframe tbody tr th:only-of-type {\n",
       "        vertical-align: middle;\n",
       "    }\n",
       "\n",
       "    .dataframe tbody tr th {\n",
       "        vertical-align: top;\n",
       "    }\n",
       "\n",
       "    .dataframe thead th {\n",
       "        text-align: right;\n",
       "    }\n",
       "</style>\n",
       "<table border=\"1\" class=\"dataframe\">\n",
       "  <thead>\n",
       "    <tr style=\"text-align: right;\">\n",
       "      <th></th>\n",
       "      <th>SNS_type</th>\n",
       "      <th>date</th>\n",
       "      <th>text</th>\n",
       "    </tr>\n",
       "  </thead>\n",
       "  <tbody>\n",
       "    <tr>\n",
       "      <th>0</th>\n",
       "      <td>Naver_Blog</td>\n",
       "      <td>2020-03-17</td>\n",
       "      <td>살균스틱 코로나 방지해요! 요즘 뉴스만 틀어도 대화 주제만 해도 코로나 이슈가 가장...</td>\n",
       "    </tr>\n",
       "    <tr>\n",
       "      <th>1</th>\n",
       "      <td>Naver_Blog</td>\n",
       "      <td>2020-03-18</td>\n",
       "      <td>코로나19 백신 치료제 개발 큐어백 트럼프가 투자 로이터 통신에서 흥미로운... 참...</td>\n",
       "    </tr>\n",
       "    <tr>\n",
       "      <th>2</th>\n",
       "      <td>Naver_Blog</td>\n",
       "      <td>2020-03-18</td>\n",
       "      <td>아이가 있어서 아무래도 평상시에 손을 자주 씻었는데요 지금은 또 코로나바이러스......</td>\n",
       "    </tr>\n",
       "    <tr>\n",
       "      <th>3</th>\n",
       "      <td>Naver_Blog</td>\n",
       "      <td>2020-03-02</td>\n",
       "      <td>[Ep.01] 우한 폐렴 (코로나19) 눈만 뜨면 코로나 코로나 매일 늘어나는 확진...</td>\n",
       "    </tr>\n",
       "    <tr>\n",
       "      <th>4</th>\n",
       "      <td>Naver_Blog</td>\n",
       "      <td>2020-03-06</td>\n",
       "      <td>코로나19 때문에 일상이 너무 달라졌어요. 아침에 눈 뜨면 오늘의 날씨가 아닌 뉴스...</td>\n",
       "    </tr>\n",
       "    <tr>\n",
       "      <th>...</th>\n",
       "      <td>...</td>\n",
       "      <td>...</td>\n",
       "      <td>...</td>\n",
       "    </tr>\n",
       "    <tr>\n",
       "      <th>995</th>\n",
       "      <td>Naver_Blog</td>\n",
       "      <td>2020-03-17</td>\n",
       "      <td>코로나19 비켜! 중앙로 지하상가 코로나19 방역 이상무!! 전국에서 대전은 코로나...</td>\n",
       "    </tr>\n",
       "    <tr>\n",
       "      <th>996</th>\n",
       "      <td>Naver_Blog</td>\n",
       "      <td>2020-02-28</td>\n",
       "      <td>세 나라 모두가 코로나19 습격으로 휘청거리는 모습을 보인다. 2월 중순까지만 해도...</td>\n",
       "    </tr>\n",
       "    <tr>\n",
       "      <th>997</th>\n",
       "      <td>Naver_Blog</td>\n",
       "      <td>2020-03-17</td>\n",
       "      <td>이로 인해 코로나19 업무로 눈 코 뜰 새 없는 질병관리본부는 관련 의혹에 대해.....</td>\n",
       "    </tr>\n",
       "    <tr>\n",
       "      <th>998</th>\n",
       "      <td>Naver_Blog</td>\n",
       "      <td>2020-03-12</td>\n",
       "      <td>급여세 인하 검토 (정확히는 검토다 검토) 하지만 코로나 바이러스 앞에서는... 이...</td>\n",
       "    </tr>\n",
       "    <tr>\n",
       "      <th>999</th>\n",
       "      <td>Naver_Blog</td>\n",
       "      <td>2020-03-18</td>\n",
       "      <td>코로나19 극복을 위한 노동자, 사업주 지원안내! 휴업수당, 가족돌봄휴가비... 휴...</td>\n",
       "    </tr>\n",
       "  </tbody>\n",
       "</table>\n",
       "<p>1000 rows × 3 columns</p>\n",
       "</div>"
      ],
      "text/plain": [
       "       SNS_type        date                                               text\n",
       "0    Naver_Blog  2020-03-17  살균스틱 코로나 방지해요! 요즘 뉴스만 틀어도 대화 주제만 해도 코로나 이슈가 가장...\n",
       "1    Naver_Blog  2020-03-18  코로나19 백신 치료제 개발 큐어백 트럼프가 투자 로이터 통신에서 흥미로운... 참...\n",
       "2    Naver_Blog  2020-03-18  아이가 있어서 아무래도 평상시에 손을 자주 씻었는데요 지금은 또 코로나바이러스......\n",
       "3    Naver_Blog  2020-03-02  [Ep.01] 우한 폐렴 (코로나19) 눈만 뜨면 코로나 코로나 매일 늘어나는 확진...\n",
       "4    Naver_Blog  2020-03-06  코로나19 때문에 일상이 너무 달라졌어요. 아침에 눈 뜨면 오늘의 날씨가 아닌 뉴스...\n",
       "..          ...         ...                                                ...\n",
       "995  Naver_Blog  2020-03-17  코로나19 비켜! 중앙로 지하상가 코로나19 방역 이상무!! 전국에서 대전은 코로나...\n",
       "996  Naver_Blog  2020-02-28  세 나라 모두가 코로나19 습격으로 휘청거리는 모습을 보인다. 2월 중순까지만 해도...\n",
       "997  Naver_Blog  2020-03-17  이로 인해 코로나19 업무로 눈 코 뜰 새 없는 질병관리본부는 관련 의혹에 대해.....\n",
       "998  Naver_Blog  2020-03-12  급여세 인하 검토 (정확히는 검토다 검토) 하지만 코로나 바이러스 앞에서는... 이...\n",
       "999  Naver_Blog  2020-03-18  코로나19 극복을 위한 노동자, 사업주 지원안내! 휴업수당, 가족돌봄휴가비... 휴...\n",
       "\n",
       "[1000 rows x 3 columns]"
      ]
     },
     "execution_count": 2,
     "metadata": {},
     "output_type": "execute_result"
    }
   ],
   "source": [
    "blog #블로그는 1000개"
   ]
  },
  {
   "cell_type": "code",
   "execution_count": 3,
   "metadata": {},
   "outputs": [
    {
     "data": {
      "text/html": [
       "<div>\n",
       "<style scoped>\n",
       "    .dataframe tbody tr th:only-of-type {\n",
       "        vertical-align: middle;\n",
       "    }\n",
       "\n",
       "    .dataframe tbody tr th {\n",
       "        vertical-align: top;\n",
       "    }\n",
       "\n",
       "    .dataframe thead th {\n",
       "        text-align: right;\n",
       "    }\n",
       "</style>\n",
       "<table border=\"1\" class=\"dataframe\">\n",
       "  <thead>\n",
       "    <tr style=\"text-align: right;\">\n",
       "      <th></th>\n",
       "      <th>date</th>\n",
       "      <th>time</th>\n",
       "      <th>user_name</th>\n",
       "      <th>text</th>\n",
       "      <th>link</th>\n",
       "    </tr>\n",
       "  </thead>\n",
       "  <tbody>\n",
       "    <tr>\n",
       "      <th>0</th>\n",
       "      <td>2020-03-19</td>\n",
       "      <td>23:59:59</td>\n",
       "      <td>bjw078931</td>\n",
       "      <td>[다음카페] 능력이 있어야 위기가 기회다. 위기이어야 기회가 있다. 코로나 19 감...</td>\n",
       "      <td>https://twitter.com/bjw078931/status/124079015...</td>\n",
       "    </tr>\n",
       "    <tr>\n",
       "      <th>1</th>\n",
       "      <td>2020-03-19</td>\n",
       "      <td>23:59:59</td>\n",
       "      <td>dango_uu</td>\n",
       "      <td>ㄱ아트도 봐야하는데 코로나때문에...</td>\n",
       "      <td>https://twitter.com/dango_uu/status/1240790151...</td>\n",
       "    </tr>\n",
       "    <tr>\n",
       "      <th>2</th>\n",
       "      <td>2020-03-19</td>\n",
       "      <td>23:59:52</td>\n",
       "      <td>ipulip41</td>\n",
       "      <td>美 국무부, 전세계 ‘여행금지’ 경보... 미국 내 코로나19 급속 확산 http:...</td>\n",
       "      <td>https://twitter.com/ipulip41/status/1240790122...</td>\n",
       "    </tr>\n",
       "    <tr>\n",
       "      <th>3</th>\n",
       "      <td>2020-03-19</td>\n",
       "      <td>23:59:45</td>\n",
       "      <td>6882c93abe3b4a1</td>\n",
       "      <td>펜스 부통령이 TF를 이끌게 되면서 코로나19 사태를 공중보건 위기이자 언론대응 위...</td>\n",
       "      <td>https://twitter.com/6882c93abe3b4a1/status/124...</td>\n",
       "    </tr>\n",
       "    <tr>\n",
       "      <th>4</th>\n",
       "      <td>2020-03-19</td>\n",
       "      <td>23:59:45</td>\n",
       "      <td>moonsoonc</td>\n",
       "      <td>감자: 지구상에서 가장 강인한 식물! 우리는 이겨낸다. 시험에 드는 시간 오늘도 1...</td>\n",
       "      <td>https://twitter.com/moonsoonc/status/124079009...</td>\n",
       "    </tr>\n",
       "    <tr>\n",
       "      <th>...</th>\n",
       "      <td>...</td>\n",
       "      <td>...</td>\n",
       "      <td>...</td>\n",
       "      <td>...</td>\n",
       "      <td>...</td>\n",
       "    </tr>\n",
       "    <tr>\n",
       "      <th>27906</th>\n",
       "      <td>2020-03-19</td>\n",
       "      <td>00:00:17</td>\n",
       "      <td>ja_nassem</td>\n",
       "      <td>일가나쌤의일본뉴스코로나19에어로졸로3시간생존미국연구그룹발표(일한자막 일부공개) (출...</td>\n",
       "      <td>https://twitter.com/ja_nassem/status/124042783...</td>\n",
       "    </tr>\n",
       "    <tr>\n",
       "      <th>27907</th>\n",
       "      <td>2020-03-19</td>\n",
       "      <td>00:00:11</td>\n",
       "      <td>T1LoL</td>\n",
       "      <td>코로나19 피해 복구 및 방지를 위해 진행되었던 릴레이 기부 스트리밍에서 모금된 3...</td>\n",
       "      <td>https://twitter.com/T1LoL/status/1240427815624...</td>\n",
       "    </tr>\n",
       "    <tr>\n",
       "      <th>27908</th>\n",
       "      <td>2020-03-19</td>\n",
       "      <td>00:00:04</td>\n",
       "      <td>xiahrang</td>\n",
       "      <td>좋아하는 극인데 왜이리 기분이 다운되냐 ㅠ 코로나 개객기 ㅜ</td>\n",
       "      <td>https://twitter.com/xiahrang/status/1240427783...</td>\n",
       "    </tr>\n",
       "    <tr>\n",
       "      <th>27909</th>\n",
       "      <td>2020-03-19</td>\n",
       "      <td>00:00:02</td>\n",
       "      <td>korea0999</td>\n",
       "      <td>도올 “한국 기독교 ‘구약 코로나’에 감염… ‘원조 예수’로 돌아와야” (출처 : ...</td>\n",
       "      <td>https://twitter.com/korea0999/status/124042777...</td>\n",
       "    </tr>\n",
       "    <tr>\n",
       "      <th>27910</th>\n",
       "      <td>2020-03-19</td>\n",
       "      <td>00:00:01</td>\n",
       "      <td>blues114</td>\n",
       "      <td>시흥시 코로나19 감염 예방 사회적거리두기 비대면 스마트폰 결제 모바일 시루 각광</td>\n",
       "      <td>https://twitter.com/blues114/status/1240427771...</td>\n",
       "    </tr>\n",
       "  </tbody>\n",
       "</table>\n",
       "<p>27911 rows × 5 columns</p>\n",
       "</div>"
      ],
      "text/plain": [
       "             date      time        user_name  \\\n",
       "0      2020-03-19  23:59:59        bjw078931   \n",
       "1      2020-03-19  23:59:59         dango_uu   \n",
       "2      2020-03-19  23:59:52         ipulip41   \n",
       "3      2020-03-19  23:59:45  6882c93abe3b4a1   \n",
       "4      2020-03-19  23:59:45        moonsoonc   \n",
       "...           ...       ...              ...   \n",
       "27906  2020-03-19  00:00:17        ja_nassem   \n",
       "27907  2020-03-19  00:00:11            T1LoL   \n",
       "27908  2020-03-19  00:00:04         xiahrang   \n",
       "27909  2020-03-19  00:00:02        korea0999   \n",
       "27910  2020-03-19  00:00:01         blues114   \n",
       "\n",
       "                                                    text  \\\n",
       "0      [다음카페] 능력이 있어야 위기가 기회다. 위기이어야 기회가 있다. 코로나 19 감...   \n",
       "1                                   ㄱ아트도 봐야하는데 코로나때문에...   \n",
       "2      美 국무부, 전세계 ‘여행금지’ 경보... 미국 내 코로나19 급속 확산 http:...   \n",
       "3      펜스 부통령이 TF를 이끌게 되면서 코로나19 사태를 공중보건 위기이자 언론대응 위...   \n",
       "4      감자: 지구상에서 가장 강인한 식물! 우리는 이겨낸다. 시험에 드는 시간 오늘도 1...   \n",
       "...                                                  ...   \n",
       "27906  일가나쌤의일본뉴스코로나19에어로졸로3시간생존미국연구그룹발표(일한자막 일부공개) (출...   \n",
       "27907  코로나19 피해 복구 및 방지를 위해 진행되었던 릴레이 기부 스트리밍에서 모금된 3...   \n",
       "27908                  좋아하는 극인데 왜이리 기분이 다운되냐 ㅠ 코로나 개객기 ㅜ   \n",
       "27909  도올 “한국 기독교 ‘구약 코로나’에 감염… ‘원조 예수’로 돌아와야” (출처 : ...   \n",
       "27910     시흥시 코로나19 감염 예방 사회적거리두기 비대면 스마트폰 결제 모바일 시루 각광    \n",
       "\n",
       "                                                    link  \n",
       "0      https://twitter.com/bjw078931/status/124079015...  \n",
       "1      https://twitter.com/dango_uu/status/1240790151...  \n",
       "2      https://twitter.com/ipulip41/status/1240790122...  \n",
       "3      https://twitter.com/6882c93abe3b4a1/status/124...  \n",
       "4      https://twitter.com/moonsoonc/status/124079009...  \n",
       "...                                                  ...  \n",
       "27906  https://twitter.com/ja_nassem/status/124042783...  \n",
       "27907  https://twitter.com/T1LoL/status/1240427815624...  \n",
       "27908  https://twitter.com/xiahrang/status/1240427783...  \n",
       "27909  https://twitter.com/korea0999/status/124042777...  \n",
       "27910  https://twitter.com/blues114/status/1240427771...  \n",
       "\n",
       "[27911 rows x 5 columns]"
      ]
     },
     "execution_count": 3,
     "metadata": {},
     "output_type": "execute_result"
    }
   ],
   "source": [
    "twitter #트위터는 27911개"
   ]
  },
  {
   "cell_type": "code",
   "execution_count": 4,
   "metadata": {},
   "outputs": [
    {
     "data": {
      "text/html": [
       "<div>\n",
       "<style scoped>\n",
       "    .dataframe tbody tr th:only-of-type {\n",
       "        vertical-align: middle;\n",
       "    }\n",
       "\n",
       "    .dataframe tbody tr th {\n",
       "        vertical-align: top;\n",
       "    }\n",
       "\n",
       "    .dataframe thead th {\n",
       "        text-align: right;\n",
       "    }\n",
       "</style>\n",
       "<table border=\"1\" class=\"dataframe\">\n",
       "  <thead>\n",
       "    <tr style=\"text-align: right;\">\n",
       "      <th></th>\n",
       "      <th>date</th>\n",
       "      <th>text</th>\n",
       "    </tr>\n",
       "  </thead>\n",
       "  <tbody>\n",
       "    <tr>\n",
       "      <th>0</th>\n",
       "      <td>2020-03-19</td>\n",
       "      <td>[다음카페] 능력이 있어야 위기가 기회다. 위기이어야 기회가 있다. 코로나 19 감...</td>\n",
       "    </tr>\n",
       "    <tr>\n",
       "      <th>1</th>\n",
       "      <td>2020-03-19</td>\n",
       "      <td>ㄱ아트도 봐야하는데 코로나때문에...</td>\n",
       "    </tr>\n",
       "    <tr>\n",
       "      <th>2</th>\n",
       "      <td>2020-03-19</td>\n",
       "      <td>美 국무부, 전세계 ‘여행금지’ 경보... 미국 내 코로나19 급속 확산 http:...</td>\n",
       "    </tr>\n",
       "    <tr>\n",
       "      <th>3</th>\n",
       "      <td>2020-03-19</td>\n",
       "      <td>펜스 부통령이 TF를 이끌게 되면서 코로나19 사태를 공중보건 위기이자 언론대응 위...</td>\n",
       "    </tr>\n",
       "    <tr>\n",
       "      <th>4</th>\n",
       "      <td>2020-03-19</td>\n",
       "      <td>감자: 지구상에서 가장 강인한 식물! 우리는 이겨낸다. 시험에 드는 시간 오늘도 1...</td>\n",
       "    </tr>\n",
       "    <tr>\n",
       "      <th>...</th>\n",
       "      <td>...</td>\n",
       "      <td>...</td>\n",
       "    </tr>\n",
       "    <tr>\n",
       "      <th>27906</th>\n",
       "      <td>2020-03-19</td>\n",
       "      <td>일가나쌤의일본뉴스코로나19에어로졸로3시간생존미국연구그룹발표(일한자막 일부공개) (출...</td>\n",
       "    </tr>\n",
       "    <tr>\n",
       "      <th>27907</th>\n",
       "      <td>2020-03-19</td>\n",
       "      <td>코로나19 피해 복구 및 방지를 위해 진행되었던 릴레이 기부 스트리밍에서 모금된 3...</td>\n",
       "    </tr>\n",
       "    <tr>\n",
       "      <th>27908</th>\n",
       "      <td>2020-03-19</td>\n",
       "      <td>좋아하는 극인데 왜이리 기분이 다운되냐 ㅠ 코로나 개객기 ㅜ</td>\n",
       "    </tr>\n",
       "    <tr>\n",
       "      <th>27909</th>\n",
       "      <td>2020-03-19</td>\n",
       "      <td>도올 “한국 기독교 ‘구약 코로나’에 감염… ‘원조 예수’로 돌아와야” (출처 : ...</td>\n",
       "    </tr>\n",
       "    <tr>\n",
       "      <th>27910</th>\n",
       "      <td>2020-03-19</td>\n",
       "      <td>시흥시 코로나19 감염 예방 사회적거리두기 비대면 스마트폰 결제 모바일 시루 각광</td>\n",
       "    </tr>\n",
       "  </tbody>\n",
       "</table>\n",
       "<p>27911 rows × 2 columns</p>\n",
       "</div>"
      ],
      "text/plain": [
       "             date                                               text\n",
       "0      2020-03-19  [다음카페] 능력이 있어야 위기가 기회다. 위기이어야 기회가 있다. 코로나 19 감...\n",
       "1      2020-03-19                               ㄱ아트도 봐야하는데 코로나때문에...\n",
       "2      2020-03-19  美 국무부, 전세계 ‘여행금지’ 경보... 미국 내 코로나19 급속 확산 http:...\n",
       "3      2020-03-19  펜스 부통령이 TF를 이끌게 되면서 코로나19 사태를 공중보건 위기이자 언론대응 위...\n",
       "4      2020-03-19  감자: 지구상에서 가장 강인한 식물! 우리는 이겨낸다. 시험에 드는 시간 오늘도 1...\n",
       "...           ...                                                ...\n",
       "27906  2020-03-19  일가나쌤의일본뉴스코로나19에어로졸로3시간생존미국연구그룹발표(일한자막 일부공개) (출...\n",
       "27907  2020-03-19  코로나19 피해 복구 및 방지를 위해 진행되었던 릴레이 기부 스트리밍에서 모금된 3...\n",
       "27908  2020-03-19                  좋아하는 극인데 왜이리 기분이 다운되냐 ㅠ 코로나 개객기 ㅜ\n",
       "27909  2020-03-19  도올 “한국 기독교 ‘구약 코로나’에 감염… ‘원조 예수’로 돌아와야” (출처 : ...\n",
       "27910  2020-03-19     시흥시 코로나19 감염 예방 사회적거리두기 비대면 스마트폰 결제 모바일 시루 각광 \n",
       "\n",
       "[27911 rows x 2 columns]"
      ]
     },
     "execution_count": 4,
     "metadata": {},
     "output_type": "execute_result"
    }
   ],
   "source": [
    "#twitter을  blog 데이터프레임처럼 바꿔주기\n",
    "#time, id, ㅣink 열 삭제\n",
    "twitter = twitter.drop(['time', 'user_name', 'link'], axis=1)\n",
    "twitter"
   ]
  },
  {
   "cell_type": "code",
   "execution_count": 5,
   "metadata": {},
   "outputs": [
    {
     "data": {
      "text/html": [
       "<div>\n",
       "<style scoped>\n",
       "    .dataframe tbody tr th:only-of-type {\n",
       "        vertical-align: middle;\n",
       "    }\n",
       "\n",
       "    .dataframe tbody tr th {\n",
       "        vertical-align: top;\n",
       "    }\n",
       "\n",
       "    .dataframe thead th {\n",
       "        text-align: right;\n",
       "    }\n",
       "</style>\n",
       "<table border=\"1\" class=\"dataframe\">\n",
       "  <thead>\n",
       "    <tr style=\"text-align: right;\">\n",
       "      <th></th>\n",
       "      <th>date</th>\n",
       "      <th>text</th>\n",
       "      <th>SNS_type</th>\n",
       "    </tr>\n",
       "  </thead>\n",
       "  <tbody>\n",
       "    <tr>\n",
       "      <th>0</th>\n",
       "      <td>2020-03-19</td>\n",
       "      <td>[다음카페] 능력이 있어야 위기가 기회다. 위기이어야 기회가 있다. 코로나 19 감...</td>\n",
       "      <td>twitter</td>\n",
       "    </tr>\n",
       "    <tr>\n",
       "      <th>1</th>\n",
       "      <td>2020-03-19</td>\n",
       "      <td>ㄱ아트도 봐야하는데 코로나때문에...</td>\n",
       "      <td>twitter</td>\n",
       "    </tr>\n",
       "    <tr>\n",
       "      <th>2</th>\n",
       "      <td>2020-03-19</td>\n",
       "      <td>美 국무부, 전세계 ‘여행금지’ 경보... 미국 내 코로나19 급속 확산 http:...</td>\n",
       "      <td>twitter</td>\n",
       "    </tr>\n",
       "    <tr>\n",
       "      <th>3</th>\n",
       "      <td>2020-03-19</td>\n",
       "      <td>펜스 부통령이 TF를 이끌게 되면서 코로나19 사태를 공중보건 위기이자 언론대응 위...</td>\n",
       "      <td>twitter</td>\n",
       "    </tr>\n",
       "    <tr>\n",
       "      <th>4</th>\n",
       "      <td>2020-03-19</td>\n",
       "      <td>감자: 지구상에서 가장 강인한 식물! 우리는 이겨낸다. 시험에 드는 시간 오늘도 1...</td>\n",
       "      <td>twitter</td>\n",
       "    </tr>\n",
       "    <tr>\n",
       "      <th>...</th>\n",
       "      <td>...</td>\n",
       "      <td>...</td>\n",
       "      <td>...</td>\n",
       "    </tr>\n",
       "    <tr>\n",
       "      <th>27906</th>\n",
       "      <td>2020-03-19</td>\n",
       "      <td>일가나쌤의일본뉴스코로나19에어로졸로3시간생존미국연구그룹발표(일한자막 일부공개) (출...</td>\n",
       "      <td>twitter</td>\n",
       "    </tr>\n",
       "    <tr>\n",
       "      <th>27907</th>\n",
       "      <td>2020-03-19</td>\n",
       "      <td>코로나19 피해 복구 및 방지를 위해 진행되었던 릴레이 기부 스트리밍에서 모금된 3...</td>\n",
       "      <td>twitter</td>\n",
       "    </tr>\n",
       "    <tr>\n",
       "      <th>27908</th>\n",
       "      <td>2020-03-19</td>\n",
       "      <td>좋아하는 극인데 왜이리 기분이 다운되냐 ㅠ 코로나 개객기 ㅜ</td>\n",
       "      <td>twitter</td>\n",
       "    </tr>\n",
       "    <tr>\n",
       "      <th>27909</th>\n",
       "      <td>2020-03-19</td>\n",
       "      <td>도올 “한국 기독교 ‘구약 코로나’에 감염… ‘원조 예수’로 돌아와야” (출처 : ...</td>\n",
       "      <td>twitter</td>\n",
       "    </tr>\n",
       "    <tr>\n",
       "      <th>27910</th>\n",
       "      <td>2020-03-19</td>\n",
       "      <td>시흥시 코로나19 감염 예방 사회적거리두기 비대면 스마트폰 결제 모바일 시루 각광</td>\n",
       "      <td>twitter</td>\n",
       "    </tr>\n",
       "  </tbody>\n",
       "</table>\n",
       "<p>27911 rows × 3 columns</p>\n",
       "</div>"
      ],
      "text/plain": [
       "             date                                               text SNS_type\n",
       "0      2020-03-19  [다음카페] 능력이 있어야 위기가 기회다. 위기이어야 기회가 있다. 코로나 19 감...  twitter\n",
       "1      2020-03-19                               ㄱ아트도 봐야하는데 코로나때문에...  twitter\n",
       "2      2020-03-19  美 국무부, 전세계 ‘여행금지’ 경보... 미국 내 코로나19 급속 확산 http:...  twitter\n",
       "3      2020-03-19  펜스 부통령이 TF를 이끌게 되면서 코로나19 사태를 공중보건 위기이자 언론대응 위...  twitter\n",
       "4      2020-03-19  감자: 지구상에서 가장 강인한 식물! 우리는 이겨낸다. 시험에 드는 시간 오늘도 1...  twitter\n",
       "...           ...                                                ...      ...\n",
       "27906  2020-03-19  일가나쌤의일본뉴스코로나19에어로졸로3시간생존미국연구그룹발표(일한자막 일부공개) (출...  twitter\n",
       "27907  2020-03-19  코로나19 피해 복구 및 방지를 위해 진행되었던 릴레이 기부 스트리밍에서 모금된 3...  twitter\n",
       "27908  2020-03-19                  좋아하는 극인데 왜이리 기분이 다운되냐 ㅠ 코로나 개객기 ㅜ  twitter\n",
       "27909  2020-03-19  도올 “한국 기독교 ‘구약 코로나’에 감염… ‘원조 예수’로 돌아와야” (출처 : ...  twitter\n",
       "27910  2020-03-19     시흥시 코로나19 감염 예방 사회적거리두기 비대면 스마트폰 결제 모바일 시루 각광   twitter\n",
       "\n",
       "[27911 rows x 3 columns]"
      ]
     },
     "execution_count": 5,
     "metadata": {},
     "output_type": "execute_result"
    }
   ],
   "source": [
    "#sns type 열 추가\n",
    "twitter['SNS_type'] = 'twitter'\n",
    "twitter"
   ]
  },
  {
   "cell_type": "code",
   "execution_count": 6,
   "metadata": {},
   "outputs": [
    {
     "data": {
      "text/html": [
       "<div>\n",
       "<style scoped>\n",
       "    .dataframe tbody tr th:only-of-type {\n",
       "        vertical-align: middle;\n",
       "    }\n",
       "\n",
       "    .dataframe tbody tr th {\n",
       "        vertical-align: top;\n",
       "    }\n",
       "\n",
       "    .dataframe thead th {\n",
       "        text-align: right;\n",
       "    }\n",
       "</style>\n",
       "<table border=\"1\" class=\"dataframe\">\n",
       "  <thead>\n",
       "    <tr style=\"text-align: right;\">\n",
       "      <th></th>\n",
       "      <th>SNS_type</th>\n",
       "      <th>date</th>\n",
       "      <th>text</th>\n",
       "    </tr>\n",
       "  </thead>\n",
       "  <tbody>\n",
       "    <tr>\n",
       "      <th>0</th>\n",
       "      <td>twitter</td>\n",
       "      <td>2020-03-19</td>\n",
       "      <td>[다음카페] 능력이 있어야 위기가 기회다. 위기이어야 기회가 있다. 코로나 19 감...</td>\n",
       "    </tr>\n",
       "    <tr>\n",
       "      <th>1</th>\n",
       "      <td>twitter</td>\n",
       "      <td>2020-03-19</td>\n",
       "      <td>ㄱ아트도 봐야하는데 코로나때문에...</td>\n",
       "    </tr>\n",
       "    <tr>\n",
       "      <th>2</th>\n",
       "      <td>twitter</td>\n",
       "      <td>2020-03-19</td>\n",
       "      <td>美 국무부, 전세계 ‘여행금지’ 경보... 미국 내 코로나19 급속 확산 http:...</td>\n",
       "    </tr>\n",
       "    <tr>\n",
       "      <th>3</th>\n",
       "      <td>twitter</td>\n",
       "      <td>2020-03-19</td>\n",
       "      <td>펜스 부통령이 TF를 이끌게 되면서 코로나19 사태를 공중보건 위기이자 언론대응 위...</td>\n",
       "    </tr>\n",
       "    <tr>\n",
       "      <th>4</th>\n",
       "      <td>twitter</td>\n",
       "      <td>2020-03-19</td>\n",
       "      <td>감자: 지구상에서 가장 강인한 식물! 우리는 이겨낸다. 시험에 드는 시간 오늘도 1...</td>\n",
       "    </tr>\n",
       "    <tr>\n",
       "      <th>...</th>\n",
       "      <td>...</td>\n",
       "      <td>...</td>\n",
       "      <td>...</td>\n",
       "    </tr>\n",
       "    <tr>\n",
       "      <th>27906</th>\n",
       "      <td>twitter</td>\n",
       "      <td>2020-03-19</td>\n",
       "      <td>일가나쌤의일본뉴스코로나19에어로졸로3시간생존미국연구그룹발표(일한자막 일부공개) (출...</td>\n",
       "    </tr>\n",
       "    <tr>\n",
       "      <th>27907</th>\n",
       "      <td>twitter</td>\n",
       "      <td>2020-03-19</td>\n",
       "      <td>코로나19 피해 복구 및 방지를 위해 진행되었던 릴레이 기부 스트리밍에서 모금된 3...</td>\n",
       "    </tr>\n",
       "    <tr>\n",
       "      <th>27908</th>\n",
       "      <td>twitter</td>\n",
       "      <td>2020-03-19</td>\n",
       "      <td>좋아하는 극인데 왜이리 기분이 다운되냐 ㅠ 코로나 개객기 ㅜ</td>\n",
       "    </tr>\n",
       "    <tr>\n",
       "      <th>27909</th>\n",
       "      <td>twitter</td>\n",
       "      <td>2020-03-19</td>\n",
       "      <td>도올 “한국 기독교 ‘구약 코로나’에 감염… ‘원조 예수’로 돌아와야” (출처 : ...</td>\n",
       "    </tr>\n",
       "    <tr>\n",
       "      <th>27910</th>\n",
       "      <td>twitter</td>\n",
       "      <td>2020-03-19</td>\n",
       "      <td>시흥시 코로나19 감염 예방 사회적거리두기 비대면 스마트폰 결제 모바일 시루 각광</td>\n",
       "    </tr>\n",
       "  </tbody>\n",
       "</table>\n",
       "<p>27911 rows × 3 columns</p>\n",
       "</div>"
      ],
      "text/plain": [
       "      SNS_type        date                                               text\n",
       "0      twitter  2020-03-19  [다음카페] 능력이 있어야 위기가 기회다. 위기이어야 기회가 있다. 코로나 19 감...\n",
       "1      twitter  2020-03-19                               ㄱ아트도 봐야하는데 코로나때문에...\n",
       "2      twitter  2020-03-19  美 국무부, 전세계 ‘여행금지’ 경보... 미국 내 코로나19 급속 확산 http:...\n",
       "3      twitter  2020-03-19  펜스 부통령이 TF를 이끌게 되면서 코로나19 사태를 공중보건 위기이자 언론대응 위...\n",
       "4      twitter  2020-03-19  감자: 지구상에서 가장 강인한 식물! 우리는 이겨낸다. 시험에 드는 시간 오늘도 1...\n",
       "...        ...         ...                                                ...\n",
       "27906  twitter  2020-03-19  일가나쌤의일본뉴스코로나19에어로졸로3시간생존미국연구그룹발표(일한자막 일부공개) (출...\n",
       "27907  twitter  2020-03-19  코로나19 피해 복구 및 방지를 위해 진행되었던 릴레이 기부 스트리밍에서 모금된 3...\n",
       "27908  twitter  2020-03-19                  좋아하는 극인데 왜이리 기분이 다운되냐 ㅠ 코로나 개객기 ㅜ\n",
       "27909  twitter  2020-03-19  도올 “한국 기독교 ‘구약 코로나’에 감염… ‘원조 예수’로 돌아와야” (출처 : ...\n",
       "27910  twitter  2020-03-19     시흥시 코로나19 감염 예방 사회적거리두기 비대면 스마트폰 결제 모바일 시루 각광 \n",
       "\n",
       "[27911 rows x 3 columns]"
      ]
     },
     "execution_count": 6,
     "metadata": {},
     "output_type": "execute_result"
    }
   ],
   "source": [
    "#sns, date, text 순으로 순서 바꾸기\n",
    "\n",
    "twitter = twitter[['SNS_type','date','text']]\n",
    "twitter"
   ]
  },
  {
   "cell_type": "code",
   "execution_count": 7,
   "metadata": {},
   "outputs": [
    {
     "data": {
      "text/html": [
       "<div>\n",
       "<style scoped>\n",
       "    .dataframe tbody tr th:only-of-type {\n",
       "        vertical-align: middle;\n",
       "    }\n",
       "\n",
       "    .dataframe tbody tr th {\n",
       "        vertical-align: top;\n",
       "    }\n",
       "\n",
       "    .dataframe thead th {\n",
       "        text-align: right;\n",
       "    }\n",
       "</style>\n",
       "<table border=\"1\" class=\"dataframe\">\n",
       "  <thead>\n",
       "    <tr style=\"text-align: right;\">\n",
       "      <th></th>\n",
       "      <th>SNS_type</th>\n",
       "      <th>date</th>\n",
       "      <th>text</th>\n",
       "    </tr>\n",
       "  </thead>\n",
       "  <tbody>\n",
       "    <tr>\n",
       "      <th>0</th>\n",
       "      <td>Naver_Blog</td>\n",
       "      <td>2020-03-17</td>\n",
       "      <td>살균스틱 코로나 방지해요! 요즘 뉴스만 틀어도 대화 주제만 해도 코로나 이슈가 가장...</td>\n",
       "    </tr>\n",
       "    <tr>\n",
       "      <th>1</th>\n",
       "      <td>Naver_Blog</td>\n",
       "      <td>2020-03-18</td>\n",
       "      <td>코로나19 백신 치료제 개발 큐어백 트럼프가 투자 로이터 통신에서 흥미로운... 참...</td>\n",
       "    </tr>\n",
       "    <tr>\n",
       "      <th>2</th>\n",
       "      <td>Naver_Blog</td>\n",
       "      <td>2020-03-18</td>\n",
       "      <td>아이가 있어서 아무래도 평상시에 손을 자주 씻었는데요 지금은 또 코로나바이러스......</td>\n",
       "    </tr>\n",
       "    <tr>\n",
       "      <th>3</th>\n",
       "      <td>Naver_Blog</td>\n",
       "      <td>2020-03-02</td>\n",
       "      <td>[Ep.01] 우한 폐렴 (코로나19) 눈만 뜨면 코로나 코로나 매일 늘어나는 확진...</td>\n",
       "    </tr>\n",
       "    <tr>\n",
       "      <th>4</th>\n",
       "      <td>Naver_Blog</td>\n",
       "      <td>2020-03-06</td>\n",
       "      <td>코로나19 때문에 일상이 너무 달라졌어요. 아침에 눈 뜨면 오늘의 날씨가 아닌 뉴스...</td>\n",
       "    </tr>\n",
       "    <tr>\n",
       "      <th>...</th>\n",
       "      <td>...</td>\n",
       "      <td>...</td>\n",
       "      <td>...</td>\n",
       "    </tr>\n",
       "    <tr>\n",
       "      <th>28906</th>\n",
       "      <td>twitter</td>\n",
       "      <td>2020-03-19</td>\n",
       "      <td>일가나쌤의일본뉴스코로나19에어로졸로3시간생존미국연구그룹발표(일한자막 일부공개) (출...</td>\n",
       "    </tr>\n",
       "    <tr>\n",
       "      <th>28907</th>\n",
       "      <td>twitter</td>\n",
       "      <td>2020-03-19</td>\n",
       "      <td>코로나19 피해 복구 및 방지를 위해 진행되었던 릴레이 기부 스트리밍에서 모금된 3...</td>\n",
       "    </tr>\n",
       "    <tr>\n",
       "      <th>28908</th>\n",
       "      <td>twitter</td>\n",
       "      <td>2020-03-19</td>\n",
       "      <td>좋아하는 극인데 왜이리 기분이 다운되냐 ㅠ 코로나 개객기 ㅜ</td>\n",
       "    </tr>\n",
       "    <tr>\n",
       "      <th>28909</th>\n",
       "      <td>twitter</td>\n",
       "      <td>2020-03-19</td>\n",
       "      <td>도올 “한국 기독교 ‘구약 코로나’에 감염… ‘원조 예수’로 돌아와야” (출처 : ...</td>\n",
       "    </tr>\n",
       "    <tr>\n",
       "      <th>28910</th>\n",
       "      <td>twitter</td>\n",
       "      <td>2020-03-19</td>\n",
       "      <td>시흥시 코로나19 감염 예방 사회적거리두기 비대면 스마트폰 결제 모바일 시루 각광</td>\n",
       "    </tr>\n",
       "  </tbody>\n",
       "</table>\n",
       "<p>28911 rows × 3 columns</p>\n",
       "</div>"
      ],
      "text/plain": [
       "         SNS_type        date  \\\n",
       "0      Naver_Blog  2020-03-17   \n",
       "1      Naver_Blog  2020-03-18   \n",
       "2      Naver_Blog  2020-03-18   \n",
       "3      Naver_Blog  2020-03-02   \n",
       "4      Naver_Blog  2020-03-06   \n",
       "...           ...         ...   \n",
       "28906     twitter  2020-03-19   \n",
       "28907     twitter  2020-03-19   \n",
       "28908     twitter  2020-03-19   \n",
       "28909     twitter  2020-03-19   \n",
       "28910     twitter  2020-03-19   \n",
       "\n",
       "                                                    text  \n",
       "0      살균스틱 코로나 방지해요! 요즘 뉴스만 틀어도 대화 주제만 해도 코로나 이슈가 가장...  \n",
       "1      코로나19 백신 치료제 개발 큐어백 트럼프가 투자 로이터 통신에서 흥미로운... 참...  \n",
       "2      아이가 있어서 아무래도 평상시에 손을 자주 씻었는데요 지금은 또 코로나바이러스......  \n",
       "3      [Ep.01] 우한 폐렴 (코로나19) 눈만 뜨면 코로나 코로나 매일 늘어나는 확진...  \n",
       "4      코로나19 때문에 일상이 너무 달라졌어요. 아침에 눈 뜨면 오늘의 날씨가 아닌 뉴스...  \n",
       "...                                                  ...  \n",
       "28906  일가나쌤의일본뉴스코로나19에어로졸로3시간생존미국연구그룹발표(일한자막 일부공개) (출...  \n",
       "28907  코로나19 피해 복구 및 방지를 위해 진행되었던 릴레이 기부 스트리밍에서 모금된 3...  \n",
       "28908                  좋아하는 극인데 왜이리 기분이 다운되냐 ㅠ 코로나 개객기 ㅜ  \n",
       "28909  도올 “한국 기독교 ‘구약 코로나’에 감염… ‘원조 예수’로 돌아와야” (출처 : ...  \n",
       "28910     시흥시 코로나19 감염 예방 사회적거리두기 비대면 스마트폰 결제 모바일 시루 각광   \n",
       "\n",
       "[28911 rows x 3 columns]"
      ]
     },
     "execution_count": 7,
     "metadata": {},
     "output_type": "execute_result"
    }
   ],
   "source": [
    "# blog, twitter 데이터 프레임 합쳐주기\n",
    "sns = pd.concat([blog, twitter], ignore_index = True)\n",
    "sns"
   ]
  },
  {
   "cell_type": "markdown",
   "metadata": {},
   "source": [
    "### 2. 특수문자, 숫자, 영어 제거"
   ]
  },
  {
   "cell_type": "code",
   "execution_count": 8,
   "metadata": {},
   "outputs": [
    {
     "data": {
      "text/plain": [
       "'[다음카페] 트럼프와 메르켈? G – 20 에, 알린다? - 코로나 사태 이전으로 돌아가는 마법이다 – 세계 언론도? http://m.cafe.daum.net/kimkwangmoo/jfnB/1646?svc=cafeapp'"
      ]
     },
     "execution_count": 8,
     "metadata": {},
     "output_type": "execute_result"
    }
   ],
   "source": [
    "#임의로 하나 보기\n",
    "sns['text'][2739]"
   ]
  },
  {
   "cell_type": "markdown",
   "metadata": {},
   "source": [
    "한글 외에 분석에 의미없는 특수문자, 숫자, 영어 등이 보인다"
   ]
  },
  {
   "cell_type": "code",
   "execution_count": 10,
   "metadata": {},
   "outputs": [],
   "source": [
    "import re\n",
    "\n",
    "#정규표현식을 이용한 영어, 숫자, 특수문자 제거함수(한글빼고 다 지워라)\n",
    "def remove(corpus):\n",
    "    return re.sub('[^ ㄱ-ㅣ가-힣\\s]', ' ', str(corpus))"
   ]
  },
  {
   "cell_type": "code",
   "execution_count": 11,
   "metadata": {},
   "outputs": [
    {
     "data": {
      "text/plain": [
       "' 다음카페  트럼프와 메르켈         에  알린다    코로나 사태 이전으로 돌아가는 마법이다   세계 언론도                                                          '"
      ]
     },
     "execution_count": 11,
     "metadata": {},
     "output_type": "execute_result"
    }
   ],
   "source": [
    "#적용해주기\n",
    "sns['text'] = sns['text'].apply(lambda x: remove(x))\n",
    "\n",
    "#확인\n",
    "sns['text'][2739]"
   ]
  },
  {
   "cell_type": "markdown",
   "metadata": {},
   "source": [
    "## Step 3) Tokenizing"
   ]
  },
  {
   "cell_type": "code",
   "execution_count": 9,
   "metadata": {},
   "outputs": [],
   "source": [
    "from konlpy.tag import *\n",
    "from gensim.models import Word2Vec, fasttext\n",
    "twit = Okt() #윈도우 주피터라 Mecab이나 Khaiii 토크나이저를 쓰지 못했다"
   ]
  },
  {
   "cell_type": "code",
   "execution_count": 14,
   "metadata": {},
   "outputs": [
    {
     "data": {
      "text/plain": [
       "['다음/Noun',\n",
       " '카페/Noun',\n",
       " '트럼프/Noun',\n",
       " '와/Josa',\n",
       " '메르켈/Noun',\n",
       " '에/Josa',\n",
       " '알린다/Verb',\n",
       " '코로나/Noun',\n",
       " '사태/Noun',\n",
       " '이전/Noun',\n",
       " '으로/Josa',\n",
       " '돌아가는/Verb',\n",
       " '마법/Noun',\n",
       " '이다/Josa',\n",
       " '세계/Noun',\n",
       " '언론/Noun',\n",
       " '도/Josa']"
      ]
     },
     "execution_count": 14,
     "metadata": {},
     "output_type": "execute_result"
    }
   ],
   "source": [
    "#형태소 태깅\n",
    "sns['text'] = sns['text'].apply(lambda x: twit.pos(x, join=True))\n",
    "sns['text'][2739]"
   ]
  },
  {
   "cell_type": "markdown",
   "metadata": {},
   "source": [
    "조사는 임베딩에 필요없으니 함수를 만들어 없애주도록 하자"
   ]
  },
  {
   "cell_type": "code",
   "execution_count": 17,
   "metadata": {},
   "outputs": [],
   "source": [
    "#리스트 안에 조사 포함하고 있으면 다 없애버리는 함수\n",
    "def remove_josa(me):\n",
    "    for i in me:\n",
    "        if 'Josa' in i:\n",
    "            me.remove(i)\n",
    "    return me"
   ]
  },
  {
   "cell_type": "code",
   "execution_count": 18,
   "metadata": {},
   "outputs": [
    {
     "data": {
      "text/html": [
       "<div>\n",
       "<style scoped>\n",
       "    .dataframe tbody tr th:only-of-type {\n",
       "        vertical-align: middle;\n",
       "    }\n",
       "\n",
       "    .dataframe tbody tr th {\n",
       "        vertical-align: top;\n",
       "    }\n",
       "\n",
       "    .dataframe thead th {\n",
       "        text-align: right;\n",
       "    }\n",
       "</style>\n",
       "<table border=\"1\" class=\"dataframe\">\n",
       "  <thead>\n",
       "    <tr style=\"text-align: right;\">\n",
       "      <th></th>\n",
       "      <th>SNS_type</th>\n",
       "      <th>date</th>\n",
       "      <th>text</th>\n",
       "    </tr>\n",
       "  </thead>\n",
       "  <tbody>\n",
       "    <tr>\n",
       "      <th>0</th>\n",
       "      <td>Naver_Blog</td>\n",
       "      <td>2020-03-17</td>\n",
       "      <td>[살균/Noun, 스틱/Noun, 코로나/Noun, 방지/Noun, 해요/Verb,...</td>\n",
       "    </tr>\n",
       "    <tr>\n",
       "      <th>1</th>\n",
       "      <td>Naver_Blog</td>\n",
       "      <td>2020-03-18</td>\n",
       "      <td>[코로나/Noun, 백신/Noun, 치료/Noun, 제/Noun, 개발/Noun, ...</td>\n",
       "    </tr>\n",
       "    <tr>\n",
       "      <th>2</th>\n",
       "      <td>Naver_Blog</td>\n",
       "      <td>2020-03-18</td>\n",
       "      <td>[아이/Noun, 있어서/Adjective, 아무래도/Adverb, 평상시/Noun...</td>\n",
       "    </tr>\n",
       "    <tr>\n",
       "      <th>3</th>\n",
       "      <td>Naver_Blog</td>\n",
       "      <td>2020-03-02</td>\n",
       "      <td>[우한/Noun, 폐렴/Noun, 코로나/Noun, 눈/Noun, 뜨면/Verb, ...</td>\n",
       "    </tr>\n",
       "    <tr>\n",
       "      <th>4</th>\n",
       "      <td>Naver_Blog</td>\n",
       "      <td>2020-03-06</td>\n",
       "      <td>[코로나/Noun, 때문/Noun, 일상/Noun, 너무/Adverb, 달라졌어요/...</td>\n",
       "    </tr>\n",
       "    <tr>\n",
       "      <th>...</th>\n",
       "      <td>...</td>\n",
       "      <td>...</td>\n",
       "      <td>...</td>\n",
       "    </tr>\n",
       "    <tr>\n",
       "      <th>28906</th>\n",
       "      <td>twitter</td>\n",
       "      <td>2020-03-19</td>\n",
       "      <td>[일/Modifier, 가나/Noun, 쌤/Noun, 일/Modifier, 본/Mo...</td>\n",
       "    </tr>\n",
       "    <tr>\n",
       "      <th>28907</th>\n",
       "      <td>twitter</td>\n",
       "      <td>2020-03-19</td>\n",
       "      <td>[코로나/Noun, 피해/Noun, 복구/Noun, 및/Noun, 방지/Noun, ...</td>\n",
       "    </tr>\n",
       "    <tr>\n",
       "      <th>28908</th>\n",
       "      <td>twitter</td>\n",
       "      <td>2020-03-19</td>\n",
       "      <td>[좋아하는/Adjective, 극/Noun, 왜/Noun, 이리/Adverb, 기분...</td>\n",
       "    </tr>\n",
       "    <tr>\n",
       "      <th>28909</th>\n",
       "      <td>twitter</td>\n",
       "      <td>2020-03-19</td>\n",
       "      <td>[도올/Noun, 한국/Noun, 기독교/Noun, 구약/Noun, 코로나/Noun...</td>\n",
       "    </tr>\n",
       "    <tr>\n",
       "      <th>28910</th>\n",
       "      <td>twitter</td>\n",
       "      <td>2020-03-19</td>\n",
       "      <td>[시흥시/Noun, 코로나/Noun, 감염/Noun, 예방/Noun, 사회/Noun...</td>\n",
       "    </tr>\n",
       "  </tbody>\n",
       "</table>\n",
       "<p>28911 rows × 3 columns</p>\n",
       "</div>"
      ],
      "text/plain": [
       "         SNS_type        date  \\\n",
       "0      Naver_Blog  2020-03-17   \n",
       "1      Naver_Blog  2020-03-18   \n",
       "2      Naver_Blog  2020-03-18   \n",
       "3      Naver_Blog  2020-03-02   \n",
       "4      Naver_Blog  2020-03-06   \n",
       "...           ...         ...   \n",
       "28906     twitter  2020-03-19   \n",
       "28907     twitter  2020-03-19   \n",
       "28908     twitter  2020-03-19   \n",
       "28909     twitter  2020-03-19   \n",
       "28910     twitter  2020-03-19   \n",
       "\n",
       "                                                    text  \n",
       "0      [살균/Noun, 스틱/Noun, 코로나/Noun, 방지/Noun, 해요/Verb,...  \n",
       "1      [코로나/Noun, 백신/Noun, 치료/Noun, 제/Noun, 개발/Noun, ...  \n",
       "2      [아이/Noun, 있어서/Adjective, 아무래도/Adverb, 평상시/Noun...  \n",
       "3      [우한/Noun, 폐렴/Noun, 코로나/Noun, 눈/Noun, 뜨면/Verb, ...  \n",
       "4      [코로나/Noun, 때문/Noun, 일상/Noun, 너무/Adverb, 달라졌어요/...  \n",
       "...                                                  ...  \n",
       "28906  [일/Modifier, 가나/Noun, 쌤/Noun, 일/Modifier, 본/Mo...  \n",
       "28907  [코로나/Noun, 피해/Noun, 복구/Noun, 및/Noun, 방지/Noun, ...  \n",
       "28908  [좋아하는/Adjective, 극/Noun, 왜/Noun, 이리/Adverb, 기분...  \n",
       "28909  [도올/Noun, 한국/Noun, 기독교/Noun, 구약/Noun, 코로나/Noun...  \n",
       "28910  [시흥시/Noun, 코로나/Noun, 감염/Noun, 예방/Noun, 사회/Noun...  \n",
       "\n",
       "[28911 rows x 3 columns]"
      ]
     },
     "execution_count": 18,
     "metadata": {},
     "output_type": "execute_result"
    }
   ],
   "source": [
    "#text column에 적용\n",
    "sns['text'] = sns['text'].apply(lambda x: remove_josa(x))\n",
    "\n",
    "#리스트에도 따로 저장해두기\n",
    "tokenized_data = []\n",
    "for i in sns['text']:\n",
    "    tokenized_data.append(i)\n",
    "    \n",
    "    \n",
    "sns"
   ]
  },
  {
   "cell_type": "code",
   "execution_count": 21,
   "metadata": {},
   "outputs": [
    {
     "data": {
      "text/plain": [
       "['다음/Noun',\n",
       " '카페/Noun',\n",
       " '트럼프/Noun',\n",
       " '메르켈/Noun',\n",
       " '알린다/Verb',\n",
       " '코로나/Noun',\n",
       " '사태/Noun',\n",
       " '이전/Noun',\n",
       " '돌아가는/Verb',\n",
       " '마법/Noun',\n",
       " '세계/Noun',\n",
       " '언론/Noun']"
      ]
     },
     "execution_count": 21,
     "metadata": {},
     "output_type": "execute_result"
    }
   ],
   "source": [
    "sns['text'][2739]"
   ]
  },
  {
   "cell_type": "code",
   "execution_count": 23,
   "metadata": {},
   "outputs": [
    {
     "data": {
      "text/plain": [
       "SNS_type    0\n",
       "date        0\n",
       "text        0\n",
       "dtype: int64"
      ]
     },
     "execution_count": 23,
     "metadata": {},
     "output_type": "execute_result"
    }
   ],
   "source": [
    "sns.isnull().sum()"
   ]
  },
  {
   "cell_type": "markdown",
   "metadata": {},
   "source": [
    "결측치도 없당!"
   ]
  },
  {
   "cell_type": "code",
   "execution_count": 37,
   "metadata": {},
   "outputs": [
    {
     "name": "stdout",
     "output_type": "stream",
     "text": [
      "최대 길이 : 65\n",
      "평균 길이 : 19.391546470201654\n"
     ]
    },
    {
     "data": {
      "image/png": "[encoded data removed]",
      "text/plain": [
       "<Figure size 432x288 with 1 Axes>"
      ]
     },
     "metadata": {},
     "output_type": "display_data"
    }
   ],
   "source": [
    "# 시각화\n",
    "import matplotlib.pyplot as plt\n",
    "\n",
    "# 길이 분포 확인\n",
    "print('최대 길이 :',max(len(l) for l in tokenized_data))\n",
    "print('평균 길이 :',sum(map(len, tokenized_data))/len(tokenized_data))\n",
    "plt.hist([len(s) for s in sns['text']], bins=50)\n",
    "plt.xlabel('length of samples')\n",
    "plt.ylabel('number of samples')\n",
    "plt.show()"
   ]
  },
  {
   "cell_type": "markdown",
   "metadata": {},
   "source": [
    "## Step4) Embedding \n",
    "#### Skip_gram & Fasttext"
   ]
  },
  {
   "cell_type": "code",
   "execution_count": 138,
   "metadata": {},
   "outputs": [],
   "source": [
    "#1) skip_Gram\n",
    "\n",
    "from gensim.models import Word2Vec\n",
    "# input format : [[\"my\", \"name\", \"is\", \"jamie\"], [\"jamie\", \"is\", \"cute\"]]\n",
    "# size : 임베딩 차원\n",
    "# window : 윈도우 사이즈\n",
    "# min_count : 고려할 단어의 최소 빈도 기준\n",
    "# workers : cpu core 수\n",
    "# iter : 반복 학습 횟수(epoch)\n",
    "# sg : 0 -> CBOW, 1 -> Skip-Gram\n",
    "# CBOW_model - Word2Vec(corpus, size=2, window=2, min_count=2, workers=1, iter=1000, sg=1)\n",
    "\n",
    "#임베딩(w2v_skipgram)모델 생성\n",
    "Skip_Gram_model = Word2Vec(sns['text'], size=100, window=5, min_count=5, workers=4, iter=100, sg=1)\n",
    "#포스태깅된 데이터를 100차원의 벡터로 바꿔줘라\n",
    "#주변단어(window)는 앞뒤로 5개까지 보되, corpus내 출현빈도가 5번 미만인 단어는 분석에서 제외해라\n",
    "#100번 반복학습해라"
   ]
  },
  {
   "cell_type": "code",
   "execution_count": 40,
   "metadata": {},
   "outputs": [
    {
     "data": {
      "text/plain": [
       "(11181, 100)"
      ]
     },
     "execution_count": 40,
     "metadata": {},
     "output_type": "execute_result"
    }
   ],
   "source": [
    "# 완성된 임베딩 매트릭스의 크기 확인\n",
    "Skip_Gram_model.wv.vectors.shape"
   ]
  },
  {
   "cell_type": "code",
   "execution_count": 41,
   "metadata": {},
   "outputs": [
    {
     "data": {
      "text/plain": [
       "array([[-0.01077802, -0.00899496, -0.02078135, ..., -0.01762542,\n",
       "        -0.03620273, -0.1226458 ],\n",
       "       [-0.09839401, -0.2447234 , -0.22615296, ..., -0.2557072 ,\n",
       "        -0.48517606, -0.02099956],\n",
       "       [ 0.09274065, -0.24829307,  0.02042667, ..., -0.04823538,\n",
       "        -0.091688  , -0.19740947],\n",
       "       ...,\n",
       "       [-0.17035885, -0.56074506,  0.5020157 , ...,  0.01579605,\n",
       "        -0.22307462, -0.46464065],\n",
       "       [-0.10574853, -0.88583684,  0.9495434 , ..., -0.13234006,\n",
       "        -0.77110165,  0.3157957 ],\n",
       "       [-0.2686859 ,  0.6010138 ,  0.48328748, ..., -0.7619063 ,\n",
       "         0.61424345, -0.6919581 ]], dtype=float32)"
      ]
     },
     "execution_count": 41,
     "metadata": {},
     "output_type": "execute_result"
    }
   ],
   "source": [
    "# text 토큰 임베딩 벡터\n",
    "vectors = Skip_Gram_model.wv.vectors\n",
    "vectors"
   ]
  },
  {
   "cell_type": "code",
   "execution_count": 141,
   "metadata": {},
   "outputs": [],
   "source": [
    "#2) #fasttext\n",
    "\n",
    "from gensim.models import FastText\n",
    "ft_model = FastText(tokenized_data, size=100, window=5, min_count=5, workers=4, sg=1)"
   ]
  },
  {
   "cell_type": "code",
   "execution_count": 143,
   "metadata": {},
   "outputs": [
    {
     "data": {
      "text/plain": [
       "(11181, 100)"
      ]
     },
     "execution_count": 143,
     "metadata": {},
     "output_type": "execute_result"
    }
   ],
   "source": [
    "#크기 확인\n",
    "ft_model.wv.vectors.shape"
   ]
  },
  {
   "cell_type": "code",
   "execution_count": 144,
   "metadata": {},
   "outputs": [
    {
     "data": {
      "text/plain": [
       "array([[ 0.30489194,  0.56053036, -0.4338167 , ..., -0.44392017,\n",
       "         0.11215162, -0.18599671],\n",
       "       [-0.55829835,  0.4987755 , -0.5144763 , ..., -0.78955644,\n",
       "         0.03638387,  0.33461845],\n",
       "       [ 0.20346366,  0.37955505, -0.44145393, ..., -0.4519078 ,\n",
       "         0.1553256 , -0.2569842 ],\n",
       "       ...,\n",
       "       [-0.19985695,  0.56634164, -0.42563775, ..., -0.3654145 ,\n",
       "         0.30055523, -0.29441804],\n",
       "       [-0.1802686 ,  0.30220586, -0.28582817, ..., -0.15215264,\n",
       "         0.09125539, -0.00912474],\n",
       "       [-0.01423844,  0.6903415 , -0.38927495, ..., -0.38593128,\n",
       "         0.16236265, -0.15343273]], dtype=float32)"
      ]
     },
     "execution_count": 144,
     "metadata": {},
     "output_type": "execute_result"
    }
   ],
   "source": [
    "#임베딩 벡터\n",
    "ft_vectors = ft_model.wv.vectors\n",
    "ft_vectors"
   ]
  },
  {
   "cell_type": "markdown",
   "metadata": {},
   "source": [
    "## Step5) 인사이트 도출\n",
    "\n",
    "### 코사인 유사도를 바탕으로 임베딩 점검하고 여러 측면으로 나누어 해석\n",
    "\n",
    "**\"Let data tell a story\"**\n",
    "\n",
    "개인적으로 좋아하는 말이다. 데이터는 그 자체로 스토리텔링을 하고 있다고 믿는다.\n",
    "\n",
    "따라서 인사이트라고 하기엔 뭐하지만 내가 크롤링한 데이터를 바탕으로 사람들의 삶과 생각을 읽어보고자 했다."
   ]
  },
  {
   "cell_type": "markdown",
   "metadata": {},
   "source": [
    "### 1. 사회적 측면"
   ]
  },
  {
   "cell_type": "code",
   "execution_count": 134,
   "metadata": {},
   "outputs": [
    {
     "name": "stderr",
     "output_type": "stream",
     "text": [
      "C:\\Anaconda3\\lib\\site-packages\\ipykernel_launcher.py:2: DeprecationWarning: Call to deprecated `most_similar` (Method will be removed in 4.0.0, use self.wv.most_similar() instead).\n",
      "  \n"
     ]
    },
    {
     "data": {
      "text/plain": [
       "[('휩쓰면/Noun', 0.5075224041938782),\n",
       " ('아이콘/Noun', 0.4991481304168701),\n",
       " ('윤현/Noun', 0.4971848428249359),\n",
       " ('훈훈해/Adjective', 0.4965938329696655),\n",
       " ('파인더/Noun', 0.49608269333839417),\n",
       " ('도우미/Noun', 0.4946445822715759),\n",
       " ('나돌다/Verb', 0.49427956342697144),\n",
       " ('강서/Noun', 0.487418532371521),\n",
       " ('신생/Noun', 0.48565903306007385),\n",
       " ('놀고싶어/Verb', 0.4764033555984497)]"
      ]
     },
     "execution_count": 134,
     "metadata": {},
     "output_type": "execute_result"
    }
   ],
   "source": [
    "#skipgram\n",
    "Skip_Gram_model.most_similar('코로나/Noun', topn=10)  #코로나 토큰과 유사한 top10개 보기  #word2vec 코사인 유사도!"
   ]
  },
  {
   "cell_type": "markdown",
   "metadata": {},
   "source": [
    "'나돌다', '놀고싶어'....안타까운 결과다..."
   ]
  },
  {
   "cell_type": "code",
   "execution_count": 145,
   "metadata": {},
   "outputs": [
    {
     "name": "stderr",
     "output_type": "stream",
     "text": [
      "C:\\Anaconda3\\lib\\site-packages\\ipykernel_launcher.py:1: DeprecationWarning: Call to deprecated `most_similar` (Method will be removed in 4.0.0, use self.wv.most_similar() instead).\n",
      "  \"\"\"Entry point for launching an IPython kernel.\n"
     ]
    },
    {
     "data": {
      "text/plain": [
       "[('로나/Noun', 0.9171261787414551),\n",
       " ('카나/Noun', 0.8240894079208374),\n",
       " ('서나/Noun', 0.8212686777114868),\n",
       " ('구나/Noun', 0.8204638957977295),\n",
       " ('차이나/Noun', 0.8203763961791992),\n",
       " ('리나/Noun', 0.8180626630783081),\n",
       " ('시나/Noun', 0.8165311813354492),\n",
       " ('이나/Noun', 0.8155238628387451),\n",
       " ('참나/Noun', 0.8143689036369324),\n",
       " ('지나/Noun', 0.8120629787445068)]"
      ]
     },
     "execution_count": 145,
     "metadata": {},
     "output_type": "execute_result"
    }
   ],
   "source": [
    "# fasttext\n",
    "ft_model.most_similar('코로나/Noun', topn=10)"
   ]
  },
  {
   "cell_type": "markdown",
   "metadata": {},
   "source": [
    "fasttext는 skipgram 임베딩 결과와 달리 맥락보다 형태적 유사도를 바탕으로 분류가 되었다. "
   ]
  },
  {
   "cell_type": "code",
   "execution_count": 59,
   "metadata": {},
   "outputs": [
    {
     "name": "stderr",
     "output_type": "stream",
     "text": [
      "C:\\Anaconda3\\lib\\site-packages\\ipykernel_launcher.py:2: DeprecationWarning: Call to deprecated `most_similar` (Method will be removed in 4.0.0, use self.wv.most_similar() instead).\n",
      "  \n"
     ]
    },
    {
     "data": {
      "text/plain": [
       "[('폐렴/Noun', 0.8742033243179321),\n",
       " ('중국/Noun', 0.6045466661453247),\n",
       " ('톈허/Noun', 0.6017547845840454),\n",
       " ('삿바/Noun', 0.5985016822814941),\n",
       " ('질병예방/Noun', 0.5839158296585083),\n",
       " ('바이두바이커/Noun', 0.5792067646980286),\n",
       " ('허베이성/Noun', 0.5705990791320801),\n",
       " ('텐진/Noun', 0.5574871301651001),\n",
       " ('수산시장/Noun', 0.5373929738998413),\n",
       " ('이끌고/Verb', 0.5303279161453247)]"
      ]
     },
     "execution_count": 59,
     "metadata": {},
     "output_type": "execute_result"
    }
   ],
   "source": [
    "# 우한 유사도 top10\n",
    "Skip_Gram_model.most_similar('우한/Noun', topn=10)"
   ]
  },
  {
   "cell_type": "code",
   "execution_count": 146,
   "metadata": {},
   "outputs": [
    {
     "name": "stderr",
     "output_type": "stream",
     "text": [
      "C:\\Anaconda3\\lib\\site-packages\\ipykernel_launcher.py:1: DeprecationWarning: Call to deprecated `most_similar` (Method will be removed in 4.0.0, use self.wv.most_similar() instead).\n",
      "  \"\"\"Entry point for launching an IPython kernel.\n"
     ]
    },
    {
     "data": {
      "text/plain": [
       "[('중국/Noun', 0.8951078653335571),\n",
       " ('남한/Noun', 0.8949958086013794),\n",
       " ('북한/Noun', 0.8936218023300171),\n",
       " ('당한/Noun', 0.8921654224395752),\n",
       " ('시진핑/Noun', 0.8908569812774658),\n",
       " ('은폐/Noun', 0.8876701593399048),\n",
       " ('원한/Noun', 0.8872519731521606),\n",
       " ('극한/Noun', 0.8853716850280762),\n",
       " ('다한/Noun', 0.8847604990005493),\n",
       " ('원인/Noun', 0.8844790458679199)]"
      ]
     },
     "execution_count": 146,
     "metadata": {},
     "output_type": "execute_result"
    }
   ],
   "source": [
    "ft_model.most_similar('우한/Noun', topn=10)"
   ]
  },
  {
   "cell_type": "markdown",
   "metadata": {},
   "source": [
    "'우한'의 결과는 두 임베딩 결과 모두 비슷하게 나왔지만 역시나 fasttext는 skipgram보다 맥락을 고려하지 못하고 있다."
   ]
  },
  {
   "cell_type": "code",
   "execution_count": 46,
   "metadata": {
    "scrolled": true
   },
   "outputs": [
    {
     "name": "stderr",
     "output_type": "stream",
     "text": [
      "C:\\Anaconda3\\lib\\site-packages\\ipykernel_launcher.py:2: DeprecationWarning: Call to deprecated `most_similar` (Method will be removed in 4.0.0, use self.wv.most_similar() instead).\n",
      "  \n"
     ]
    },
    {
     "data": {
      "text/plain": [
       "[('착용/Noun', 0.6244187355041504),\n",
       " ('부족해지자/Adjective', 0.5973881483078003),\n",
       " ('쓰고/Verb', 0.585475504398346),\n",
       " ('면/Noun', 0.5514286160469055),\n",
       " ('재소/Noun', 0.5468919277191162),\n",
       " ('스킨/Noun', 0.5459015369415283),\n",
       " ('천장/Noun', 0.5449235439300537),\n",
       " ('장갑/Noun', 0.5402153134346008),\n",
       " ('수제/Noun', 0.5391348600387573),\n",
       " ('위험해요/Adjective', 0.5368421077728271)]"
      ]
     },
     "execution_count": 46,
     "metadata": {},
     "output_type": "execute_result"
    }
   ],
   "source": [
    "# 마스크 유사도 top10\n",
    "Skip_Gram_model.most_similar('마스크/Noun', topn=10)"
   ]
  },
  {
   "cell_type": "markdown",
   "metadata": {},
   "source": [
    "마스크 착용, 면마스크, 마스크 부족 , 수제 등등 연관성있는 단어들이 눈에 띈다"
   ]
  },
  {
   "cell_type": "code",
   "execution_count": 147,
   "metadata": {},
   "outputs": [
    {
     "name": "stderr",
     "output_type": "stream",
     "text": [
      "C:\\Anaconda3\\lib\\site-packages\\ipykernel_launcher.py:1: DeprecationWarning: Call to deprecated `most_similar` (Method will be removed in 4.0.0, use self.wv.most_similar() instead).\n",
      "  \"\"\"Entry point for launching an IPython kernel.\n"
     ]
    },
    {
     "data": {
      "text/plain": [
       "[('데스크/Noun', 0.932606041431427),\n",
       " ('뉴스데스크/Noun', 0.908108115196228),\n",
       " ('손/Noun', 0.8911290168762207),\n",
       " ('마이크/Noun', 0.8864421248435974),\n",
       " ('핑크/Noun', 0.8853853940963745),\n",
       " ('마크/Noun', 0.8764438629150391),\n",
       " ('스테이크/Noun', 0.8756364583969116),\n",
       " ('케이크/Noun', 0.8751972913742065),\n",
       " ('재테크/Noun', 0.8745579719543457),\n",
       " ('링크/Noun', 0.8699167966842651)]"
      ]
     },
     "execution_count": 147,
     "metadata": {},
     "output_type": "execute_result"
    }
   ],
   "source": [
    "ft_model.most_similar('마스크/Noun', topn=10)"
   ]
  },
  {
   "cell_type": "markdown",
   "metadata": {},
   "source": [
    "형태적 유사도에 집중하는 fasttext는 사회적맥락이 중요한 코로나 sns 분석에 큰 의미가 없을 것이라 판단하여 앞으로의 해석에서는 skipgram 임베딩 결과만 출력해보겠다  "
   ]
  },
  {
   "cell_type": "code",
   "execution_count": 47,
   "metadata": {},
   "outputs": [
    {
     "name": "stderr",
     "output_type": "stream",
     "text": [
      "C:\\Anaconda3\\lib\\site-packages\\ipykernel_launcher.py:2: DeprecationWarning: Call to deprecated `most_similar` (Method will be removed in 4.0.0, use self.wv.most_similar() instead).\n",
      "  \n"
     ]
    },
    {
     "data": {
      "text/plain": [
       "[('공적/Noun', 0.49894922971725464),\n",
       " ('마스크/Noun', 0.4797772169113159),\n",
       " ('구매/Noun', 0.45300376415252686),\n",
       " ('총알/Noun', 0.4518851637840271),\n",
       " ('봉인/Noun', 0.44986820220947266),\n",
       " ('부제/Noun', 0.4426433742046356),\n",
       " ('아쉽/Adjective', 0.43270426988601685),\n",
       " ('우체국/Noun', 0.4307692050933838),\n",
       " ('달성군/Noun', 0.4264782667160034),\n",
       " ('세척/Noun', 0.41861289739608765)]"
      ]
     },
     "execution_count": 47,
     "metadata": {},
     "output_type": "execute_result"
    }
   ],
   "source": [
    "# 유사도 top10\n",
    "Skip_Gram_model.most_similar('약국/Noun', topn=10)"
   ]
  },
  {
   "cell_type": "markdown",
   "metadata": {},
   "source": [
    "공적마스크 구매와 더불어 우체국, 부제, 아쉽다 등등 실제로도 유사한 단어들이 잘 구분되었다"
   ]
  },
  {
   "cell_type": "code",
   "execution_count": 49,
   "metadata": {},
   "outputs": [
    {
     "name": "stderr",
     "output_type": "stream",
     "text": [
      "C:\\Anaconda3\\lib\\site-packages\\ipykernel_launcher.py:2: DeprecationWarning: Call to deprecated `most_similar` (Method will be removed in 4.0.0, use self.wv.most_similar() instead).\n",
      "  \n"
     ]
    },
    {
     "data": {
      "text/plain": [
       "[('집단/Noun', 0.6724318265914917),\n",
       " ('이창식/Noun', 0.5742954015731812),\n",
       " ('비말/Noun', 0.5601491928100586),\n",
       " ('서장/Noun', 0.5475534796714783),\n",
       " ('구약/Noun', 0.5333043336868286),\n",
       " ('은평/Noun', 0.5302834510803223),\n",
       " ('원조/Noun', 0.5111789703369141),\n",
       " ('파고든/Verb', 0.5091777443885803),\n",
       " ('지다/Noun', 0.5073047876358032),\n",
       " ('롤러코스터/Noun', 0.5042067766189575)]"
      ]
     },
     "execution_count": 49,
     "metadata": {},
     "output_type": "execute_result"
    }
   ],
   "source": [
    "# 유사도 top10\n",
    "Skip_Gram_model.most_similar('감염/Noun', topn=10)"
   ]
  },
  {
   "cell_type": "markdown",
   "metadata": {},
   "source": [
    "집단감염, 비말감염"
   ]
  },
  {
   "cell_type": "code",
   "execution_count": 50,
   "metadata": {},
   "outputs": [
    {
     "name": "stderr",
     "output_type": "stream",
     "text": [
      "C:\\Anaconda3\\lib\\site-packages\\ipykernel_launcher.py:2: DeprecationWarning: Call to deprecated `most_similar` (Method will be removed in 4.0.0, use self.wv.most_similar() instead).\n",
      "  \n"
     ]
    },
    {
     "data": {
      "text/plain": [
       "[('경북/Noun', 0.752199649810791),\n",
       " ('고교/Noun', 0.5137338638305664),\n",
       " ('적십자/Noun', 0.513382613658905),\n",
       " ('요양/Noun', 0.5109434127807617),\n",
       " ('청소년/Noun', 0.5070213675498962),\n",
       " ('대구시/Noun', 0.4987078309059143),\n",
       " ('자단/Noun', 0.4959125220775604),\n",
       " ('무능해서/Adjective', 0.49038296937942505),\n",
       " ('강연주/Noun', 0.4885464012622833),\n",
       " ('달서구/Noun', 0.48453810811042786)]"
      ]
     },
     "execution_count": 50,
     "metadata": {},
     "output_type": "execute_result"
    }
   ],
   "source": [
    "# 유사도 top10\n",
    "Skip_Gram_model.most_similar('대구/Noun', topn=10)"
   ]
  },
  {
   "cell_type": "markdown",
   "metadata": {},
   "source": [
    "대구 경북, 요양병원, 달서구 "
   ]
  },
  {
   "cell_type": "code",
   "execution_count": 53,
   "metadata": {},
   "outputs": [
    {
     "name": "stderr",
     "output_type": "stream",
     "text": [
      "C:\\Anaconda3\\lib\\site-packages\\ipykernel_launcher.py:2: DeprecationWarning: Call to deprecated `most_similar` (Method will be removed in 4.0.0, use self.wv.most_similar() instead).\n",
      "  \n"
     ]
    },
    {
     "data": {
      "text/plain": [
       "[('금지/Noun', 0.6889638900756836),\n",
       " ('느는데/Verb', 0.5888922214508057),\n",
       " ('제한/Noun', 0.5704097747802734),\n",
       " ('중국인/Noun', 0.5577923059463501),\n",
       " ('절차/Noun', 0.5417514443397522),\n",
       " ('출입국/Noun', 0.5029005408287048),\n",
       " ('외국인/Noun', 0.4993492364883423),\n",
       " ('개국/Noun', 0.4961320161819458),\n",
       " ('여행객/Noun', 0.49294400215148926),\n",
       " ('유입/Noun', 0.4887566864490509),\n",
       " ('강력하게/Adjective', 0.4872816801071167),\n",
       " ('비행기표/Noun', 0.47983771562576294),\n",
       " ('전면/Noun', 0.4792475700378418),\n",
       " ('추방/Noun', 0.4774077832698822),\n",
       " ('세워야/Verb', 0.4746350049972534),\n",
       " ('국경/Noun', 0.4733814299106598),\n",
       " ('교민/Noun', 0.46635013818740845),\n",
       " ('했냐고/Verb', 0.46576082706451416),\n",
       " ('특별/Noun', 0.4653000235557556),\n",
       " ('한국인/Noun', 0.4602375626564026)]"
      ]
     },
     "execution_count": 53,
     "metadata": {},
     "output_type": "execute_result"
    }
   ],
   "source": [
    "# 유사도 top10\n",
    "Skip_Gram_model.most_similar('입국/Noun', topn=20)"
   ]
  },
  {
   "cell_type": "markdown",
   "metadata": {},
   "source": [
    "놀랍다 그 어떤 단어도 유사하지 않은게 없다. 가장 현실반영 잘 된 것..! 추방이 눈에 띈다"
   ]
  },
  {
   "cell_type": "code",
   "execution_count": 54,
   "metadata": {},
   "outputs": [
    {
     "name": "stderr",
     "output_type": "stream",
     "text": [
      "C:\\Anaconda3\\lib\\site-packages\\ipykernel_launcher.py:2: DeprecationWarning: Call to deprecated `most_similar` (Method will be removed in 4.0.0, use self.wv.most_similar() instead).\n",
      "  \n"
     ]
    },
    {
     "data": {
      "text/plain": [
       "[('영남대/Noun', 0.6792091131210327),\n",
       " ('요양/Noun', 0.6276236772537231),\n",
       " ('세브란스병원/Noun', 0.5754213333129883),\n",
       " ('서울대/Noun', 0.5532812476158142),\n",
       " ('연세대/Noun', 0.5521091222763062),\n",
       " ('검사/Noun', 0.5361274480819702),\n",
       " ('사망진단서/Noun', 0.5236315727233887),\n",
       " ('정군/Noun', 0.5194159746170044),\n",
       " ('찾아낸/Verb', 0.5193116068840027),\n",
       " ('환자/Noun', 0.5142494440078735),\n",
       " ('검체/Noun', 0.5106180906295776),\n",
       " ('입원/Noun', 0.5046656727790833),\n",
       " ('대학병원/Noun', 0.49774616956710815),\n",
       " ('오염/Noun', 0.4962483048439026),\n",
       " ('진료/Noun', 0.49352580308914185),\n",
       " ('썼지만/Verb', 0.4783819317817688),\n",
       " ('보건소/Noun', 0.4752546548843384),\n",
       " ('고교/Noun', 0.47287020087242126),\n",
       " ('일까봐/Verb', 0.4688985049724579),\n",
       " ('바꾸자/Verb', 0.46415355801582336)]"
      ]
     },
     "execution_count": 54,
     "metadata": {},
     "output_type": "execute_result"
    }
   ],
   "source": [
    "# 유사도 top10\n",
    "Skip_Gram_model.most_similar('병원/Noun', topn=20)"
   ]
  },
  {
   "cell_type": "markdown",
   "metadata": {},
   "source": [
    "이 날이 고교생 사망과 함께 영남대 진단 오류, 실험실 오염 등 논란이 되었던 날이라 그런지 그에 관련한 단어들이 많이 보인다"
   ]
  },
  {
   "cell_type": "code",
   "execution_count": 131,
   "metadata": {},
   "outputs": [
    {
     "name": "stderr",
     "output_type": "stream",
     "text": [
      "C:\\Anaconda3\\lib\\site-packages\\ipykernel_launcher.py:2: DeprecationWarning: Call to deprecated `most_similar` (Method will be removed in 4.0.0, use self.wv.most_similar() instead).\n",
      "  \n"
     ]
    },
    {
     "data": {
      "text/plain": [
       "[('증상/Noun', 0.5723296999931335),\n",
       " ('환자/Noun', 0.555870532989502),\n",
       " ('높인/Verb', 0.5558018088340759),\n",
       " ('소견/Noun', 0.5377171039581299),\n",
       " ('검체/Noun', 0.5305964946746826),\n",
       " ('혈관/Noun', 0.5205141305923462),\n",
       " ('판정/Noun', 0.5114356279373169),\n",
       " ('외래/Noun', 0.5074198246002197),\n",
       " ('해열제/Noun', 0.5062144994735718),\n",
       " ('음성/Noun', 0.49498629570007324)]"
      ]
     },
     "execution_count": 131,
     "metadata": {},
     "output_type": "execute_result"
    }
   ],
   "source": [
    "# 유사도 top10\n",
    "Skip_Gram_model.most_similar('의심/Noun', topn=10)"
   ]
  },
  {
   "cell_type": "code",
   "execution_count": 132,
   "metadata": {},
   "outputs": [
    {
     "name": "stderr",
     "output_type": "stream",
     "text": [
      "C:\\Anaconda3\\lib\\site-packages\\ipykernel_launcher.py:2: DeprecationWarning: Call to deprecated `most_similar` (Method will be removed in 4.0.0, use self.wv.most_similar() instead).\n",
      "  \n"
     ]
    },
    {
     "data": {
      "text/plain": [
       "[('두기/Noun', 0.914262056350708),\n",
       " ('사회/Noun', 0.6295902729034424),\n",
       " ('격전/Noun', 0.5533599257469177),\n",
       " ('뒹굴/Adverb', 0.547209620475769),\n",
       " ('적/Suffix', 0.4924393594264984),\n",
       " ('실천/Noun', 0.47976458072662354),\n",
       " ('미터/Noun', 0.4786689281463623),\n",
       " ('답답함을/Adjective', 0.4732500910758972),\n",
       " ('강하지/Adjective', 0.46507686376571655),\n",
       " ('기와/Noun', 0.45625707507133484),\n",
       " ('습관/Noun', 0.45445185899734497),\n",
       " ('나오게/Verb', 0.45151087641716003),\n",
       " ('말레이시아/Noun', 0.4506259858608246),\n",
       " ('캠페인/Noun', 0.4437711238861084),\n",
       " ('멀리/Noun', 0.43990546464920044),\n",
       " ('좋아함/Adjective', 0.435860276222229),\n",
       " ('다자/Noun', 0.43494266271591187),\n",
       " ('피하/Noun', 0.4194166660308838),\n",
       " ('무차별/Noun', 0.4167367219924927),\n",
       " ('귀엽다/Adjective', 0.4157494604587555)]"
      ]
     },
     "execution_count": 132,
     "metadata": {},
     "output_type": "execute_result"
    }
   ],
   "source": [
    "# 유사도 top10\n",
    "Skip_Gram_model.most_similar('거리/Noun', topn=20)"
   ]
  },
  {
   "cell_type": "markdown",
   "metadata": {},
   "source": [
    "사회적 거리두기 캠페인 실천과 뒹굴거리며 답답함을 느끼는 사람들의 심정이 느껴진다"
   ]
  },
  {
   "cell_type": "code",
   "execution_count": 97,
   "metadata": {},
   "outputs": [
    {
     "name": "stderr",
     "output_type": "stream",
     "text": [
      "C:\\Anaconda3\\lib\\site-packages\\ipykernel_launcher.py:2: DeprecationWarning: Call to deprecated `most_similar` (Method will be removed in 4.0.0, use self.wv.most_similar() instead).\n",
      "  \n"
     ]
    },
    {
     "data": {
      "text/plain": [
       "[('격리/Noun', 0.9290043115615845),\n",
       " ('해제/Noun', 0.5681867599487305),\n",
       " ('의하자/Adjective', 0.5575057864189148),\n",
       " ('어기/Noun', 0.5558596253395081),\n",
       " ('석회/Noun', 0.5313794016838074),\n",
       " ('펜싱/Noun', 0.515652060508728),\n",
       " ('불응/Noun', 0.5154219269752502),\n",
       " ('국가대표/Noun', 0.5139994621276855),\n",
       " ('능동/Noun', 0.5114240646362305),\n",
       " ('모니터링/Noun', 0.5050349235534668)]"
      ]
     },
     "execution_count": 97,
     "metadata": {},
     "output_type": "execute_result"
    }
   ],
   "source": [
    "# 유사도 top10\n",
    "Skip_Gram_model.most_similar('자가/Noun', topn=10)"
   ]
  },
  {
   "cell_type": "markdown",
   "metadata": {},
   "source": [
    "국가대표 펜싱선수 확진 뜬 날이라 관련 키워드 보인다"
   ]
  },
  {
   "cell_type": "code",
   "execution_count": 67,
   "metadata": {},
   "outputs": [
    {
     "name": "stderr",
     "output_type": "stream",
     "text": [
      "C:\\Anaconda3\\lib\\site-packages\\ipykernel_launcher.py:2: DeprecationWarning: Call to deprecated `most_similar` (Method will be removed in 4.0.0, use self.wv.most_similar() instead).\n",
      "  \n"
     ]
    },
    {
     "data": {
      "text/plain": [
       "[('개학/Noun', 0.5673046112060547),\n",
       " ('연기/Noun', 0.5394340753555298),\n",
       " ('탈주/Noun', 0.525506317615509),\n",
       " ('휴강/Noun', 0.5099022388458252),\n",
       " ('꼬마/Noun', 0.509502649307251),\n",
       " ('미뤄지고/Verb', 0.5087865591049194),\n",
       " ('놀고싶은데/Verb', 0.49624377489089966),\n",
       " ('미뤄진/Verb', 0.4843156039714813),\n",
       " ('학교/Noun', 0.48240816593170166),\n",
       " ('수강/Noun', 0.47399207949638367),\n",
       " ('인강/Noun', 0.46781572699546814),\n",
       " ('쉬는거/Verb', 0.4658023715019226),\n",
       " ('입학/Noun', 0.4654430150985718),\n",
       " ('ㅠㅠㅠㅠㅠㅠㅠㅠㅠㅠ/KoreanParticle', 0.46158328652381897),\n",
       " ('토익/Noun', 0.4586566686630249),\n",
       " ('방방/Adverb', 0.45765647292137146),\n",
       " ('덕질/Noun', 0.4559735655784607),\n",
       " ('돌려내/Verb', 0.45550575852394104),\n",
       " ('미뤄져서/Verb', 0.455122709274292),\n",
       " ('쪄/Verb', 0.4528540372848511)]"
      ]
     },
     "execution_count": 67,
     "metadata": {},
     "output_type": "execute_result"
    }
   ],
   "source": [
    "# 마스크 유사도 top10\n",
    "Skip_Gram_model.most_similar('개강/Noun', topn=20)"
   ]
  },
  {
   "cell_type": "markdown",
   "metadata": {},
   "source": [
    "개강이 미뤄져서 슬퍼하는 사람들의 외침이 보인다"
   ]
  },
  {
   "cell_type": "code",
   "execution_count": 104,
   "metadata": {},
   "outputs": [
    {
     "name": "stderr",
     "output_type": "stream",
     "text": [
      "C:\\Anaconda3\\lib\\site-packages\\ipykernel_launcher.py:2: DeprecationWarning: Call to deprecated `most_similar` (Method will be removed in 4.0.0, use self.wv.most_similar() instead).\n",
      "  \n"
     ]
    },
    {
     "data": {
      "text/plain": [
       "[('일간스포츠/Noun', 0.6557430624961853),\n",
       " ('개학/Noun', 0.643510103225708),\n",
       " ('팬미팅/Noun', 0.6162576675415039),\n",
       " ('훈훈해/Adjective', 0.5885958671569824),\n",
       " ('일정/Noun', 0.579013466835022),\n",
       " ('취소/Noun', 0.5755366683006287),\n",
       " ('디스패치/Noun', 0.5753706693649292),\n",
       " ('남도현/Noun', 0.567765474319458),\n",
       " ('개강/Noun', 0.5394340753555298),\n",
       " ('월/Noun', 0.5250983238220215),\n",
       " ('이한결/Noun', 0.5246890783309937),\n",
       " ('조율/Noun', 0.5237628221511841),\n",
       " ('올림픽/Noun', 0.5210853815078735),\n",
       " ('스포츠동아/Noun', 0.5113621950149536),\n",
       " ('엑스포츠/Noun', 0.5105628967285156),\n",
       " ('일본팬미팅/Noun', 0.5105453729629517),\n",
       " ('부처님오신날/Noun', 0.5102071762084961),\n",
       " ('신입생/Noun', 0.50788414478302),\n",
       " ('무기한/Noun', 0.49847105145454407),\n",
       " ('블루맨/Noun', 0.4968908727169037)]"
      ]
     },
     "execution_count": 104,
     "metadata": {},
     "output_type": "execute_result"
    }
   ],
   "source": [
    "# 유사도 top10\n",
    "Skip_Gram_model.most_similar('연기/Noun', topn=20)"
   ]
  },
  {
   "cell_type": "markdown",
   "metadata": {},
   "source": [
    "트위터는 덕질계정들이 상당히 많기때문에 연예관련 키워드들이 많이 보이는것"
   ]
  },
  {
   "cell_type": "markdown",
   "metadata": {},
   "source": [
    "### 2. 경제적 측면"
   ]
  },
  {
   "cell_type": "code",
   "execution_count": 57,
   "metadata": {},
   "outputs": [
    {
     "name": "stderr",
     "output_type": "stream",
     "text": [
      "C:\\Anaconda3\\lib\\site-packages\\ipykernel_launcher.py:2: DeprecationWarning: Call to deprecated `most_similar` (Method will be removed in 4.0.0, use self.wv.most_similar() instead).\n",
      "  \n"
     ]
    },
    {
     "data": {
      "text/plain": [
       "[('장하준/Noun', 0.5410598516464233),\n",
       " ('활성화/Noun', 0.5267013907432556),\n",
       " ('말아먹다시피/Verb', 0.5082133412361145),\n",
       " ('서민/Noun', 0.5067473649978638),\n",
       " ('노동계/Noun', 0.49598491191864014),\n",
       " ('금융시장/Noun', 0.49522826075553894),\n",
       " ('논설/Noun', 0.4918571412563324),\n",
       " ('전시체제/Noun', 0.49172443151474),\n",
       " ('금융/Noun', 0.4872881770133972),\n",
       " ('급속도/Noun', 0.4826720654964447),\n",
       " ('비상/Noun', 0.48100411891937256),\n",
       " ('금융위기/Noun', 0.47850507497787476),\n",
       " ('대통령/Noun', 0.47835028171539307),\n",
       " ('톈허/Noun', 0.47789478302001953),\n",
       " ('침체/Noun', 0.4773617386817932),\n",
       " ('커지자/Verb', 0.4773472547531128),\n",
       " ('뉴데일리/Noun', 0.4723937511444092),\n",
       " ('근본/Noun', 0.4720093905925751),\n",
       " ('사우스차이나/Noun', 0.47071373462677),\n",
       " ('경제위기/Noun', 0.4695487320423126)]"
      ]
     },
     "execution_count": 57,
     "metadata": {},
     "output_type": "execute_result"
    }
   ],
   "source": [
    "# 경제 유사도 top10\n",
    "Skip_Gram_model.most_similar('경제/Noun', topn=20)"
   ]
  },
  {
   "cell_type": "markdown",
   "metadata": {},
   "source": [
    "역시나 위기, 침체, 말아먹다시피 등 부정적 키워드들이 많이 보인다"
   ]
  },
  {
   "cell_type": "code",
   "execution_count": 55,
   "metadata": {},
   "outputs": [
    {
     "name": "stderr",
     "output_type": "stream",
     "text": [
      "C:\\Anaconda3\\lib\\site-packages\\ipykernel_launcher.py:2: DeprecationWarning: Call to deprecated `most_similar` (Method will be removed in 4.0.0, use self.wv.most_similar() instead).\n",
      "  \n"
     ]
    },
    {
     "data": {
      "text/plain": [
       "[('투자/Noun', 0.6193395256996155),\n",
       " ('투자자/Noun', 0.5797792077064514),\n",
       " ('핫이슈/Noun', 0.5658377408981323),\n",
       " ('채권/Noun', 0.5155479311943054),\n",
       " ('폭락/Noun', 0.513617753982544),\n",
       " ('급전/Noun', 0.5102337598800659),\n",
       " ('바카라/Noun', 0.5073958039283752),\n",
       " ('디비/Noun', 0.49435144662857056),\n",
       " ('석유/Noun', 0.47741299867630005),\n",
       " ('회사채/Noun', 0.47547319531440735),\n",
       " ('펀드/Noun', 0.4728976786136627),\n",
       " ('최저/Noun', 0.46935194730758667),\n",
       " ('코스피/Noun', 0.4684780240058899),\n",
       " ('코스닥/Noun', 0.46775248646736145),\n",
       " ('재테크/Noun', 0.4623093903064728),\n",
       " ('임금/Noun', 0.45653456449508667),\n",
       " ('줍/Verb', 0.4553532600402832),\n",
       " ('금감원/Noun', 0.4531744420528412),\n",
       " ('손가락질/Noun', 0.45175305008888245),\n",
       " ('증시/Noun', 0.44446101784706116)]"
      ]
     },
     "execution_count": 55,
     "metadata": {},
     "output_type": "execute_result"
    }
   ],
   "source": [
    "# 주식 유사도 top10\n",
    "Skip_Gram_model.most_similar('주식/Noun', topn=20)"
   ]
  },
  {
   "cell_type": "markdown",
   "metadata": {},
   "source": [
    "폭락....."
   ]
  },
  {
   "cell_type": "code",
   "execution_count": 56,
   "metadata": {},
   "outputs": [
    {
     "name": "stderr",
     "output_type": "stream",
     "text": [
      "C:\\Anaconda3\\lib\\site-packages\\ipykernel_launcher.py:2: DeprecationWarning: Call to deprecated `most_similar` (Method will be removed in 4.0.0, use self.wv.most_similar() instead).\n",
      "  \n"
     ]
    },
    {
     "data": {
      "text/plain": [
       "[('마트/Noun', 0.5266636610031128),\n",
       " ('소염제/Noun', 0.4724274277687073),\n",
       " ('타이레놀/Noun', 0.46403107047080994),\n",
       " ('기류/Noun', 0.46274375915527344),\n",
       " ('현상/Noun', 0.4514361619949341),\n",
       " ('휴지/Noun', 0.4511549174785614),\n",
       " ('량/Noun', 0.4337419271469116),\n",
       " ('일자리/Noun', 0.4221171736717224),\n",
       " ('공포/Noun', 0.42096033692359924),\n",
       " ('제한/Noun', 0.4157482981681824),\n",
       " ('화장지/Noun', 0.41365861892700195),\n",
       " ('쓰지/Verb', 0.41232556104660034),\n",
       " ('조심하는/Verb', 0.40760624408721924),\n",
       " ('린다/Noun', 0.4063550531864166),\n",
       " ('생필품/Noun', 0.4040566682815552),\n",
       " ('파리/Noun', 0.40357065200805664),\n",
       " ('꾼/Noun', 0.4024525582790375),\n",
       " ('필수품/Noun', 0.4020421802997589),\n",
       " ('흔들리나/Verb', 0.4020189046859741),\n",
       " ('베르가모/Noun', 0.40140867233276367)]"
      ]
     },
     "execution_count": 56,
     "metadata": {},
     "output_type": "execute_result"
    }
   ],
   "source": [
    "# 유사도 top10\n",
    "Skip_Gram_model.most_similar('사재기/Noun', topn=20)"
   ]
  },
  {
   "cell_type": "markdown",
   "metadata": {},
   "source": [
    "WHO에서 약한 증상이 느껴질땐 타이레놀 먹으라고 해서 그런지 소염제, 타이레놀 단어도 보인다"
   ]
  },
  {
   "cell_type": "markdown",
   "metadata": {},
   "source": [
    "### 희망적 측면"
   ]
  },
  {
   "cell_type": "code",
   "execution_count": 74,
   "metadata": {},
   "outputs": [
    {
     "name": "stderr",
     "output_type": "stream",
     "text": [
      "C:\\Anaconda3\\lib\\site-packages\\ipykernel_launcher.py:2: DeprecationWarning: Call to deprecated `most_similar` (Method will be removed in 4.0.0, use self.wv.most_similar() instead).\n",
      "  \n"
     ]
    },
    {
     "data": {
      "text/plain": [
       "[('성금/Noun', 0.6336547136306763),\n",
       " ('부여군/Noun', 0.5947201251983643),\n",
       " ('박정현/Noun', 0.5787398219108582),\n",
       " ('올려주신/Verb', 0.5766156315803528),\n",
       " ('알아보겠습니다/Verb', 0.5694980621337891),\n",
       " ('캘/Verb', 0.554419755935669),\n",
       " ('무안군/Noun', 0.5512186288833618),\n",
       " ('산내면/Noun', 0.5497168898582458),\n",
       " ('병규/Noun', 0.54867023229599),\n",
       " ('군민/Noun', 0.5482879877090454)]"
      ]
     },
     "execution_count": 74,
     "metadata": {},
     "output_type": "execute_result"
    }
   ],
   "source": [
    "# 마스크 유사도 top10\n",
    "Skip_Gram_model.most_similar('극복/Noun', topn=10)"
   ]
  },
  {
   "cell_type": "code",
   "execution_count": 76,
   "metadata": {},
   "outputs": [
    {
     "name": "stderr",
     "output_type": "stream",
     "text": [
      "C:\\Anaconda3\\lib\\site-packages\\ipykernel_launcher.py:2: DeprecationWarning: Call to deprecated `most_similar` (Method will be removed in 4.0.0, use self.wv.most_similar() instead).\n",
      "  \n"
     ]
    },
    {
     "data": {
      "text/plain": [
       "[('동참/Noun', 0.580726146697998),\n",
       " ('이미경/Noun', 0.5649749040603638),\n",
       " ('엄지원/Noun', 0.5649003982543945),\n",
       " ('라울/Noun', 0.5616108179092407),\n",
       " ('군민/Noun', 0.5577333569526672),\n",
       " ('성금/Noun', 0.5564364790916443),\n",
       " ('벨벳/Noun', 0.5500620603561401),\n",
       " ('해피빈/Noun', 0.5477738380432129),\n",
       " ('아이유/Noun', 0.5420583486557007),\n",
       " ('아이린/Noun', 0.5364487767219543),\n",
       " ('고창/Noun', 0.5316169261932373),\n",
       " ('릴레이/Noun', 0.5314245223999023),\n",
       " ('기탁/Noun', 0.5292219519615173),\n",
       " ('출연료/Noun', 0.5040852427482605),\n",
       " ('전달/Noun', 0.499144971370697),\n",
       " ('레드/Noun', 0.4985714554786682),\n",
       " ('물결/Noun', 0.49643614888191223),\n",
       " ('양제/Noun', 0.4958917498588562),\n",
       " ('써드/Noun', 0.48991018533706665),\n",
       " ('적십자사/Noun', 0.48425763845443726)]"
      ]
     },
     "execution_count": 76,
     "metadata": {},
     "output_type": "execute_result"
    }
   ],
   "source": [
    "# 유사도 top10\n",
    "Skip_Gram_model.most_similar('기부/Noun', topn=20)"
   ]
  },
  {
   "cell_type": "markdown",
   "metadata": {},
   "source": [
    "기부릴레이, 성금 기탁 등 따뜻한 단어들이 많이 보인다"
   ]
  },
  {
   "cell_type": "code",
   "execution_count": 95,
   "metadata": {
    "scrolled": true
   },
   "outputs": [
    {
     "name": "stderr",
     "output_type": "stream",
     "text": [
      "C:\\Anaconda3\\lib\\site-packages\\ipykernel_launcher.py:2: DeprecationWarning: Call to deprecated `most_similar` (Method will be removed in 4.0.0, use self.wv.most_similar() instead).\n",
      "  \n"
     ]
    },
    {
     "data": {
      "text/plain": [
       "[('지혜/Noun', 0.4912354648113251),\n",
       " ('보태/Noun', 0.4855969548225403),\n",
       " ('관세청/Noun', 0.4837346374988556),\n",
       " ('냅시다/Verb', 0.47782349586486816),\n",
       " ('이겨/Verb', 0.45762747526168823),\n",
       " ('초이스/Noun', 0.45621195435523987),\n",
       " ('용기/Noun', 0.4533344507217407),\n",
       " ('힘내요/Verb', 0.44162610173225403),\n",
       " ('긍정/Noun', 0.43277454376220703),\n",
       " ('중요성/Noun', 0.4322911500930786)]"
      ]
     },
     "execution_count": 95,
     "metadata": {},
     "output_type": "execute_result"
    }
   ],
   "source": [
    "# 유사도 top10\n",
    "Skip_Gram_model.most_similar('힘/Noun', topn=10)"
   ]
  },
  {
   "cell_type": "markdown",
   "metadata": {},
   "source": [
    "이겨냅시다...흑"
   ]
  },
  {
   "cell_type": "markdown",
   "metadata": {},
   "source": [
    "# 4. 이시국에 사람들은 뭘할까?"
   ]
  },
  {
   "cell_type": "code",
   "execution_count": 110,
   "metadata": {},
   "outputs": [
    {
     "name": "stderr",
     "output_type": "stream",
     "text": [
      "C:\\Anaconda3\\lib\\site-packages\\ipykernel_launcher.py:2: DeprecationWarning: Call to deprecated `most_similar` (Method will be removed in 4.0.0, use self.wv.most_similar() instead).\n",
      "  \n"
     ]
    },
    {
     "data": {
      "text/plain": [
       "[('홈트/Noun', 0.49727270007133484),\n",
       " ('문학/Noun', 0.4474986791610718),\n",
       " ('보람/Noun', 0.44544556736946106),\n",
       " ('순이/Noun', 0.44465315341949463),\n",
       " ('자유롭게/Adjective', 0.4399973154067993),\n",
       " ('조심하셔요/Verb', 0.43985867500305176),\n",
       " ('헌터/Noun', 0.4354889690876007),\n",
       " ('방콕/Noun', 0.43510839343070984),\n",
       " ('피시방/Noun', 0.4321819543838501),\n",
       " ('오열/Noun', 0.43188226222991943),\n",
       " ('찐자/Verb', 0.4305286705493927),\n",
       " ('미싱/Noun', 0.4254419207572937),\n",
       " ('집밖/Noun', 0.4250043034553528),\n",
       " ('룩/Suffix', 0.42497819662094116),\n",
       " ('위험해서/Adjective', 0.4241822063922882),\n",
       " ('없어지길/Verb', 0.4187736511230469),\n",
       " ('어느덧/Adjective', 0.416181743144989),\n",
       " ('행복해요/Adjective', 0.41346096992492676),\n",
       " ('흡/Exclamation', 0.41271835565567017),\n",
       " ('소년단/Noun', 0.41033655405044556)]"
      ]
     },
     "execution_count": 110,
     "metadata": {},
     "output_type": "execute_result"
    }
   ],
   "source": [
    "# 유사도 top10\n",
    "Skip_Gram_model.most_similar('집콕/Noun', topn=20)"
   ]
  },
  {
   "cell_type": "markdown",
   "metadata": {},
   "source": [
    "키워드들을 조합해보면 \"집밖은 위험해서 조심해야하고 코로나가 없어지길 바란다.피시방에 가고싶지만 방콕하며 홈트를 한다\"고 볼 수 있겠다"
   ]
  },
  {
   "cell_type": "code",
   "execution_count": 112,
   "metadata": {},
   "outputs": [
    {
     "name": "stderr",
     "output_type": "stream",
     "text": [
      "C:\\Anaconda3\\lib\\site-packages\\ipykernel_launcher.py:2: DeprecationWarning: Call to deprecated `most_similar` (Method will be removed in 4.0.0, use self.wv.most_similar() instead).\n",
      "  \n"
     ]
    },
    {
     "data": {
      "text/plain": [
       "[('망가지는/Verb', 0.5196386575698853),\n",
       " ('집콕/Noun', 0.49727267026901245),\n",
       " ('조진다/Adjective', 0.49281176924705505),\n",
       " ('운동/Noun', 0.48869627714157104),\n",
       " ('나가니/Verb', 0.47398799657821655),\n",
       " ('필라테스/Noun', 0.4702260494232178),\n",
       " ('버스비/Noun', 0.46327751874923706),\n",
       " ('생활/Noun', 0.45687294006347656),\n",
       " ('스트레스/Noun', 0.4522266387939453),\n",
       " ('잠도/Noun', 0.4507177770137787),\n",
       " ('출퇴근길/Noun', 0.4467461109161377),\n",
       " ('알아보겠습니다/Verb', 0.4360382556915283),\n",
       " ('써서/Verb', 0.43593376874923706),\n",
       " ('지내세요/Verb', 0.43339836597442627),\n",
       " ('진흥/Noun', 0.42850303649902344),\n",
       " ('출근/Noun', 0.4284380078315735),\n",
       " ('먹기/Noun', 0.42650294303894043),\n",
       " ('하고싶다/Verb', 0.42549216747283936),\n",
       " ('찔끔/Adverb', 0.42513173818588257),\n",
       " ('피시방/Noun', 0.42447468638420105)]"
      ]
     },
     "execution_count": 112,
     "metadata": {},
     "output_type": "execute_result"
    }
   ],
   "source": [
    "# 유사도 top10\n",
    "Skip_Gram_model.most_similar('홈트/Noun', topn=20)"
   ]
  },
  {
   "cell_type": "markdown",
   "metadata": {},
   "source": [
    "\"집콕하며 망가지는 몸을 위해 운동을 조진다..\"\n",
    "\n",
    "홈트 연관어에도 피시방이 보인다"
   ]
  },
  {
   "cell_type": "code",
   "execution_count": 118,
   "metadata": {},
   "outputs": [
    {
     "name": "stderr",
     "output_type": "stream",
     "text": [
      "C:\\Anaconda3\\lib\\site-packages\\ipykernel_launcher.py:2: DeprecationWarning: Call to deprecated `most_similar` (Method will be removed in 4.0.0, use self.wv.most_similar() instead).\n",
      "  \n"
     ]
    },
    {
     "data": {
      "text/plain": [
       "[('헌터/Noun', 0.5971020460128784),\n",
       " ('인증샷/Noun', 0.46951958537101746),\n",
       " ('옵치/Verb', 0.4663158059120178),\n",
       " ('노래방/Noun', 0.4644661545753479),\n",
       " ('갯방풍/Noun', 0.4482993483543396),\n",
       " ('서든/Noun', 0.4426552355289459),\n",
       " ('걸리나/Verb', 0.4422922134399414),\n",
       " ('강서/Noun', 0.44033849239349365),\n",
       " ('도우미/Noun', 0.43711066246032715),\n",
       " ('렴/Noun', 0.435378760099411),\n",
       " ('지하상가/Noun', 0.4333663582801819),\n",
       " ('집콕/Noun', 0.4321819543838501),\n",
       " ('뛰고/Verb', 0.43129992485046387),\n",
       " ('워치/Noun', 0.4279800057411194),\n",
       " ('홈트/Noun', 0.42447471618652344),\n",
       " ('걷기/Noun', 0.42411622405052185),\n",
       " ('숨비/Noun', 0.4221362769603729),\n",
       " ('비바리/Noun', 0.4217507839202881),\n",
       " ('스트레칭/Noun', 0.4205741584300995),\n",
       " ('대피소/Noun', 0.4196932017803192)]"
      ]
     },
     "execution_count": 118,
     "metadata": {},
     "output_type": "execute_result"
    }
   ],
   "source": [
    "# 유사도 top10\n",
    "Skip_Gram_model.most_similar('피시방/Noun', topn=20)"
   ]
  },
  {
   "cell_type": "markdown",
   "metadata": {},
   "source": [
    "원래 피시방, 게임 등과 유사한 단어들 말고 시국이 시국이라 그런지 스트레칭, 걷기, 뛰기 등과 같은 운동관련키워드들이 보인다"
   ]
  },
  {
   "cell_type": "markdown",
   "metadata": {},
   "source": [
    "[idea] \n",
    "**물론 이미 유튜브에 홈트 영상이 판을 치지만 이시국 특별 맞춤형 집에서 할만한 운동이나 스트레칭 관련한 콘텐츠를 더욱 재밌고 활동적이게 만든다면 집콕하면서 축축 쳐져있는 사람들의 기운을 살릴 수 있지 않을까? 온라인몰에서는 시국이 시국인 만큼 배송비 쿠폰이나 집콕하며 지루한 사람들을 확 사로잡을 이벤트를 기획한다면 브랜드 이미지 개선과 더불어 매출 증대로도 이어질 수 있겠다**"
   ]
  },
  {
   "cell_type": "markdown",
   "metadata": {},
   "source": [
    "구글링 결과 pre-trained model, negative sampling, Spearman Rank Correlation 등 시도해보고 싶은 방법들이 있었으나 개강하고 빡빡한 일정에 시간을 내지 못했다ㅜ ... 텍스트 심화 세미나에서 갈아 넣어야겠다."
   ]
  }
 ],
 "metadata": {
  "kernelspec": {
   "display_name": "Python 3",
   "language": "python",
   "name": "python3"
  },
  "language_info": {
   "codemirror_mode": {
    "name": "ipython",
    "version": 3
   },
   "file_extension": ".py",
   "mimetype": "text/x-python",
   "name": "python",
   "nbconvert_exporter": "python",
   "pygments_lexer": "ipython3",
   "version": "3.6.5"
  }
 },
 "nbformat": 4,
 "nbformat_minor": 2
}
