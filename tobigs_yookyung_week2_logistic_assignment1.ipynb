{
 "cells": [
  {
   "cell_type": "code",
   "execution_count": 143,
   "metadata": {},
   "outputs": [],
   "source": [
    "import numpy as np\n",
    "import pandas as pd"
   ]
  },
  {
   "cell_type": "code",
   "execution_count": 144,
   "metadata": {},
   "outputs": [],
   "source": [
    "#데이터 불러오기\n",
    "df = pd.read_csv(\"C:/Users/고유경/Desktop/대외활동/투빅스/강의자료/2주차/new1_13기_2주차_LR_ 수정본/assignment1/sampled_data.csv\")"
   ]
  },
  {
   "cell_type": "code",
   "execution_count": 145,
   "metadata": {},
   "outputs": [
    {
     "data": {
      "text/html": [
       "<div>\n",
       "<style scoped>\n",
       "    .dataframe tbody tr th:only-of-type {\n",
       "        vertical-align: middle;\n",
       "    }\n",
       "\n",
       "    .dataframe tbody tr th {\n",
       "        vertical-align: top;\n",
       "    }\n",
       "\n",
       "    .dataframe thead th {\n",
       "        text-align: right;\n",
       "    }\n",
       "</style>\n",
       "<table border=\"1\" class=\"dataframe\">\n",
       "  <thead>\n",
       "    <tr style=\"text-align: right;\">\n",
       "      <th></th>\n",
       "      <th>Time</th>\n",
       "      <th>V1</th>\n",
       "      <th>V2</th>\n",
       "      <th>V3</th>\n",
       "      <th>V4</th>\n",
       "      <th>V5</th>\n",
       "      <th>V6</th>\n",
       "      <th>V7</th>\n",
       "      <th>V8</th>\n",
       "      <th>V9</th>\n",
       "      <th>...</th>\n",
       "      <th>V21</th>\n",
       "      <th>V22</th>\n",
       "      <th>V23</th>\n",
       "      <th>V24</th>\n",
       "      <th>V25</th>\n",
       "      <th>V26</th>\n",
       "      <th>V27</th>\n",
       "      <th>V28</th>\n",
       "      <th>Amount</th>\n",
       "      <th>Class</th>\n",
       "    </tr>\n",
       "  </thead>\n",
       "  <tbody>\n",
       "    <tr>\n",
       "      <th>0</th>\n",
       "      <td>136330</td>\n",
       "      <td>2.108286</td>\n",
       "      <td>-0.020359</td>\n",
       "      <td>-2.234273</td>\n",
       "      <td>-0.124080</td>\n",
       "      <td>0.559843</td>\n",
       "      <td>-1.315913</td>\n",
       "      <td>0.631887</td>\n",
       "      <td>-0.385490</td>\n",
       "      <td>0.150628</td>\n",
       "      <td>...</td>\n",
       "      <td>0.162940</td>\n",
       "      <td>0.519705</td>\n",
       "      <td>-0.091751</td>\n",
       "      <td>-0.379542</td>\n",
       "      <td>0.418822</td>\n",
       "      <td>0.248646</td>\n",
       "      <td>-0.098857</td>\n",
       "      <td>-0.094773</td>\n",
       "      <td>7.70</td>\n",
       "      <td>0</td>\n",
       "    </tr>\n",
       "    <tr>\n",
       "      <th>1</th>\n",
       "      <td>116819</td>\n",
       "      <td>2.080143</td>\n",
       "      <td>-0.075408</td>\n",
       "      <td>-1.359381</td>\n",
       "      <td>0.261263</td>\n",
       "      <td>0.232201</td>\n",
       "      <td>-0.797886</td>\n",
       "      <td>0.233487</td>\n",
       "      <td>-0.330165</td>\n",
       "      <td>0.493154</td>\n",
       "      <td>...</td>\n",
       "      <td>-0.317765</td>\n",
       "      <td>-0.784150</td>\n",
       "      <td>0.233078</td>\n",
       "      <td>-0.636937</td>\n",
       "      <td>-0.191137</td>\n",
       "      <td>0.234986</td>\n",
       "      <td>-0.070648</td>\n",
       "      <td>-0.062794</td>\n",
       "      <td>17.99</td>\n",
       "      <td>0</td>\n",
       "    </tr>\n",
       "    <tr>\n",
       "      <th>2</th>\n",
       "      <td>27917</td>\n",
       "      <td>1.152650</td>\n",
       "      <td>0.204938</td>\n",
       "      <td>0.441832</td>\n",
       "      <td>1.211595</td>\n",
       "      <td>-0.254895</td>\n",
       "      <td>-0.383380</td>\n",
       "      <td>-0.004286</td>\n",
       "      <td>-0.019590</td>\n",
       "      <td>0.085094</td>\n",
       "      <td>...</td>\n",
       "      <td>0.066674</td>\n",
       "      <td>0.209828</td>\n",
       "      <td>-0.054351</td>\n",
       "      <td>0.058103</td>\n",
       "      <td>0.515330</td>\n",
       "      <td>-0.299402</td>\n",
       "      <td>0.032551</td>\n",
       "      <td>0.022865</td>\n",
       "      <td>21.00</td>\n",
       "      <td>0</td>\n",
       "    </tr>\n",
       "    <tr>\n",
       "      <th>3</th>\n",
       "      <td>97443</td>\n",
       "      <td>-0.389692</td>\n",
       "      <td>0.410148</td>\n",
       "      <td>0.616187</td>\n",
       "      <td>-0.686644</td>\n",
       "      <td>1.040312</td>\n",
       "      <td>-0.322199</td>\n",
       "      <td>0.523625</td>\n",
       "      <td>-0.037453</td>\n",
       "      <td>1.319237</td>\n",
       "      <td>...</td>\n",
       "      <td>0.116692</td>\n",
       "      <td>0.685267</td>\n",
       "      <td>-0.182303</td>\n",
       "      <td>0.767857</td>\n",
       "      <td>-0.242738</td>\n",
       "      <td>0.009678</td>\n",
       "      <td>0.115370</td>\n",
       "      <td>0.176041</td>\n",
       "      <td>6.60</td>\n",
       "      <td>0</td>\n",
       "    </tr>\n",
       "    <tr>\n",
       "      <th>4</th>\n",
       "      <td>17920</td>\n",
       "      <td>-1.306986</td>\n",
       "      <td>0.183306</td>\n",
       "      <td>3.164803</td>\n",
       "      <td>0.810135</td>\n",
       "      <td>1.529576</td>\n",
       "      <td>2.388322</td>\n",
       "      <td>0.551279</td>\n",
       "      <td>-0.054401</td>\n",
       "      <td>1.675481</td>\n",
       "      <td>...</td>\n",
       "      <td>-0.203993</td>\n",
       "      <td>0.556523</td>\n",
       "      <td>0.146513</td>\n",
       "      <td>-1.128693</td>\n",
       "      <td>-0.633623</td>\n",
       "      <td>-0.454903</td>\n",
       "      <td>-0.826329</td>\n",
       "      <td>-0.826186</td>\n",
       "      <td>4.95</td>\n",
       "      <td>0</td>\n",
       "    </tr>\n",
       "  </tbody>\n",
       "</table>\n",
       "<p>5 rows × 31 columns</p>\n",
       "</div>"
      ],
      "text/plain": [
       "     Time        V1        V2        V3        V4        V5        V6  \\\n",
       "0  136330  2.108286 -0.020359 -2.234273 -0.124080  0.559843 -1.315913   \n",
       "1  116819  2.080143 -0.075408 -1.359381  0.261263  0.232201 -0.797886   \n",
       "2   27917  1.152650  0.204938  0.441832  1.211595 -0.254895 -0.383380   \n",
       "3   97443 -0.389692  0.410148  0.616187 -0.686644  1.040312 -0.322199   \n",
       "4   17920 -1.306986  0.183306  3.164803  0.810135  1.529576  2.388322   \n",
       "\n",
       "         V7        V8        V9  ...       V21       V22       V23       V24  \\\n",
       "0  0.631887 -0.385490  0.150628  ...  0.162940  0.519705 -0.091751 -0.379542   \n",
       "1  0.233487 -0.330165  0.493154  ... -0.317765 -0.784150  0.233078 -0.636937   \n",
       "2 -0.004286 -0.019590  0.085094  ...  0.066674  0.209828 -0.054351  0.058103   \n",
       "3  0.523625 -0.037453  1.319237  ...  0.116692  0.685267 -0.182303  0.767857   \n",
       "4  0.551279 -0.054401  1.675481  ... -0.203993  0.556523  0.146513 -1.128693   \n",
       "\n",
       "        V25       V26       V27       V28  Amount  Class  \n",
       "0  0.418822  0.248646 -0.098857 -0.094773    7.70      0  \n",
       "1 -0.191137  0.234986 -0.070648 -0.062794   17.99      0  \n",
       "2  0.515330 -0.299402  0.032551  0.022865   21.00      0  \n",
       "3 -0.242738  0.009678  0.115370  0.176041    6.60      0  \n",
       "4 -0.633623 -0.454903 -0.826329 -0.826186    4.95      0  \n",
       "\n",
       "[5 rows x 31 columns]"
      ]
     },
     "execution_count": 145,
     "metadata": {},
     "output_type": "execute_result"
    }
   ],
   "source": [
    "df.head()"
   ]
  },
  {
   "cell_type": "markdown",
   "metadata": {},
   "source": [
    "맨 오른쪽 열 Class는 y"
   ]
  },
  {
   "cell_type": "code",
   "execution_count": 146,
   "metadata": {},
   "outputs": [],
   "source": [
    "#X,y 구분해서 데이터 나눠주기\n",
    "df_X = df.iloc[:, :-1] #마지막 열 class 제외 나머지 모든 열\n",
    "df_y = df.iloc[:, -1] #마지막 열 class"
   ]
  },
  {
   "cell_type": "code",
   "execution_count": 147,
   "metadata": {},
   "outputs": [],
   "source": [
    "#sklearn에서 필요한 모듈들 불러오기\n",
    "from sklearn.linear_model import LogisticRegression\n",
    "from sklearn.model_selection import train_test_split\n",
    "from sklearn.metrics import confusion_matrix, classification_report\n",
    "from sklearn.preprocessing import StandardScaler"
   ]
  },
  {
   "cell_type": "code",
   "execution_count": 148,
   "metadata": {},
   "outputs": [],
   "source": [
    "#train, test 데이터 나눠주기\n",
    "X_train, X_test, y_train, y_test = train_test_split(df_X, df_y, random_state = 0)"
   ]
  },
  {
   "cell_type": "code",
   "execution_count": 149,
   "metadata": {},
   "outputs": [
    {
     "data": {
      "text/plain": [
       "((21360, 30), (7120, 30), (21360,), (7120,))"
      ]
     },
     "execution_count": 149,
     "metadata": {},
     "output_type": "execute_result"
    }
   ],
   "source": [
    "#각각 행, 열 개수 확인\n",
    "X_train.shape, X_test.shape, y_train.shape, y_test.shape"
   ]
  },
  {
   "cell_type": "code",
   "execution_count": 150,
   "metadata": {},
   "outputs": [
    {
     "data": {
      "text/plain": [
       "array([[-1.14108787,  0.58692535, -0.96859154, ...,  0.10758963,\n",
       "         0.15818377,  0.29765166],\n",
       "       [ 1.45624903,  1.08104822,  0.06234035, ..., -0.01913339,\n",
       "        -0.18118879, -0.36883746],\n",
       "       [ 0.75833894,  0.95436709, -0.60243691, ...,  0.28458186,\n",
       "        -0.08727433, -0.10139278],\n",
       "       ...,\n",
       "       [-1.17848378, -0.39306929,  0.3675534 , ..., -0.29358649,\n",
       "        -0.26392097, -0.06106382],\n",
       "       [ 1.56942307, -0.22082572,  0.14591662, ...,  0.0765422 ,\n",
       "        -0.00476937, -0.28817954],\n",
       "       [ 1.57928619,  0.98278649, -0.10310982, ..., -0.1759003 ,\n",
       "        -0.0853167 , -0.15891461]])"
      ]
     },
     "execution_count": 150,
     "metadata": {},
     "output_type": "execute_result"
    }
   ],
   "source": [
    "#X_train 스케일링 해주기\n",
    "scaler = StandardScaler() \n",
    "scaler.fit_transform(X_train)\n",
    "scaler.transform(X_train)"
   ]
  },
  {
   "cell_type": "markdown",
   "metadata": {},
   "source": [
    "## 로지스틱회귀 진행"
   ]
  },
  {
   "cell_type": "code",
   "execution_count": 151,
   "metadata": {},
   "outputs": [
    {
     "name": "stderr",
     "output_type": "stream",
     "text": [
      "C:\\Anaconda3\\lib\\site-packages\\sklearn\\linear_model\\_logistic.py:940: ConvergenceWarning: lbfgs failed to converge (status=1):\n",
      "STOP: TOTAL NO. of ITERATIONS REACHED LIMIT.\n",
      "\n",
      "Increase the number of iterations (max_iter) or scale the data as shown in:\n",
      "    https://scikit-learn.org/stable/modules/preprocessing.html\n",
      "Please also refer to the documentation for alternative solver options:\n",
      "    https://scikit-learn.org/stable/modules/linear_model.html#logistic-regression\n",
      "  extra_warning_msg=_LOGISTIC_SOLVER_CONVERGENCE_MSG)\n"
     ]
    },
    {
     "data": {
      "text/plain": [
       "LogisticRegression(C=1.0, class_weight=None, dual=False, fit_intercept=True,\n",
       "                   intercept_scaling=1, l1_ratio=None, max_iter=100,\n",
       "                   multi_class='auto', n_jobs=None, penalty='l2',\n",
       "                   random_state=None, solver='lbfgs', tol=0.0001, verbose=0,\n",
       "                   warm_start=False)"
      ]
     },
     "execution_count": 151,
     "metadata": {},
     "output_type": "execute_result"
    }
   ],
   "source": [
    "# 로지스틱회귀 함수를 classifier로 지정\n",
    "classifier = LogisticRegression()\n",
    "# train 데이터에 classifier fit해주기\n",
    "classifier.fit(X_train, y_train)"
   ]
  },
  {
   "cell_type": "code",
   "execution_count": 152,
   "metadata": {},
   "outputs": [
    {
     "data": {
      "text/plain": [
       "array([0, 0, 0, ..., 0, 0, 0], dtype=int64)"
      ]
     },
     "execution_count": 152,
     "metadata": {},
     "output_type": "execute_result"
    }
   ],
   "source": [
    "# test데이터로 class 예측(Predict the labels of the test set: y_pred)\n",
    "y_pred = classifier.predict(X_test)\n",
    "y_pred"
   ]
  },
  {
   "cell_type": "code",
   "execution_count": 153,
   "metadata": {},
   "outputs": [
    {
     "name": "stdout",
     "output_type": "stream",
     "text": [
      "              precision    recall  f1-score      support\n",
      "0              0.999719  0.999578  0.999648  7111.000000\n",
      "1              0.700000  0.777778  0.736842     9.000000\n",
      "accuracy       0.999298  0.999298  0.999298     0.999298\n",
      "macro avg      0.849859  0.888678  0.868245  7120.000000\n",
      "weighted avg   0.999340  0.999298  0.999316  7120.000000\n"
     ]
    }
   ],
   "source": [
    "#precision,recall,f1score까지 한번에 보여주는 함수 classification_report 사용\n",
    "repor = classification_report(y_test,y_pred, output_dict=True)\n",
    "repor_df = pd.DataFrame(repor).transpose() #그냥 띄우면 엉망이길래 output_dict와 함께 추가한 코드입니다\n",
    "print(repor_df)\n"
   ]
  },
  {
   "cell_type": "code",
   "execution_count": 154,
   "metadata": {},
   "outputs": [
    {
     "data": {
      "text/plain": [
       "array([[9.98256627e-01, 1.74337267e-03],\n",
       "       [9.99989859e-01, 1.01413502e-05],\n",
       "       [9.99999586e-01, 4.13589565e-07],\n",
       "       ...,\n",
       "       [9.76053128e-01, 2.39468725e-02],\n",
       "       [9.99995499e-01, 4.50094958e-06],\n",
       "       [9.99996086e-01, 3.91433992e-06]])"
      ]
     },
     "execution_count": 154,
     "metadata": {},
     "output_type": "execute_result"
    }
   ],
   "source": [
    "#class를 각각 0과 1로 예측할 확률\n",
    "classifier.predict_proba(X_test)"
   ]
  },
  {
   "cell_type": "code",
   "execution_count": 155,
   "metadata": {},
   "outputs": [],
   "source": [
    "#1로 예측할 확률을 pred로 지정해둠\n",
    "pred = classifier.predict_proba(X_test)[:,1]"
   ]
  },
  {
   "cell_type": "code",
   "execution_count": 156,
   "metadata": {},
   "outputs": [
    {
     "data": {
      "text/plain": [
       "array([1.74337267e-03, 1.01413502e-05, 4.13589565e-07, ...,\n",
       "       2.39468725e-02, 4.50094958e-06, 3.91433992e-06])"
      ]
     },
     "execution_count": 156,
     "metadata": {},
     "output_type": "execute_result"
    }
   ],
   "source": [
    "pred"
   ]
  },
  {
   "cell_type": "markdown",
   "metadata": {},
   "source": [
    "## Accuracy"
   ]
  },
  {
   "cell_type": "code",
   "execution_count": 126,
   "metadata": {},
   "outputs": [
    {
     "data": {
      "text/plain": [
       "0.9992977528089888"
      ]
     },
     "execution_count": 126,
     "metadata": {},
     "output_type": "execute_result"
    }
   ],
   "source": [
    "#mean accuracy 구하기\n",
    "classifier.score(X_test, y_test)"
   ]
  },
  {
   "cell_type": "markdown",
   "metadata": {},
   "source": [
    "상당히 높다..."
   ]
  },
  {
   "cell_type": "code",
   "execution_count": 158,
   "metadata": {},
   "outputs": [
    {
     "data": {
      "text/plain": [
       "0.7368421052631577"
      ]
     },
     "execution_count": 158,
     "metadata": {},
     "output_type": "execute_result"
    }
   ],
   "source": [
    "# f1 score도 구해보기\n",
    "f1_score(y_test, y_pred)"
   ]
  },
  {
   "cell_type": "code",
   "execution_count": 157,
   "metadata": {},
   "outputs": [
    {
     "data": {
      "text/plain": [
       "array([[7108,    3],\n",
       "       [   2,    7]], dtype=int64)"
      ]
     },
     "execution_count": 157,
     "metadata": {},
     "output_type": "execute_result"
    }
   ],
   "source": [
    "#confusion matrix 구하기\n",
    "confusion_matrix(y_test, y_pred)"
   ]
  },
  {
   "cell_type": "markdown",
   "metadata": {},
   "source": [
    "왼쪽 위(0,0): TN(True Negative), (0,1): FP(False Positive)\n",
    "\n",
    "(1,0): FN(False Negative), (1,1): TP(True Positive)\n"
   ]
  },
  {
   "cell_type": "code",
   "execution_count": 159,
   "metadata": {},
   "outputs": [
    {
     "data": {
      "text/plain": [
       "0.7777777777777778"
      ]
     },
     "execution_count": 159,
     "metadata": {},
     "output_type": "execute_result"
    }
   ],
   "source": [
    "recall_score(y_test, y_pred)"
   ]
  },
  {
   "cell_type": "markdown",
   "metadata": {},
   "source": [
    "mean accuracy보다 낮고 f1 score과 비슷하다"
   ]
  },
  {
   "cell_type": "markdown",
   "metadata": {},
   "source": [
    "## ROC Curve를 이용하여 최적의 cutoff value 찾기"
   ]
  },
  {
   "cell_type": "code",
   "execution_count": 160,
   "metadata": {},
   "outputs": [],
   "source": [
    "fpr, tpr, thresholds = roc_curve(y_test, pred) #pred는 1로 예측할 확률\n",
    "#thresholds가 cutoff value"
   ]
  },
  {
   "cell_type": "code",
   "execution_count": 161,
   "metadata": {},
   "outputs": [
    {
     "name": "stdout",
     "output_type": "stream",
     "text": [
      "Area under the ROC curve : 0.995125\n"
     ]
    }
   ],
   "source": [
    "#auc 면적 구하기\n",
    "roc_auc = auc(fpr, tpr)\n",
    "print(\"Area under the ROC curve : %f\" % roc_auc)"
   ]
  },
  {
   "cell_type": "markdown",
   "metadata": {},
   "source": [
    "거의 1에 가까운 높은 값"
   ]
  },
  {
   "cell_type": "code",
   "execution_count": 162,
   "metadata": {},
   "outputs": [],
   "source": [
    "#그래프를 그려보자\n",
    "import matplotlib.pyplot as plt\n",
    "%matplotlib inline"
   ]
  },
  {
   "cell_type": "code",
   "execution_count": 164,
   "metadata": {},
   "outputs": [
    {
     "data": {
      "text/plain": [
       "Text(0.5,1,'Logistic Regression ROC Curve')"
      ]
     },
     "execution_count": 164,
     "metadata": {},
     "output_type": "execute_result"
    },
    {
     "data": {
      "image/png": "[encoded data removed]",
      "text/plain": [
       "<Figure size 432x288 with 1 Axes>"
      ]
     },
     "metadata": {},
     "output_type": "display_data"
    }
   ],
   "source": [
    "#roc curve 그래프 그리기\n",
    "x = fpr #(1 - Specificity : 1 - TN/FP+TN)\n",
    "y = tpr #(Sensitivity : recall 값임, TP/TP+FN)\n",
    "\n",
    "plt.plot(x,y)\n",
    "plt.xlabel('1-Specificity')\n",
    "plt.ylabel('Sensitivity')\n",
    "plt.title('Logistic Regression ROC Curve')"
   ]
  },
  {
   "cell_type": "code",
   "execution_count": 165,
   "metadata": {},
   "outputs": [
    {
     "data": {
      "text/plain": [
       "[0.9606243847560119, 0.017215834379928307]"
      ]
     },
     "execution_count": 165,
     "metadata": {},
     "output_type": "execute_result"
    }
   ],
   "source": [
    "#최적의 cutoff value는 fpr - tpr에 절대값 씌운 값이 최대인 지점에서의 thresholds값이다\n",
    "res = [[abs(fpr_i - tpr_i), thres_i] for fpr_i, tpr_i, thres_i in zip(fpr, tpr, thresholds)]\n",
    "max(res)"
   ]
  },
  {
   "cell_type": "markdown",
   "metadata": {},
   "source": [
    "최적의 cutoff value는  0.017215834379928307\n",
    "\n",
    "이친구로 다시 예측을 진행해본다"
   ]
  },
  {
   "cell_type": "markdown",
   "metadata": {},
   "source": [
    "## 조정한 cutoff value로 다시 예측진행, 성능평가"
   ]
  },
  {
   "cell_type": "code",
   "execution_count": 166,
   "metadata": {},
   "outputs": [
    {
     "data": {
      "text/plain": [
       "array([[6831,  280],\n",
       "       [   1,    8]], dtype=int64)"
      ]
     },
     "execution_count": 166,
     "metadata": {},
     "output_type": "execute_result"
    }
   ],
   "source": [
    "#예측확률이 0.017215834379928307보다 클 경우 1, 작을 경우 0을 반환하는 confusion matrix 구현\n",
    "confusion_matrix(y_test,pred > 0.017215834379928307)"
   ]
  },
  {
   "cell_type": "code",
   "execution_count": 167,
   "metadata": {},
   "outputs": [
    {
     "data": {
      "text/plain": [
       "0.9247566368224504"
      ]
     },
     "execution_count": 167,
     "metadata": {},
     "output_type": "execute_result"
    }
   ],
   "source": [
    "#auc 면적 구해보기\n",
    "roc_auc_score(y_test,pred > 0.017215834379928307)"
   ]
  },
  {
   "cell_type": "markdown",
   "metadata": {},
   "source": [
    "얘는 오히려 기존값인 0.995125보다 감소"
   ]
  },
  {
   "cell_type": "code",
   "execution_count": 168,
   "metadata": {},
   "outputs": [
    {
     "data": {
      "text/plain": [
       "0.8888888888888888"
      ]
     },
     "execution_count": 168,
     "metadata": {},
     "output_type": "execute_result"
    }
   ],
   "source": [
    "recall_score(y_test,pred > 0.017215834379928307)"
   ]
  },
  {
   "cell_type": "markdown",
   "metadata": {},
   "source": [
    "recall은 0.7777777777777778보다 상승"
   ]
  },
  {
   "cell_type": "code",
   "execution_count": 169,
   "metadata": {},
   "outputs": [
    {
     "data": {
      "text/plain": [
       "0.05387205387205387"
      ]
     },
     "execution_count": 169,
     "metadata": {},
     "output_type": "execute_result"
    }
   ],
   "source": [
    "f1_score(y_test, pred > 0.017215834379928307) "
   ]
  },
  {
   "cell_type": "markdown",
   "metadata": {},
   "source": [
    "f1 score은 0.7368421052631577보다 감소"
   ]
  }
 ],
 "metadata": {
  "kernelspec": {
   "display_name": "Python 3",
   "language": "python",
   "name": "python3"
  },
  "language_info": {
   "codemirror_mode": {
    "name": "ipython",
    "version": 3
   },
   "file_extension": ".py",
   "mimetype": "text/x-python",
   "name": "python",
   "nbconvert_exporter": "python",
   "pygments_lexer": "ipython3",
   "version": "3.6.5"
  }
 },
 "nbformat": 4,
 "nbformat_minor": 2
}
