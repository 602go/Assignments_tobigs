{
 "cells": [
  {
   "cell_type": "markdown",
   "metadata": {
    "colab_type": "text",
    "id": "rnAMSwJDQMK1"
   },
   "source": [
    "# Assignment2 AlexNet 구현"
   ]
  },
  {
   "cell_type": "code",
   "execution_count": 0,
   "metadata": {
    "colab": {},
    "colab_type": "code",
    "id": "MKafOsRRy18d"
   },
   "outputs": [],
   "source": [
    "!pip install -q tensorflow-gpu==2.0.0-rc1"
   ]
  },
  {
   "cell_type": "code",
   "execution_count": 0,
   "metadata": {
    "colab": {},
    "colab_type": "code",
    "id": "DXU4yhzszMXk"
   },
   "outputs": [],
   "source": [
    "%tensorflow_version 2.x\n",
    "import tensorflow as tf\n",
    "from tensorflow.keras.models import Sequential\n",
    "from tensorflow.keras.layers import Dense, Activation, Dropout, Flatten, Conv2D, MaxPooling2D\n",
    "import numpy as np\n"
   ]
  },
  {
   "cell_type": "code",
   "execution_count": 14,
   "metadata": {
    "colab": {
     "base_uri": "https://localhost:8080/",
     "height": 650
    },
    "colab_type": "code",
    "executionInfo": {
     "elapsed": 2393,
     "status": "ok",
     "timestamp": 1584711835007,
     "user": {
      "displayName": "갱갱",
      "photoUrl": "",
      "userId": "06173154439249073995"
     },
     "user_tz": -540
    },
    "id": "n4C275dnzeHO",
    "outputId": "2c04fa29-36f8-42a3-85e4-3c19f9a4a5a7"
   },
   "outputs": [
    {
     "name": "stdout",
     "output_type": "stream",
     "text": [
      "Model: \"sequential_2\"\n",
      "_________________________________________________________________\n",
      "Layer (type)                 Output Shape              Param #   \n",
      "=================================================================\n",
      "conv2d (Conv2D)              (None, 55, 55, 96)        34944     \n",
      "_________________________________________________________________\n",
      "max_pooling2d (MaxPooling2D) (None, 27, 27, 96)        0         \n",
      "_________________________________________________________________\n",
      "conv2d_1 (Conv2D)            (None, 27, 27, 256)       614656    \n",
      "_________________________________________________________________\n",
      "max_pooling2d_1 (MaxPooling2 (None, 13, 13, 256)       0         \n",
      "_________________________________________________________________\n",
      "conv2d_2 (Conv2D)            (None, 13, 13, 384)       885120    \n",
      "_________________________________________________________________\n",
      "conv2d_3 (Conv2D)            (None, 13, 13, 384)       1327488   \n",
      "_________________________________________________________________\n",
      "conv2d_4 (Conv2D)            (None, 13, 13, 384)       1327488   \n",
      "_________________________________________________________________\n",
      "max_pooling2d_2 (MaxPooling2 (None, 6, 6, 384)         0         \n",
      "_________________________________________________________________\n",
      "flatten (Flatten)            (None, 13824)             0         \n",
      "_________________________________________________________________\n",
      "dense (Dense)                (None, 4096)              56627200  \n",
      "_________________________________________________________________\n",
      "dropout (Dropout)            (None, 4096)              0         \n",
      "_________________________________________________________________\n",
      "dense_1 (Dense)              (None, 4096)              16781312  \n",
      "_________________________________________________________________\n",
      "dropout_1 (Dropout)          (None, 4096)              0         \n",
      "_________________________________________________________________\n",
      "dense_2 (Dense)              (None, 1000)              4097000   \n",
      "=================================================================\n",
      "Total params: 81,695,208\n",
      "Trainable params: 81,695,208\n",
      "Non-trainable params: 0\n",
      "_________________________________________________________________\n"
     ]
    }
   ],
   "source": [
    "#모델 생성\n",
    "model = Sequential()\n",
    "\n",
    "#Layer 1: Convolution Layer_1\n",
    "model.add(Conv2D(filters=96, input_shape=(227,227,3), kernel_size=(11,11), strides=4, padding='valid', activation='relu'))\n",
    "\n",
    "#Layer 2: Max Pooling\n",
    "model.add(MaxPooling2D(pool_size=(3,3), strides=2))\n",
    "\n",
    "#Layer 3: Convolution Layer_2\n",
    "model.add(Conv2D(filters=256, input_shape=(27,27,96), kernel_size=(5,5), strides=1, padding='same', activation='relu'))\n",
    "\n",
    "#Layer 4: Max Pooling\n",
    "model.add(MaxPooling2D(pool_size=(3,3), strides=2))\n",
    "\n",
    "#Layer 5: Convolution Layer_3\n",
    "model.add(Conv2D(filters=384, input_shape=(13,13,256), kernel_size=(3,3), strides=1, padding='same', activation='relu'))\n",
    "\n",
    "#Layer 6: Convolution Layer_4\n",
    "model.add(Conv2D(filters=384, input_shape=(13,13,384), kernel_size=(3,3), strides=1, padding='same', activation='relu'))\n",
    "\n",
    "#Layer 7: Convolution Layer_5\n",
    "model.add(Conv2D(filters=384, input_shape=(13,13,384), kernel_size=(3,3), strides=1, padding='same', activation='relu'))\n",
    "\n",
    "#Layer 8: Max Pooling\n",
    "model.add(MaxPooling2D(pool_size=(3,3), strides=2))\n",
    "\n",
    "#Passing it to fully connected layer #flatten\n",
    "model.add(Flatten())\n",
    "\n",
    "#Layer 9: Fully connected layer_1\n",
    "model.add(Dense(4096, activation='relu'))\n",
    "model.add(Dropout(0.5))\n",
    "\n",
    "#Layer 10: Fully connected layer_2\n",
    "model.add(Dense(4096, activation='relu'))\n",
    "model.add(Dropout(0.5))\n",
    "\n",
    "#Layer 11: Fully connected layer_3\n",
    "model.add(Dense(1000, activation='softmax'))\n",
    "\n",
    "\n",
    "#model summary\n",
    "model.summary()\n",
    "\n",
    "\n",
    "\n",
    "\n",
    "\n"
   ]
  },
  {
   "cell_type": "markdown",
   "metadata": {
    "colab": {},
    "colab_type": "code",
    "id": "_qFtAGusQKMS"
   },
   "source": [
    "모델구조는 summary에 나온것처럼 총 8개의 층(5개의 convolutional layers와 3개의 fully connected layers)로 구성되어 있고 convolutional layers 중간중간에 max pooling으로 픽셀크기를 줄여준다. convolutional layer에서 fully connected layer로 넘어가기 전에는 flatten 과정을 통해 1차원으로 펴준다. fully connected layer 중간중간에는 dropout을 추가해서 overfitting을 방지한다,"
   ]
  }
 ],
 "metadata": {
  "accelerator": "GPU",
  "colab": {
   "authorship_tag": "ABX9TyMPi1pb2AxWRMxL467jWcLX",
   "collapsed_sections": [],
   "mount_file_id": "1e8ZvHVY9RzAYiwC4Zuj8tZotcGZvizSZ",
   "name": "tobigs_yookyung_week8_CNN_AlexNet.ipynb",
   "provenance": []
  },
  "kernelspec": {
   "display_name": "Python 3",
   "language": "python",
   "name": "python3"
  },
  "language_info": {
   "codemirror_mode": {
    "name": "ipython",
    "version": 3
   },
   "file_extension": ".py",
   "mimetype": "text/x-python",
   "name": "python",
   "nbconvert_exporter": "python",
   "pygments_lexer": "ipython3",
   "version": "3.6.5"
  }
 },
 "nbformat": 4,
 "nbformat_minor": 1
}
