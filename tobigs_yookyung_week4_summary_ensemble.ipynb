{
 "cells": [
  {
   "cell_type": "markdown",
   "metadata": {},
   "source": [
    "### 앙상블 캐글 문서 요약\n",
    "\n",
    "[Guide to Ensembling methods -1](https://www.kaggle.com/amrmahmoud123/1-guide-to-ensembling-methods)\n",
    "\n"
   ]
  },
  {
   "cell_type": "markdown",
   "metadata": {},
   "source": [
    "# 1. Introduction to ensembling"
   ]
  },
  {
   "cell_type": "markdown",
   "metadata": {},
   "source": [
    "### Errors\n",
    "\n",
    "Err(x) = Bias^2 + Variance + Irreducible Error\n",
    "\n",
    "1) Bias error\n",
    "- how much on an average are the predicted values different from the actual value.\n",
    "\n",
    "2) Variance(분산)\n",
    "- how are the prediction made on same observation different from each other.\n"
   ]
  },
  {
   "cell_type": "markdown",
   "metadata": {},
   "source": [
    "### trade-off management of bias-variance errors\n",
    "- **overfitting (low bias, high variance)**\n",
    "\n",
    "- **underfitting (high bias, low variance)**\n",
    "\n",
    "\n",
    "Ensemble learning is one way to execute this trade off analysis."
   ]
  },
  {
   "cell_type": "markdown",
   "metadata": {},
   "source": [
    "## Ensemble\n",
    "- group of predictors => **ensemble learning**\n",
    "- Ensemble Learning algorithm => **Ensemble method**\n",
    "- cf) wisdom of the crowd\n",
    "    - aggregate the predictions of a group of predictors => better predictions"
   ]
  },
  {
   "cell_type": "markdown",
   "metadata": {},
   "source": [
    "# 2. Types of ensembling\n",
    "## 1) Basic Ensemble Techniques"
   ]
  },
  {
   "cell_type": "markdown",
   "metadata": {},
   "source": [
    "### - Max Voting\n",
    "\n",
    "- classification problems\n",
    "- predictions by each model =‘vote'\n",
    "- major predictions = final prediction.\n",
    "- **Hard Voting**\n",
    "    - majority voting\n",
    "- **Soft Voting**\n",
    "    - gives more weight to highly confident votes\n",
    "    - predict the class labels based on the predicted probabilities 'p' for classifier\n",
    "    - only recommended if the classifiers are well-calibrated\n",
    "    - replace voting='hard' with voting='soft'"
   ]
  },
  {
   "cell_type": "markdown",
   "metadata": {},
   "source": [
    "### - Averaging\n",
    "- take average of predictions from all models => makes final prediction\n",
    "- regression problems or calculating probabilities for classification problems"
   ]
  },
  {
   "cell_type": "markdown",
   "metadata": {},
   "source": [
    "### - Weighted Average\n",
    "- All models are assigned different weights defining importance of each model for prediction"
   ]
  },
  {
   "cell_type": "markdown",
   "metadata": {},
   "source": [
    "## 2) Advanced Ensemble techniques"
   ]
  },
  {
   "cell_type": "markdown",
   "metadata": {},
   "source": [
    "### - Bagging\n",
    "- based on the statistical method of **bootstrapping**\n",
    "- irons out variance from a data set\n",
    "- saving each prediction set and averaging them together\n",
    "- avoids over-fitting, stabilizes your predictions and increases your accuracy\n",
    "- Bagging algorithms\n",
    "    - Bagging meta-estimator\n",
    "        - used for both classification (BaggingClassifier) and regression (BaggingRegressor) problems\n",
    "        - typical bagging technique\n",
    "    - Random forest\n",
    "        - extension of the bagging estimator algorithm\n",
    "        - randomly selects data points and features, and builds multiple trees (Forest)"
   ]
  },
  {
   "cell_type": "markdown",
   "metadata": {},
   "source": [
    "### - Boosting\n",
    "- converts weak learner to strong learners\n",
    "- to train weak learners sequentially, each trying to correct its predecessor"
   ]
  },
  {
   "cell_type": "markdown",
   "metadata": {},
   "source": [
    "### - Adaptive boosting (AdaBoost)\n",
    "- use decision trees\n",
    "- Multiple sequential models are created, each correcting the errors from the last model\n",
    "- assigns weights to the observations which are incorrectly predicted and the subsequent model works to predict these values correctly"
   ]
  },
  {
   "cell_type": "markdown",
   "metadata": {},
   "source": [
    "### - Stacking\n",
    "- similar to boosting(apply several models to original data)\n",
    "- introduce a meta-level and use another model/approach to estimate the input together with outputs of every model to estimate the weights\n",
    "- determine what models perform well and what badly given these input data\n"
   ]
  }
 ],
 "metadata": {
  "kernelspec": {
   "display_name": "Python 3",
   "language": "python",
   "name": "python3"
  },
  "language_info": {
   "codemirror_mode": {
    "name": "ipython",
    "version": 3
   },
   "file_extension": ".py",
   "mimetype": "text/x-python",
   "name": "python",
   "nbconvert_exporter": "python",
   "pygments_lexer": "ipython3",
   "version": "3.6.5"
  }
 },
 "nbformat": 4,
 "nbformat_minor": 2
}
